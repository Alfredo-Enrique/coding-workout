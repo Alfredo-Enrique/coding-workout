{
 "cells": [
  {
   "cell_type": "code",
   "execution_count": 2,
   "metadata": {},
   "outputs": [],
   "source": [
    "#!/usr/bin/env python3\n",
    "\"\"\"Solution to chapter 5, exercise 18, beyond 2: sum_mult_columns\"\"\"\n",
    "\n",
    "\n",
    "def sum_mult_columns(filename):\n",
    "    total = 0\n",
    "\n",
    "    for one_line in open(filename):\n",
    "        fields = one_line.split()\n",
    "\n",
    "        if len(fields) != 2:\n",
    "            continue\n",
    "\n",
    "        first, second = fields\n",
    "\n",
    "        if not first.isdigit():\n",
    "            continue\n",
    "\n",
    "        if not second.isdigit():\n",
    "            continue\n",
    "\n",
    "        total += first * second\n",
    "\n",
    "    return total\n"
   ]
  },
  {
   "cell_type": "code",
   "execution_count": 3,
   "metadata": {},
   "outputs": [
    {
     "ename": "TypeError",
     "evalue": "can't multiply sequence by non-int of type 'str'",
     "output_type": "error",
     "traceback": [
      "\u001b[0;31m---------------------------------------------------------------------------\u001b[0m",
      "\u001b[0;31mTypeError\u001b[0m                                 Traceback (most recent call last)",
      "\u001b[0;32m<ipython-input-3-474a9413ca30>\u001b[0m in \u001b[0;36m<module>\u001b[0;34m\u001b[0m\n\u001b[0;32m----> 1\u001b[0;31m \u001b[0msum_mult_columns\u001b[0m\u001b[0;34m(\u001b[0m\u001b[0;34m'test_file.txt'\u001b[0m\u001b[0;34m)\u001b[0m\u001b[0;34m\u001b[0m\u001b[0;34m\u001b[0m\u001b[0m\n\u001b[0m",
      "\u001b[0;32m<ipython-input-2-8188f55b9216>\u001b[0m in \u001b[0;36msum_mult_columns\u001b[0;34m(filename)\u001b[0m\n\u001b[1;32m     20\u001b[0m             \u001b[0;32mcontinue\u001b[0m\u001b[0;34m\u001b[0m\u001b[0;34m\u001b[0m\u001b[0m\n\u001b[1;32m     21\u001b[0m \u001b[0;34m\u001b[0m\u001b[0m\n\u001b[0;32m---> 22\u001b[0;31m         \u001b[0mtotal\u001b[0m \u001b[0;34m+=\u001b[0m \u001b[0mfirst\u001b[0m \u001b[0;34m*\u001b[0m \u001b[0msecond\u001b[0m\u001b[0;34m\u001b[0m\u001b[0;34m\u001b[0m\u001b[0m\n\u001b[0m\u001b[1;32m     23\u001b[0m \u001b[0;34m\u001b[0m\u001b[0m\n\u001b[1;32m     24\u001b[0m     \u001b[0;32mreturn\u001b[0m \u001b[0mtotal\u001b[0m\u001b[0;34m\u001b[0m\u001b[0;34m\u001b[0m\u001b[0m\n",
      "\u001b[0;31mTypeError\u001b[0m: can't multiply sequence by non-int of type 'str'"
     ]
    }
   ],
   "source": [
    "sum_mult_columns('test_file.txt')"
   ]
  },
  {
   "cell_type": "code",
   "execution_count": 4,
   "metadata": {},
   "outputs": [],
   "source": [
    "#!/usr/bin/env python3\n",
    "\"\"\"Solution to chapter 5, exercise 18, beyond 2: sum_mult_columns\"\"\"\n",
    "\n",
    "\n",
    "def sum_mult_columns(filename):\n",
    "    total = 0\n",
    "\n",
    "    for one_line in open(filename):\n",
    "        fields = one_line.split()\n",
    "\n",
    "        if len(fields) != 2:\n",
    "            continue\n",
    "\n",
    "        first, second = fields\n",
    "\n",
    "        if not first.isdigit():\n",
    "            continue\n",
    "\n",
    "        if not second.isdigit():\n",
    "            continue\n",
    "\n",
    "        total += int(first) * int(second)\n",
    "\n",
    "    return total\n"
   ]
  },
  {
   "cell_type": "code",
   "execution_count": 5,
   "metadata": {},
   "outputs": [
    {
     "data": {
      "text/plain": [
       "1500"
      ]
     },
     "execution_count": 5,
     "metadata": {},
     "output_type": "execute_result"
    }
   ],
   "source": [
    "sum_mult_columns('test_file.txt')"
   ]
  },
  {
   "cell_type": "code",
   "execution_count": 6,
   "metadata": {},
   "outputs": [],
   "source": [
    "def count_vowels(filename):\n",
    "    output = dict.fromkeys('aeiou', 0)\n",
    "\n",
    "    for one_line in open(filename):\n",
    "        for one_character in one_line.lower():\n",
    "            if one_character in output:\n",
    "                output[one_character] += 1\n",
    "\n",
    "    return output\n"
   ]
  },
  {
   "cell_type": "code",
   "execution_count": 7,
   "metadata": {},
   "outputs": [
    {
     "data": {
      "text/plain": [
       "{'a': 431, 'e': 553, 'i': 298, 'o': 224, 'u': 172}"
      ]
     },
     "execution_count": 7,
     "metadata": {},
     "output_type": "execute_result"
    }
   ],
   "source": [
    "count_vowels('/etc/passwd')"
   ]
  },
  {
   "cell_type": "code",
   "execution_count": 8,
   "metadata": {},
   "outputs": [],
   "source": [
    "from collections import defaultdict\n",
    "\n",
    "\n",
    "def shells_users(filename):\n",
    "    output = defaultdict(list)\n",
    "\n",
    "    for one_line in open(filename):\n",
    "        if one_line.startswith(('#', '\\n')):\n",
    "            continue\n",
    "        username, *ignore, shell = one_line.strip().split(':')\n",
    "\n",
    "        output[shell].append(username)\n",
    "\n",
    "    return output\n"
   ]
  },
  {
   "cell_type": "code",
   "execution_count": 10,
   "metadata": {},
   "outputs": [
    {
     "name": "stdout",
     "output_type": "stream",
     "text": [
      "/usr/bin/false: ['nobody', 'daemon', '_taskgated', '_networkd', '_installassistant', '_lp', '_postfix', '_scsd', '_ces', '_appstore', '_mcxalr', '_appleevents', '_geod', '_devdocs', '_sandbox', '_mdnsresponder', '_ard', '_www', '_eppc', '_cvs', '_svn', '_mysql', '_sshd', '_qtss', '_cyrus', '_mailman', '_appserver', '_clamav', '_amavisd', '_jabber', '_appowner', '_windowserver', '_spotlight', '_tokend', '_securityagent', '_calendar', '_teamsserver', '_update_sharing', '_installer', '_atsserver', '_ftp', '_unknown', '_softwareupdate', '_coreaudiod', '_screensaver', '_locationd', '_trustevaluationagent', '_timezone', '_lda', '_cvmsroot', '_usbmuxd', '_dovecot', '_dpaudio', '_postgres', '_krbtgt', '_kadmin_admin', '_kadmin_changepw', '_devicemgr', '_webauthserver', '_netbios', '_warmd', '_dovenull', '_netstatistics', '_avbdeviced', '_krb_krbtgt', '_krb_kadmin', '_krb_changepw', '_krb_kerberos', '_krb_anonymous', '_assetcache', '_coremediaiod', '_launchservicesd', '_iconservices', '_distnote', '_nsurlsessiond', '_nsurlstoraged', '_displaypolicyd', '_astris', '_krbfast', '_gamecontrollerd', '_ondemand', '_xserverdocs', '_wwwproxy', '_mobileasset', '_findmydevice', '_datadetectors', '_captiveagent', '_ctkd', '_applepay', '_hidd', '_cmiodalassistants', '_analyticsd', '_fpsd', '_timed', '_nearbyd', '_reportmemoryexception', '_driverkit']\n",
      "/bin/sh: ['root']\n",
      "/usr/sbin/uucico: ['_uucp']\n",
      "/bin/bash: ['_mbsetupuser']\n"
     ]
    }
   ],
   "source": [
    "for key, value in shells_users('/etc/passwd').items():\n",
    "    print(f'{key}: {value}')"
   ]
  },
  {
   "cell_type": "code",
   "execution_count": 11,
   "metadata": {},
   "outputs": [],
   "source": [
    "#!/usr/bin/env python3\n",
    "\"\"\"Solution to chapter 5, exercise 19, beyond 2: factors\"\"\"\n",
    "\n",
    "from collections import defaultdict\n",
    "\n",
    "\n",
    "def factors():\n",
    "    output = defaultdict(list)\n",
    "\n",
    "    numbers = input(\"Enter numbers, separated by spaces: \").split()\n",
    "\n",
    "    for one_number in numbers:\n",
    "        if not one_number.isdigit():\n",
    "            print(f'Ignoring {one_number}')\n",
    "            continue\n",
    "\n",
    "        one_number = int(one_number)\n",
    "        for i in range(1, one_number):\n",
    "            if not one_number % i:\n",
    "                output[one_number].append(i)\n",
    "\n",
    "        output[one_number].append(one_number)\n",
    "\n",
    "    return output\n"
   ]
  },
  {
   "cell_type": "code",
   "execution_count": 13,
   "metadata": {},
   "outputs": [
    {
     "name": "stdout",
     "output_type": "stream",
     "text": [
      "Enter numbers, separated by spaces: 10 20 23 25 18 72\n"
     ]
    },
    {
     "data": {
      "text/plain": [
       "defaultdict(list,\n",
       "            {10: [1, 2, 5, 10],\n",
       "             20: [1, 2, 4, 5, 10, 20],\n",
       "             23: [1, 23],\n",
       "             25: [1, 5, 25],\n",
       "             18: [1, 2, 3, 6, 9, 18],\n",
       "             72: [1, 2, 3, 4, 6, 8, 9, 12, 18, 24, 36, 72]})"
      ]
     },
     "execution_count": 13,
     "metadata": {},
     "output_type": "execute_result"
    }
   ],
   "source": [
    "factors()"
   ]
  },
  {
   "cell_type": "code",
   "execution_count": 14,
   "metadata": {},
   "outputs": [],
   "source": [
    "#!/usr/bin/env python3\n",
    "\"\"\"Solution to chapter 5, exercise 19, beyond 2: user_info\"\"\"\n",
    "\n",
    "\n",
    "def user_info(filename):\n",
    "    output = {}\n",
    "\n",
    "    for one_line in open(filename):\n",
    "        if one_line.startswith(('#', '\\n')):\n",
    "            continue\n",
    "        username, uid, *ignore, homedir, shell = one_line.strip().split(':')\n",
    "\n",
    "        output[username] = {'uid': uid,\n",
    "                            'homedir': homedir,\n",
    "                            'shell': shell}\n",
    "\n",
    "    return output\n"
   ]
  },
  {
   "cell_type": "code",
   "execution_count": 15,
   "metadata": {},
   "outputs": [
    {
     "data": {
      "text/plain": [
       "{'nobody': {'uid': '*', 'homedir': '/var/empty', 'shell': '/usr/bin/false'},\n",
       " 'root': {'uid': '*', 'homedir': '/var/root', 'shell': '/bin/sh'},\n",
       " 'daemon': {'uid': '*', 'homedir': '/var/root', 'shell': '/usr/bin/false'},\n",
       " '_uucp': {'uid': '*',\n",
       "  'homedir': '/var/spool/uucp',\n",
       "  'shell': '/usr/sbin/uucico'},\n",
       " '_taskgated': {'uid': '*',\n",
       "  'homedir': '/var/empty',\n",
       "  'shell': '/usr/bin/false'},\n",
       " '_networkd': {'uid': '*',\n",
       "  'homedir': '/var/networkd',\n",
       "  'shell': '/usr/bin/false'},\n",
       " '_installassistant': {'uid': '*',\n",
       "  'homedir': '/var/empty',\n",
       "  'shell': '/usr/bin/false'},\n",
       " '_lp': {'uid': '*', 'homedir': '/var/spool/cups', 'shell': '/usr/bin/false'},\n",
       " '_postfix': {'uid': '*',\n",
       "  'homedir': '/var/spool/postfix',\n",
       "  'shell': '/usr/bin/false'},\n",
       " '_scsd': {'uid': '*', 'homedir': '/var/empty', 'shell': '/usr/bin/false'},\n",
       " '_ces': {'uid': '*', 'homedir': '/var/empty', 'shell': '/usr/bin/false'},\n",
       " '_appstore': {'uid': '*',\n",
       "  'homedir': '/var/db/appstore',\n",
       "  'shell': '/usr/bin/false'},\n",
       " '_mcxalr': {'uid': '*', 'homedir': '/var/empty', 'shell': '/usr/bin/false'},\n",
       " '_appleevents': {'uid': '*',\n",
       "  'homedir': '/var/empty',\n",
       "  'shell': '/usr/bin/false'},\n",
       " '_geod': {'uid': '*', 'homedir': '/var/db/geod', 'shell': '/usr/bin/false'},\n",
       " '_devdocs': {'uid': '*', 'homedir': '/var/empty', 'shell': '/usr/bin/false'},\n",
       " '_sandbox': {'uid': '*', 'homedir': '/var/empty', 'shell': '/usr/bin/false'},\n",
       " '_mdnsresponder': {'uid': '*',\n",
       "  'homedir': '/var/empty',\n",
       "  'shell': '/usr/bin/false'},\n",
       " '_ard': {'uid': '*', 'homedir': '/var/empty', 'shell': '/usr/bin/false'},\n",
       " '_www': {'uid': '*',\n",
       "  'homedir': '/Library/WebServer',\n",
       "  'shell': '/usr/bin/false'},\n",
       " '_eppc': {'uid': '*', 'homedir': '/var/empty', 'shell': '/usr/bin/false'},\n",
       " '_cvs': {'uid': '*', 'homedir': '/var/empty', 'shell': '/usr/bin/false'},\n",
       " '_svn': {'uid': '*', 'homedir': '/var/empty', 'shell': '/usr/bin/false'},\n",
       " '_mysql': {'uid': '*', 'homedir': '/var/empty', 'shell': '/usr/bin/false'},\n",
       " '_sshd': {'uid': '*', 'homedir': '/var/empty', 'shell': '/usr/bin/false'},\n",
       " '_qtss': {'uid': '*', 'homedir': '/var/empty', 'shell': '/usr/bin/false'},\n",
       " '_cyrus': {'uid': '*', 'homedir': '/var/imap', 'shell': '/usr/bin/false'},\n",
       " '_mailman': {'uid': '*', 'homedir': '/var/empty', 'shell': '/usr/bin/false'},\n",
       " '_appserver': {'uid': '*',\n",
       "  'homedir': '/var/empty',\n",
       "  'shell': '/usr/bin/false'},\n",
       " '_clamav': {'uid': '*',\n",
       "  'homedir': '/var/virusmails',\n",
       "  'shell': '/usr/bin/false'},\n",
       " '_amavisd': {'uid': '*',\n",
       "  'homedir': '/var/virusmails',\n",
       "  'shell': '/usr/bin/false'},\n",
       " '_jabber': {'uid': '*', 'homedir': '/var/empty', 'shell': '/usr/bin/false'},\n",
       " '_appowner': {'uid': '*', 'homedir': '/var/empty', 'shell': '/usr/bin/false'},\n",
       " '_windowserver': {'uid': '*',\n",
       "  'homedir': '/var/empty',\n",
       "  'shell': '/usr/bin/false'},\n",
       " '_spotlight': {'uid': '*',\n",
       "  'homedir': '/var/empty',\n",
       "  'shell': '/usr/bin/false'},\n",
       " '_tokend': {'uid': '*', 'homedir': '/var/empty', 'shell': '/usr/bin/false'},\n",
       " '_securityagent': {'uid': '*',\n",
       "  'homedir': '/var/db/securityagent',\n",
       "  'shell': '/usr/bin/false'},\n",
       " '_calendar': {'uid': '*', 'homedir': '/var/empty', 'shell': '/usr/bin/false'},\n",
       " '_teamsserver': {'uid': '*',\n",
       "  'homedir': '/var/teamsserver',\n",
       "  'shell': '/usr/bin/false'},\n",
       " '_update_sharing': {'uid': '*',\n",
       "  'homedir': '/var/empty',\n",
       "  'shell': '/usr/bin/false'},\n",
       " '_installer': {'uid': '*',\n",
       "  'homedir': '/var/empty',\n",
       "  'shell': '/usr/bin/false'},\n",
       " '_atsserver': {'uid': '*',\n",
       "  'homedir': '/var/empty',\n",
       "  'shell': '/usr/bin/false'},\n",
       " '_ftp': {'uid': '*', 'homedir': '/var/empty', 'shell': '/usr/bin/false'},\n",
       " '_unknown': {'uid': '*', 'homedir': '/var/empty', 'shell': '/usr/bin/false'},\n",
       " '_softwareupdate': {'uid': '*',\n",
       "  'homedir': '/var/db/softwareupdate',\n",
       "  'shell': '/usr/bin/false'},\n",
       " '_coreaudiod': {'uid': '*',\n",
       "  'homedir': '/var/empty',\n",
       "  'shell': '/usr/bin/false'},\n",
       " '_screensaver': {'uid': '*',\n",
       "  'homedir': '/var/empty',\n",
       "  'shell': '/usr/bin/false'},\n",
       " '_locationd': {'uid': '*',\n",
       "  'homedir': '/var/db/locationd',\n",
       "  'shell': '/usr/bin/false'},\n",
       " '_trustevaluationagent': {'uid': '*',\n",
       "  'homedir': '/var/empty',\n",
       "  'shell': '/usr/bin/false'},\n",
       " '_timezone': {'uid': '*', 'homedir': '/var/empty', 'shell': '/usr/bin/false'},\n",
       " '_lda': {'uid': '*', 'homedir': '/var/empty', 'shell': '/usr/bin/false'},\n",
       " '_cvmsroot': {'uid': '*', 'homedir': '/var/empty', 'shell': '/usr/bin/false'},\n",
       " '_usbmuxd': {'uid': '*',\n",
       "  'homedir': '/var/db/lockdown',\n",
       "  'shell': '/usr/bin/false'},\n",
       " '_dovecot': {'uid': '*', 'homedir': '/var/empty', 'shell': '/usr/bin/false'},\n",
       " '_dpaudio': {'uid': '*', 'homedir': '/var/empty', 'shell': '/usr/bin/false'},\n",
       " '_postgres': {'uid': '*', 'homedir': '/var/empty', 'shell': '/usr/bin/false'},\n",
       " '_krbtgt': {'uid': '*', 'homedir': '/var/empty', 'shell': '/usr/bin/false'},\n",
       " '_kadmin_admin': {'uid': '*',\n",
       "  'homedir': '/var/empty',\n",
       "  'shell': '/usr/bin/false'},\n",
       " '_kadmin_changepw': {'uid': '*',\n",
       "  'homedir': '/var/empty',\n",
       "  'shell': '/usr/bin/false'},\n",
       " '_devicemgr': {'uid': '*',\n",
       "  'homedir': '/var/empty',\n",
       "  'shell': '/usr/bin/false'},\n",
       " '_webauthserver': {'uid': '*',\n",
       "  'homedir': '/var/empty',\n",
       "  'shell': '/usr/bin/false'},\n",
       " '_netbios': {'uid': '*', 'homedir': '/var/empty', 'shell': '/usr/bin/false'},\n",
       " '_warmd': {'uid': '*', 'homedir': '/var/empty', 'shell': '/usr/bin/false'},\n",
       " '_dovenull': {'uid': '*', 'homedir': '/var/empty', 'shell': '/usr/bin/false'},\n",
       " '_netstatistics': {'uid': '*',\n",
       "  'homedir': '/var/empty',\n",
       "  'shell': '/usr/bin/false'},\n",
       " '_avbdeviced': {'uid': '*',\n",
       "  'homedir': '/var/empty',\n",
       "  'shell': '/usr/bin/false'},\n",
       " '_krb_krbtgt': {'uid': '*',\n",
       "  'homedir': '/var/empty',\n",
       "  'shell': '/usr/bin/false'},\n",
       " '_krb_kadmin': {'uid': '*',\n",
       "  'homedir': '/var/empty',\n",
       "  'shell': '/usr/bin/false'},\n",
       " '_krb_changepw': {'uid': '*',\n",
       "  'homedir': '/var/empty',\n",
       "  'shell': '/usr/bin/false'},\n",
       " '_krb_kerberos': {'uid': '*',\n",
       "  'homedir': '/var/empty',\n",
       "  'shell': '/usr/bin/false'},\n",
       " '_krb_anonymous': {'uid': '*',\n",
       "  'homedir': '/var/empty',\n",
       "  'shell': '/usr/bin/false'},\n",
       " '_assetcache': {'uid': '*',\n",
       "  'homedir': '/var/empty',\n",
       "  'shell': '/usr/bin/false'},\n",
       " '_coremediaiod': {'uid': '*',\n",
       "  'homedir': '/var/empty',\n",
       "  'shell': '/usr/bin/false'},\n",
       " '_launchservicesd': {'uid': '*',\n",
       "  'homedir': '/var/empty',\n",
       "  'shell': '/usr/bin/false'},\n",
       " '_iconservices': {'uid': '*',\n",
       "  'homedir': '/var/empty',\n",
       "  'shell': '/usr/bin/false'},\n",
       " '_distnote': {'uid': '*', 'homedir': '/var/empty', 'shell': '/usr/bin/false'},\n",
       " '_nsurlsessiond': {'uid': '*',\n",
       "  'homedir': '/var/db/nsurlsessiond',\n",
       "  'shell': '/usr/bin/false'},\n",
       " '_nsurlstoraged': {'uid': '*',\n",
       "  'homedir': '/var/db/nsurlstoraged',\n",
       "  'shell': '/usr/bin/false'},\n",
       " '_displaypolicyd': {'uid': '*',\n",
       "  'homedir': '/var/empty',\n",
       "  'shell': '/usr/bin/false'},\n",
       " '_astris': {'uid': '*',\n",
       "  'homedir': '/var/db/astris',\n",
       "  'shell': '/usr/bin/false'},\n",
       " '_krbfast': {'uid': '*', 'homedir': '/var/empty', 'shell': '/usr/bin/false'},\n",
       " '_gamecontrollerd': {'uid': '*',\n",
       "  'homedir': '/var/empty',\n",
       "  'shell': '/usr/bin/false'},\n",
       " '_mbsetupuser': {'uid': '*', 'homedir': '/var/setup', 'shell': '/bin/bash'},\n",
       " '_ondemand': {'uid': '*',\n",
       "  'homedir': '/var/db/ondemand',\n",
       "  'shell': '/usr/bin/false'},\n",
       " '_xserverdocs': {'uid': '*',\n",
       "  'homedir': '/var/empty',\n",
       "  'shell': '/usr/bin/false'},\n",
       " '_wwwproxy': {'uid': '*', 'homedir': '/var/empty', 'shell': '/usr/bin/false'},\n",
       " '_mobileasset': {'uid': '*', 'homedir': '/var/ma', 'shell': '/usr/bin/false'},\n",
       " '_findmydevice': {'uid': '*',\n",
       "  'homedir': '/var/db/findmydevice',\n",
       "  'shell': '/usr/bin/false'},\n",
       " '_datadetectors': {'uid': '*',\n",
       "  'homedir': '/var/db/datadetectors',\n",
       "  'shell': '/usr/bin/false'},\n",
       " '_captiveagent': {'uid': '*',\n",
       "  'homedir': '/var/empty',\n",
       "  'shell': '/usr/bin/false'},\n",
       " '_ctkd': {'uid': '*', 'homedir': '/var/empty', 'shell': '/usr/bin/false'},\n",
       " '_applepay': {'uid': '*',\n",
       "  'homedir': '/var/db/applepay',\n",
       "  'shell': '/usr/bin/false'},\n",
       " '_hidd': {'uid': '*', 'homedir': '/var/db/hidd', 'shell': '/usr/bin/false'},\n",
       " '_cmiodalassistants': {'uid': '*',\n",
       "  'homedir': '/var/db/cmiodalassistants',\n",
       "  'shell': '/usr/bin/false'},\n",
       " '_analyticsd': {'uid': '*',\n",
       "  'homedir': '/var/db/analyticsd',\n",
       "  'shell': '/usr/bin/false'},\n",
       " '_fpsd': {'uid': '*', 'homedir': '/var/db/fpsd', 'shell': '/usr/bin/false'},\n",
       " '_timed': {'uid': '*', 'homedir': '/var/db/timed', 'shell': '/usr/bin/false'},\n",
       " '_nearbyd': {'uid': '*',\n",
       "  'homedir': '/var/db/nearbyd',\n",
       "  'shell': '/usr/bin/false'},\n",
       " '_reportmemoryexception': {'uid': '*',\n",
       "  'homedir': '/var/db/reportmemoryexception',\n",
       "  'shell': '/usr/bin/false'},\n",
       " '_driverkit': {'uid': '*',\n",
       "  'homedir': '/var/empty',\n",
       "  'shell': '/usr/bin/false'}}"
      ]
     },
     "execution_count": 15,
     "metadata": {},
     "output_type": "execute_result"
    }
   ],
   "source": [
    "user_info('/etc/passwd')"
   ]
  },
  {
   "cell_type": "code",
   "execution_count": null,
   "metadata": {},
   "outputs": [],
   "source": []
  }
 ],
 "metadata": {
  "kernelspec": {
   "display_name": "Python 3",
   "language": "python",
   "name": "python3"
  },
  "language_info": {
   "codemirror_mode": {
    "name": "ipython",
    "version": 3
   },
   "file_extension": ".py",
   "mimetype": "text/x-python",
   "name": "python",
   "nbconvert_exporter": "python",
   "pygments_lexer": "ipython3",
   "version": "3.8.5"
  }
 },
 "nbformat": 4,
 "nbformat_minor": 4
}
