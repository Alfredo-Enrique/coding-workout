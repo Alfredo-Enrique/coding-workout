{
 "cells": [
  {
   "cell_type": "code",
   "execution_count": 2,
   "metadata": {},
   "outputs": [],
   "source": [
    "#!/usr/bin/env python3\n",
    "\"\"\"Solution to chapter 5, exercise 18, beyond 2: sum_mult_columns\"\"\"\n",
    "\n",
    "\n",
    "def sum_mult_columns(filename):\n",
    "    total = 0\n",
    "\n",
    "    for one_line in open(filename):\n",
    "        fields = one_line.split()\n",
    "\n",
    "        if len(fields) != 2:\n",
    "            continue\n",
    "\n",
    "        first, second = fields\n",
    "\n",
    "        if not first.isdigit():\n",
    "            continue\n",
    "\n",
    "        if not second.isdigit():\n",
    "            continue\n",
    "\n",
    "        total += first * second\n",
    "\n",
    "    return total\n"
   ]
  },
  {
   "cell_type": "code",
   "execution_count": 3,
   "metadata": {},
   "outputs": [
    {
     "ename": "TypeError",
     "evalue": "can't multiply sequence by non-int of type 'str'",
     "output_type": "error",
     "traceback": [
      "\u001b[0;31m---------------------------------------------------------------------------\u001b[0m",
      "\u001b[0;31mTypeError\u001b[0m                                 Traceback (most recent call last)",
      "\u001b[0;32m<ipython-input-3-474a9413ca30>\u001b[0m in \u001b[0;36m<module>\u001b[0;34m\u001b[0m\n\u001b[0;32m----> 1\u001b[0;31m \u001b[0msum_mult_columns\u001b[0m\u001b[0;34m(\u001b[0m\u001b[0;34m'test_file.txt'\u001b[0m\u001b[0;34m)\u001b[0m\u001b[0;34m\u001b[0m\u001b[0;34m\u001b[0m\u001b[0m\n\u001b[0m",
      "\u001b[0;32m<ipython-input-2-8188f55b9216>\u001b[0m in \u001b[0;36msum_mult_columns\u001b[0;34m(filename)\u001b[0m\n\u001b[1;32m     20\u001b[0m             \u001b[0;32mcontinue\u001b[0m\u001b[0;34m\u001b[0m\u001b[0;34m\u001b[0m\u001b[0m\n\u001b[1;32m     21\u001b[0m \u001b[0;34m\u001b[0m\u001b[0m\n\u001b[0;32m---> 22\u001b[0;31m         \u001b[0mtotal\u001b[0m \u001b[0;34m+=\u001b[0m \u001b[0mfirst\u001b[0m \u001b[0;34m*\u001b[0m \u001b[0msecond\u001b[0m\u001b[0;34m\u001b[0m\u001b[0;34m\u001b[0m\u001b[0m\n\u001b[0m\u001b[1;32m     23\u001b[0m \u001b[0;34m\u001b[0m\u001b[0m\n\u001b[1;32m     24\u001b[0m     \u001b[0;32mreturn\u001b[0m \u001b[0mtotal\u001b[0m\u001b[0;34m\u001b[0m\u001b[0;34m\u001b[0m\u001b[0m\n",
      "\u001b[0;31mTypeError\u001b[0m: can't multiply sequence by non-int of type 'str'"
     ]
    }
   ],
   "source": [
    "sum_mult_columns('test_file.txt')"
   ]
  },
  {
   "cell_type": "code",
   "execution_count": 4,
   "metadata": {},
   "outputs": [],
   "source": [
    "#!/usr/bin/env python3\n",
    "\"\"\"Solution to chapter 5, exercise 18, beyond 2: sum_mult_columns\"\"\"\n",
    "\n",
    "\n",
    "def sum_mult_columns(filename):\n",
    "    total = 0\n",
    "\n",
    "    for one_line in open(filename):\n",
    "        fields = one_line.split()\n",
    "\n",
    "        if len(fields) != 2:\n",
    "            continue\n",
    "\n",
    "        first, second = fields\n",
    "\n",
    "        if not first.isdigit():\n",
    "            continue\n",
    "\n",
    "        if not second.isdigit():\n",
    "            continue\n",
    "\n",
    "        total += int(first) * int(second)\n",
    "\n",
    "    return total\n"
   ]
  },
  {
   "cell_type": "code",
   "execution_count": 5,
   "metadata": {},
   "outputs": [
    {
     "data": {
      "text/plain": [
       "1500"
      ]
     },
     "execution_count": 5,
     "metadata": {},
     "output_type": "execute_result"
    }
   ],
   "source": [
    "sum_mult_columns('test_file.txt')"
   ]
  },
  {
   "cell_type": "code",
   "execution_count": 6,
   "metadata": {},
   "outputs": [],
   "source": [
    "def count_vowels(filename):\n",
    "    output = dict.fromkeys('aeiou', 0)\n",
    "\n",
    "    for one_line in open(filename):\n",
    "        for one_character in one_line.lower():\n",
    "            if one_character in output:\n",
    "                output[one_character] += 1\n",
    "\n",
    "    return output\n"
   ]
  },
  {
   "cell_type": "code",
   "execution_count": 7,
   "metadata": {},
   "outputs": [
    {
     "data": {
      "text/plain": [
       "{'a': 431, 'e': 553, 'i': 298, 'o': 224, 'u': 172}"
      ]
     },
     "execution_count": 7,
     "metadata": {},
     "output_type": "execute_result"
    }
   ],
   "source": [
    "count_vowels('/etc/passwd')"
   ]
  },
  {
   "cell_type": "code",
   "execution_count": 8,
   "metadata": {},
   "outputs": [],
   "source": [
    "from collections import defaultdict\n",
    "\n",
    "\n",
    "def shells_users(filename):\n",
    "    output = defaultdict(list)\n",
    "\n",
    "    for one_line in open(filename):\n",
    "        if one_line.startswith(('#', '\\n')):\n",
    "            continue\n",
    "        username, *ignore, shell = one_line.strip().split(':')\n",
    "\n",
    "        output[shell].append(username)\n",
    "\n",
    "    return output\n"
   ]
  },
  {
   "cell_type": "code",
   "execution_count": 10,
   "metadata": {},
   "outputs": [
    {
     "name": "stdout",
     "output_type": "stream",
     "text": [
      "/usr/bin/false: ['nobody', 'daemon', '_taskgated', '_networkd', '_installassistant', '_lp', '_postfix', '_scsd', '_ces', '_appstore', '_mcxalr', '_appleevents', '_geod', '_devdocs', '_sandbox', '_mdnsresponder', '_ard', '_www', '_eppc', '_cvs', '_svn', '_mysql', '_sshd', '_qtss', '_cyrus', '_mailman', '_appserver', '_clamav', '_amavisd', '_jabber', '_appowner', '_windowserver', '_spotlight', '_tokend', '_securityagent', '_calendar', '_teamsserver', '_update_sharing', '_installer', '_atsserver', '_ftp', '_unknown', '_softwareupdate', '_coreaudiod', '_screensaver', '_locationd', '_trustevaluationagent', '_timezone', '_lda', '_cvmsroot', '_usbmuxd', '_dovecot', '_dpaudio', '_postgres', '_krbtgt', '_kadmin_admin', '_kadmin_changepw', '_devicemgr', '_webauthserver', '_netbios', '_warmd', '_dovenull', '_netstatistics', '_avbdeviced', '_krb_krbtgt', '_krb_kadmin', '_krb_changepw', '_krb_kerberos', '_krb_anonymous', '_assetcache', '_coremediaiod', '_launchservicesd', '_iconservices', '_distnote', '_nsurlsessiond', '_nsurlstoraged', '_displaypolicyd', '_astris', '_krbfast', '_gamecontrollerd', '_ondemand', '_xserverdocs', '_wwwproxy', '_mobileasset', '_findmydevice', '_datadetectors', '_captiveagent', '_ctkd', '_applepay', '_hidd', '_cmiodalassistants', '_analyticsd', '_fpsd', '_timed', '_nearbyd', '_reportmemoryexception', '_driverkit']\n",
      "/bin/sh: ['root']\n",
      "/usr/sbin/uucico: ['_uucp']\n",
      "/bin/bash: ['_mbsetupuser']\n"
     ]
    }
   ],
   "source": [
    "for key, value in shells_users('/etc/passwd').items():\n",
    "    print(f'{key}: {value}')"
   ]
  },
  {
   "cell_type": "code",
   "execution_count": 11,
   "metadata": {},
   "outputs": [],
   "source": [
    "#!/usr/bin/env python3\n",
    "\"\"\"Solution to chapter 5, exercise 19, beyond 2: factors\"\"\"\n",
    "\n",
    "from collections import defaultdict\n",
    "\n",
    "\n",
    "def factors():\n",
    "    output = defaultdict(list)\n",
    "\n",
    "    numbers = input(\"Enter numbers, separated by spaces: \").split()\n",
    "\n",
    "    for one_number in numbers:\n",
    "        if not one_number.isdigit():\n",
    "            print(f'Ignoring {one_number}')\n",
    "            continue\n",
    "\n",
    "        one_number = int(one_number)\n",
    "        for i in range(1, one_number):\n",
    "            if not one_number % i:\n",
    "                output[one_number].append(i)\n",
    "\n",
    "        output[one_number].append(one_number)\n",
    "\n",
    "    return output\n"
   ]
  },
  {
   "cell_type": "code",
   "execution_count": 13,
   "metadata": {},
   "outputs": [
    {
     "name": "stdout",
     "output_type": "stream",
     "text": [
      "Enter numbers, separated by spaces: 10 20 23 25 18 72\n"
     ]
    },
    {
     "data": {
      "text/plain": [
       "defaultdict(list,\n",
       "            {10: [1, 2, 5, 10],\n",
       "             20: [1, 2, 4, 5, 10, 20],\n",
       "             23: [1, 23],\n",
       "             25: [1, 5, 25],\n",
       "             18: [1, 2, 3, 6, 9, 18],\n",
       "             72: [1, 2, 3, 4, 6, 8, 9, 12, 18, 24, 36, 72]})"
      ]
     },
     "execution_count": 13,
     "metadata": {},
     "output_type": "execute_result"
    }
   ],
   "source": [
    "factors()"
   ]
  },
  {
   "cell_type": "code",
   "execution_count": 14,
   "metadata": {},
   "outputs": [],
   "source": [
    "#!/usr/bin/env python3\n",
    "\"\"\"Solution to chapter 5, exercise 19, beyond 2: user_info\"\"\"\n",
    "\n",
    "\n",
    "def user_info(filename):\n",
    "    output = {}\n",
    "\n",
    "    for one_line in open(filename):\n",
    "        if one_line.startswith(('#', '\\n')):\n",
    "            continue\n",
    "        username, uid, *ignore, homedir, shell = one_line.strip().split(':')\n",
    "\n",
    "        output[username] = {'uid': uid,\n",
    "                            'homedir': homedir,\n",
    "                            'shell': shell}\n",
    "\n",
    "    return output\n"
   ]
  },
  {
   "cell_type": "code",
   "execution_count": 15,
   "metadata": {},
   "outputs": [
    {
     "data": {
      "text/plain": [
       "{'nobody': {'uid': '*', 'homedir': '/var/empty', 'shell': '/usr/bin/false'},\n",
       " 'root': {'uid': '*', 'homedir': '/var/root', 'shell': '/bin/sh'},\n",
       " 'daemon': {'uid': '*', 'homedir': '/var/root', 'shell': '/usr/bin/false'},\n",
       " '_uucp': {'uid': '*',\n",
       "  'homedir': '/var/spool/uucp',\n",
       "  'shell': '/usr/sbin/uucico'},\n",
       " '_taskgated': {'uid': '*',\n",
       "  'homedir': '/var/empty',\n",
       "  'shell': '/usr/bin/false'},\n",
       " '_networkd': {'uid': '*',\n",
       "  'homedir': '/var/networkd',\n",
       "  'shell': '/usr/bin/false'},\n",
       " '_installassistant': {'uid': '*',\n",
       "  'homedir': '/var/empty',\n",
       "  'shell': '/usr/bin/false'},\n",
       " '_lp': {'uid': '*', 'homedir': '/var/spool/cups', 'shell': '/usr/bin/false'},\n",
       " '_postfix': {'uid': '*',\n",
       "  'homedir': '/var/spool/postfix',\n",
       "  'shell': '/usr/bin/false'},\n",
       " '_scsd': {'uid': '*', 'homedir': '/var/empty', 'shell': '/usr/bin/false'},\n",
       " '_ces': {'uid': '*', 'homedir': '/var/empty', 'shell': '/usr/bin/false'},\n",
       " '_appstore': {'uid': '*',\n",
       "  'homedir': '/var/db/appstore',\n",
       "  'shell': '/usr/bin/false'},\n",
       " '_mcxalr': {'uid': '*', 'homedir': '/var/empty', 'shell': '/usr/bin/false'},\n",
       " '_appleevents': {'uid': '*',\n",
       "  'homedir': '/var/empty',\n",
       "  'shell': '/usr/bin/false'},\n",
       " '_geod': {'uid': '*', 'homedir': '/var/db/geod', 'shell': '/usr/bin/false'},\n",
       " '_devdocs': {'uid': '*', 'homedir': '/var/empty', 'shell': '/usr/bin/false'},\n",
       " '_sandbox': {'uid': '*', 'homedir': '/var/empty', 'shell': '/usr/bin/false'},\n",
       " '_mdnsresponder': {'uid': '*',\n",
       "  'homedir': '/var/empty',\n",
       "  'shell': '/usr/bin/false'},\n",
       " '_ard': {'uid': '*', 'homedir': '/var/empty', 'shell': '/usr/bin/false'},\n",
       " '_www': {'uid': '*',\n",
       "  'homedir': '/Library/WebServer',\n",
       "  'shell': '/usr/bin/false'},\n",
       " '_eppc': {'uid': '*', 'homedir': '/var/empty', 'shell': '/usr/bin/false'},\n",
       " '_cvs': {'uid': '*', 'homedir': '/var/empty', 'shell': '/usr/bin/false'},\n",
       " '_svn': {'uid': '*', 'homedir': '/var/empty', 'shell': '/usr/bin/false'},\n",
       " '_mysql': {'uid': '*', 'homedir': '/var/empty', 'shell': '/usr/bin/false'},\n",
       " '_sshd': {'uid': '*', 'homedir': '/var/empty', 'shell': '/usr/bin/false'},\n",
       " '_qtss': {'uid': '*', 'homedir': '/var/empty', 'shell': '/usr/bin/false'},\n",
       " '_cyrus': {'uid': '*', 'homedir': '/var/imap', 'shell': '/usr/bin/false'},\n",
       " '_mailman': {'uid': '*', 'homedir': '/var/empty', 'shell': '/usr/bin/false'},\n",
       " '_appserver': {'uid': '*',\n",
       "  'homedir': '/var/empty',\n",
       "  'shell': '/usr/bin/false'},\n",
       " '_clamav': {'uid': '*',\n",
       "  'homedir': '/var/virusmails',\n",
       "  'shell': '/usr/bin/false'},\n",
       " '_amavisd': {'uid': '*',\n",
       "  'homedir': '/var/virusmails',\n",
       "  'shell': '/usr/bin/false'},\n",
       " '_jabber': {'uid': '*', 'homedir': '/var/empty', 'shell': '/usr/bin/false'},\n",
       " '_appowner': {'uid': '*', 'homedir': '/var/empty', 'shell': '/usr/bin/false'},\n",
       " '_windowserver': {'uid': '*',\n",
       "  'homedir': '/var/empty',\n",
       "  'shell': '/usr/bin/false'},\n",
       " '_spotlight': {'uid': '*',\n",
       "  'homedir': '/var/empty',\n",
       "  'shell': '/usr/bin/false'},\n",
       " '_tokend': {'uid': '*', 'homedir': '/var/empty', 'shell': '/usr/bin/false'},\n",
       " '_securityagent': {'uid': '*',\n",
       "  'homedir': '/var/db/securityagent',\n",
       "  'shell': '/usr/bin/false'},\n",
       " '_calendar': {'uid': '*', 'homedir': '/var/empty', 'shell': '/usr/bin/false'},\n",
       " '_teamsserver': {'uid': '*',\n",
       "  'homedir': '/var/teamsserver',\n",
       "  'shell': '/usr/bin/false'},\n",
       " '_update_sharing': {'uid': '*',\n",
       "  'homedir': '/var/empty',\n",
       "  'shell': '/usr/bin/false'},\n",
       " '_installer': {'uid': '*',\n",
       "  'homedir': '/var/empty',\n",
       "  'shell': '/usr/bin/false'},\n",
       " '_atsserver': {'uid': '*',\n",
       "  'homedir': '/var/empty',\n",
       "  'shell': '/usr/bin/false'},\n",
       " '_ftp': {'uid': '*', 'homedir': '/var/empty', 'shell': '/usr/bin/false'},\n",
       " '_unknown': {'uid': '*', 'homedir': '/var/empty', 'shell': '/usr/bin/false'},\n",
       " '_softwareupdate': {'uid': '*',\n",
       "  'homedir': '/var/db/softwareupdate',\n",
       "  'shell': '/usr/bin/false'},\n",
       " '_coreaudiod': {'uid': '*',\n",
       "  'homedir': '/var/empty',\n",
       "  'shell': '/usr/bin/false'},\n",
       " '_screensaver': {'uid': '*',\n",
       "  'homedir': '/var/empty',\n",
       "  'shell': '/usr/bin/false'},\n",
       " '_locationd': {'uid': '*',\n",
       "  'homedir': '/var/db/locationd',\n",
       "  'shell': '/usr/bin/false'},\n",
       " '_trustevaluationagent': {'uid': '*',\n",
       "  'homedir': '/var/empty',\n",
       "  'shell': '/usr/bin/false'},\n",
       " '_timezone': {'uid': '*', 'homedir': '/var/empty', 'shell': '/usr/bin/false'},\n",
       " '_lda': {'uid': '*', 'homedir': '/var/empty', 'shell': '/usr/bin/false'},\n",
       " '_cvmsroot': {'uid': '*', 'homedir': '/var/empty', 'shell': '/usr/bin/false'},\n",
       " '_usbmuxd': {'uid': '*',\n",
       "  'homedir': '/var/db/lockdown',\n",
       "  'shell': '/usr/bin/false'},\n",
       " '_dovecot': {'uid': '*', 'homedir': '/var/empty', 'shell': '/usr/bin/false'},\n",
       " '_dpaudio': {'uid': '*', 'homedir': '/var/empty', 'shell': '/usr/bin/false'},\n",
       " '_postgres': {'uid': '*', 'homedir': '/var/empty', 'shell': '/usr/bin/false'},\n",
       " '_krbtgt': {'uid': '*', 'homedir': '/var/empty', 'shell': '/usr/bin/false'},\n",
       " '_kadmin_admin': {'uid': '*',\n",
       "  'homedir': '/var/empty',\n",
       "  'shell': '/usr/bin/false'},\n",
       " '_kadmin_changepw': {'uid': '*',\n",
       "  'homedir': '/var/empty',\n",
       "  'shell': '/usr/bin/false'},\n",
       " '_devicemgr': {'uid': '*',\n",
       "  'homedir': '/var/empty',\n",
       "  'shell': '/usr/bin/false'},\n",
       " '_webauthserver': {'uid': '*',\n",
       "  'homedir': '/var/empty',\n",
       "  'shell': '/usr/bin/false'},\n",
       " '_netbios': {'uid': '*', 'homedir': '/var/empty', 'shell': '/usr/bin/false'},\n",
       " '_warmd': {'uid': '*', 'homedir': '/var/empty', 'shell': '/usr/bin/false'},\n",
       " '_dovenull': {'uid': '*', 'homedir': '/var/empty', 'shell': '/usr/bin/false'},\n",
       " '_netstatistics': {'uid': '*',\n",
       "  'homedir': '/var/empty',\n",
       "  'shell': '/usr/bin/false'},\n",
       " '_avbdeviced': {'uid': '*',\n",
       "  'homedir': '/var/empty',\n",
       "  'shell': '/usr/bin/false'},\n",
       " '_krb_krbtgt': {'uid': '*',\n",
       "  'homedir': '/var/empty',\n",
       "  'shell': '/usr/bin/false'},\n",
       " '_krb_kadmin': {'uid': '*',\n",
       "  'homedir': '/var/empty',\n",
       "  'shell': '/usr/bin/false'},\n",
       " '_krb_changepw': {'uid': '*',\n",
       "  'homedir': '/var/empty',\n",
       "  'shell': '/usr/bin/false'},\n",
       " '_krb_kerberos': {'uid': '*',\n",
       "  'homedir': '/var/empty',\n",
       "  'shell': '/usr/bin/false'},\n",
       " '_krb_anonymous': {'uid': '*',\n",
       "  'homedir': '/var/empty',\n",
       "  'shell': '/usr/bin/false'},\n",
       " '_assetcache': {'uid': '*',\n",
       "  'homedir': '/var/empty',\n",
       "  'shell': '/usr/bin/false'},\n",
       " '_coremediaiod': {'uid': '*',\n",
       "  'homedir': '/var/empty',\n",
       "  'shell': '/usr/bin/false'},\n",
       " '_launchservicesd': {'uid': '*',\n",
       "  'homedir': '/var/empty',\n",
       "  'shell': '/usr/bin/false'},\n",
       " '_iconservices': {'uid': '*',\n",
       "  'homedir': '/var/empty',\n",
       "  'shell': '/usr/bin/false'},\n",
       " '_distnote': {'uid': '*', 'homedir': '/var/empty', 'shell': '/usr/bin/false'},\n",
       " '_nsurlsessiond': {'uid': '*',\n",
       "  'homedir': '/var/db/nsurlsessiond',\n",
       "  'shell': '/usr/bin/false'},\n",
       " '_nsurlstoraged': {'uid': '*',\n",
       "  'homedir': '/var/db/nsurlstoraged',\n",
       "  'shell': '/usr/bin/false'},\n",
       " '_displaypolicyd': {'uid': '*',\n",
       "  'homedir': '/var/empty',\n",
       "  'shell': '/usr/bin/false'},\n",
       " '_astris': {'uid': '*',\n",
       "  'homedir': '/var/db/astris',\n",
       "  'shell': '/usr/bin/false'},\n",
       " '_krbfast': {'uid': '*', 'homedir': '/var/empty', 'shell': '/usr/bin/false'},\n",
       " '_gamecontrollerd': {'uid': '*',\n",
       "  'homedir': '/var/empty',\n",
       "  'shell': '/usr/bin/false'},\n",
       " '_mbsetupuser': {'uid': '*', 'homedir': '/var/setup', 'shell': '/bin/bash'},\n",
       " '_ondemand': {'uid': '*',\n",
       "  'homedir': '/var/db/ondemand',\n",
       "  'shell': '/usr/bin/false'},\n",
       " '_xserverdocs': {'uid': '*',\n",
       "  'homedir': '/var/empty',\n",
       "  'shell': '/usr/bin/false'},\n",
       " '_wwwproxy': {'uid': '*', 'homedir': '/var/empty', 'shell': '/usr/bin/false'},\n",
       " '_mobileasset': {'uid': '*', 'homedir': '/var/ma', 'shell': '/usr/bin/false'},\n",
       " '_findmydevice': {'uid': '*',\n",
       "  'homedir': '/var/db/findmydevice',\n",
       "  'shell': '/usr/bin/false'},\n",
       " '_datadetectors': {'uid': '*',\n",
       "  'homedir': '/var/db/datadetectors',\n",
       "  'shell': '/usr/bin/false'},\n",
       " '_captiveagent': {'uid': '*',\n",
       "  'homedir': '/var/empty',\n",
       "  'shell': '/usr/bin/false'},\n",
       " '_ctkd': {'uid': '*', 'homedir': '/var/empty', 'shell': '/usr/bin/false'},\n",
       " '_applepay': {'uid': '*',\n",
       "  'homedir': '/var/db/applepay',\n",
       "  'shell': '/usr/bin/false'},\n",
       " '_hidd': {'uid': '*', 'homedir': '/var/db/hidd', 'shell': '/usr/bin/false'},\n",
       " '_cmiodalassistants': {'uid': '*',\n",
       "  'homedir': '/var/db/cmiodalassistants',\n",
       "  'shell': '/usr/bin/false'},\n",
       " '_analyticsd': {'uid': '*',\n",
       "  'homedir': '/var/db/analyticsd',\n",
       "  'shell': '/usr/bin/false'},\n",
       " '_fpsd': {'uid': '*', 'homedir': '/var/db/fpsd', 'shell': '/usr/bin/false'},\n",
       " '_timed': {'uid': '*', 'homedir': '/var/db/timed', 'shell': '/usr/bin/false'},\n",
       " '_nearbyd': {'uid': '*',\n",
       "  'homedir': '/var/db/nearbyd',\n",
       "  'shell': '/usr/bin/false'},\n",
       " '_reportmemoryexception': {'uid': '*',\n",
       "  'homedir': '/var/db/reportmemoryexception',\n",
       "  'shell': '/usr/bin/false'},\n",
       " '_driverkit': {'uid': '*',\n",
       "  'homedir': '/var/empty',\n",
       "  'shell': '/usr/bin/false'}}"
      ]
     },
     "execution_count": 15,
     "metadata": {},
     "output_type": "execute_result"
    }
   ],
   "source": [
    "user_info('/etc/passwd')"
   ]
  },
  {
   "cell_type": "code",
   "execution_count": 16,
   "metadata": {},
   "outputs": [],
   "source": [
    "\n",
    "#!/usr/bin/env python3\n",
    "\"\"\"Solution to chapter 5, exercise 19, beyond 2: user_info\"\"\"\n",
    "\n",
    "\n",
    "def user_info(filename):\n",
    "    output = {}\n",
    "\n",
    "    for one_line in open(filename):\n",
    "        if one_line.startswith(('#', '\\n')):\n",
    "            continue\n",
    "        username, passwd, uid, *ignore, homedir, shell = one_line.strip().split(':')\n",
    "\n",
    "        output[username] = {'uid': uid,\n",
    "                            'homedir': homedir,\n",
    "                            'shell': shell}\n",
    "\n",
    "    return output\n"
   ]
  },
  {
   "cell_type": "code",
   "execution_count": 17,
   "metadata": {},
   "outputs": [
    {
     "data": {
      "text/plain": [
       "{'nobody': {'uid': '-2', 'homedir': '/var/empty', 'shell': '/usr/bin/false'},\n",
       " 'root': {'uid': '0', 'homedir': '/var/root', 'shell': '/bin/sh'},\n",
       " 'daemon': {'uid': '1', 'homedir': '/var/root', 'shell': '/usr/bin/false'},\n",
       " '_uucp': {'uid': '4',\n",
       "  'homedir': '/var/spool/uucp',\n",
       "  'shell': '/usr/sbin/uucico'},\n",
       " '_taskgated': {'uid': '13',\n",
       "  'homedir': '/var/empty',\n",
       "  'shell': '/usr/bin/false'},\n",
       " '_networkd': {'uid': '24',\n",
       "  'homedir': '/var/networkd',\n",
       "  'shell': '/usr/bin/false'},\n",
       " '_installassistant': {'uid': '25',\n",
       "  'homedir': '/var/empty',\n",
       "  'shell': '/usr/bin/false'},\n",
       " '_lp': {'uid': '26', 'homedir': '/var/spool/cups', 'shell': '/usr/bin/false'},\n",
       " '_postfix': {'uid': '27',\n",
       "  'homedir': '/var/spool/postfix',\n",
       "  'shell': '/usr/bin/false'},\n",
       " '_scsd': {'uid': '31', 'homedir': '/var/empty', 'shell': '/usr/bin/false'},\n",
       " '_ces': {'uid': '32', 'homedir': '/var/empty', 'shell': '/usr/bin/false'},\n",
       " '_appstore': {'uid': '33',\n",
       "  'homedir': '/var/db/appstore',\n",
       "  'shell': '/usr/bin/false'},\n",
       " '_mcxalr': {'uid': '54', 'homedir': '/var/empty', 'shell': '/usr/bin/false'},\n",
       " '_appleevents': {'uid': '55',\n",
       "  'homedir': '/var/empty',\n",
       "  'shell': '/usr/bin/false'},\n",
       " '_geod': {'uid': '56', 'homedir': '/var/db/geod', 'shell': '/usr/bin/false'},\n",
       " '_devdocs': {'uid': '59', 'homedir': '/var/empty', 'shell': '/usr/bin/false'},\n",
       " '_sandbox': {'uid': '60', 'homedir': '/var/empty', 'shell': '/usr/bin/false'},\n",
       " '_mdnsresponder': {'uid': '65',\n",
       "  'homedir': '/var/empty',\n",
       "  'shell': '/usr/bin/false'},\n",
       " '_ard': {'uid': '67', 'homedir': '/var/empty', 'shell': '/usr/bin/false'},\n",
       " '_www': {'uid': '70',\n",
       "  'homedir': '/Library/WebServer',\n",
       "  'shell': '/usr/bin/false'},\n",
       " '_eppc': {'uid': '71', 'homedir': '/var/empty', 'shell': '/usr/bin/false'},\n",
       " '_cvs': {'uid': '72', 'homedir': '/var/empty', 'shell': '/usr/bin/false'},\n",
       " '_svn': {'uid': '73', 'homedir': '/var/empty', 'shell': '/usr/bin/false'},\n",
       " '_mysql': {'uid': '74', 'homedir': '/var/empty', 'shell': '/usr/bin/false'},\n",
       " '_sshd': {'uid': '75', 'homedir': '/var/empty', 'shell': '/usr/bin/false'},\n",
       " '_qtss': {'uid': '76', 'homedir': '/var/empty', 'shell': '/usr/bin/false'},\n",
       " '_cyrus': {'uid': '77', 'homedir': '/var/imap', 'shell': '/usr/bin/false'},\n",
       " '_mailman': {'uid': '78', 'homedir': '/var/empty', 'shell': '/usr/bin/false'},\n",
       " '_appserver': {'uid': '79',\n",
       "  'homedir': '/var/empty',\n",
       "  'shell': '/usr/bin/false'},\n",
       " '_clamav': {'uid': '82',\n",
       "  'homedir': '/var/virusmails',\n",
       "  'shell': '/usr/bin/false'},\n",
       " '_amavisd': {'uid': '83',\n",
       "  'homedir': '/var/virusmails',\n",
       "  'shell': '/usr/bin/false'},\n",
       " '_jabber': {'uid': '84', 'homedir': '/var/empty', 'shell': '/usr/bin/false'},\n",
       " '_appowner': {'uid': '87',\n",
       "  'homedir': '/var/empty',\n",
       "  'shell': '/usr/bin/false'},\n",
       " '_windowserver': {'uid': '88',\n",
       "  'homedir': '/var/empty',\n",
       "  'shell': '/usr/bin/false'},\n",
       " '_spotlight': {'uid': '89',\n",
       "  'homedir': '/var/empty',\n",
       "  'shell': '/usr/bin/false'},\n",
       " '_tokend': {'uid': '91', 'homedir': '/var/empty', 'shell': '/usr/bin/false'},\n",
       " '_securityagent': {'uid': '92',\n",
       "  'homedir': '/var/db/securityagent',\n",
       "  'shell': '/usr/bin/false'},\n",
       " '_calendar': {'uid': '93',\n",
       "  'homedir': '/var/empty',\n",
       "  'shell': '/usr/bin/false'},\n",
       " '_teamsserver': {'uid': '94',\n",
       "  'homedir': '/var/teamsserver',\n",
       "  'shell': '/usr/bin/false'},\n",
       " '_update_sharing': {'uid': '95',\n",
       "  'homedir': '/var/empty',\n",
       "  'shell': '/usr/bin/false'},\n",
       " '_installer': {'uid': '96',\n",
       "  'homedir': '/var/empty',\n",
       "  'shell': '/usr/bin/false'},\n",
       " '_atsserver': {'uid': '97',\n",
       "  'homedir': '/var/empty',\n",
       "  'shell': '/usr/bin/false'},\n",
       " '_ftp': {'uid': '98', 'homedir': '/var/empty', 'shell': '/usr/bin/false'},\n",
       " '_unknown': {'uid': '99', 'homedir': '/var/empty', 'shell': '/usr/bin/false'},\n",
       " '_softwareupdate': {'uid': '200',\n",
       "  'homedir': '/var/db/softwareupdate',\n",
       "  'shell': '/usr/bin/false'},\n",
       " '_coreaudiod': {'uid': '202',\n",
       "  'homedir': '/var/empty',\n",
       "  'shell': '/usr/bin/false'},\n",
       " '_screensaver': {'uid': '203',\n",
       "  'homedir': '/var/empty',\n",
       "  'shell': '/usr/bin/false'},\n",
       " '_locationd': {'uid': '205',\n",
       "  'homedir': '/var/db/locationd',\n",
       "  'shell': '/usr/bin/false'},\n",
       " '_trustevaluationagent': {'uid': '208',\n",
       "  'homedir': '/var/empty',\n",
       "  'shell': '/usr/bin/false'},\n",
       " '_timezone': {'uid': '210',\n",
       "  'homedir': '/var/empty',\n",
       "  'shell': '/usr/bin/false'},\n",
       " '_lda': {'uid': '211', 'homedir': '/var/empty', 'shell': '/usr/bin/false'},\n",
       " '_cvmsroot': {'uid': '212',\n",
       "  'homedir': '/var/empty',\n",
       "  'shell': '/usr/bin/false'},\n",
       " '_usbmuxd': {'uid': '213',\n",
       "  'homedir': '/var/db/lockdown',\n",
       "  'shell': '/usr/bin/false'},\n",
       " '_dovecot': {'uid': '214',\n",
       "  'homedir': '/var/empty',\n",
       "  'shell': '/usr/bin/false'},\n",
       " '_dpaudio': {'uid': '215',\n",
       "  'homedir': '/var/empty',\n",
       "  'shell': '/usr/bin/false'},\n",
       " '_postgres': {'uid': '216',\n",
       "  'homedir': '/var/empty',\n",
       "  'shell': '/usr/bin/false'},\n",
       " '_krbtgt': {'uid': '217', 'homedir': '/var/empty', 'shell': '/usr/bin/false'},\n",
       " '_kadmin_admin': {'uid': '218',\n",
       "  'homedir': '/var/empty',\n",
       "  'shell': '/usr/bin/false'},\n",
       " '_kadmin_changepw': {'uid': '219',\n",
       "  'homedir': '/var/empty',\n",
       "  'shell': '/usr/bin/false'},\n",
       " '_devicemgr': {'uid': '220',\n",
       "  'homedir': '/var/empty',\n",
       "  'shell': '/usr/bin/false'},\n",
       " '_webauthserver': {'uid': '221',\n",
       "  'homedir': '/var/empty',\n",
       "  'shell': '/usr/bin/false'},\n",
       " '_netbios': {'uid': '222',\n",
       "  'homedir': '/var/empty',\n",
       "  'shell': '/usr/bin/false'},\n",
       " '_warmd': {'uid': '224', 'homedir': '/var/empty', 'shell': '/usr/bin/false'},\n",
       " '_dovenull': {'uid': '227',\n",
       "  'homedir': '/var/empty',\n",
       "  'shell': '/usr/bin/false'},\n",
       " '_netstatistics': {'uid': '228',\n",
       "  'homedir': '/var/empty',\n",
       "  'shell': '/usr/bin/false'},\n",
       " '_avbdeviced': {'uid': '229',\n",
       "  'homedir': '/var/empty',\n",
       "  'shell': '/usr/bin/false'},\n",
       " '_krb_krbtgt': {'uid': '230',\n",
       "  'homedir': '/var/empty',\n",
       "  'shell': '/usr/bin/false'},\n",
       " '_krb_kadmin': {'uid': '231',\n",
       "  'homedir': '/var/empty',\n",
       "  'shell': '/usr/bin/false'},\n",
       " '_krb_changepw': {'uid': '232',\n",
       "  'homedir': '/var/empty',\n",
       "  'shell': '/usr/bin/false'},\n",
       " '_krb_kerberos': {'uid': '233',\n",
       "  'homedir': '/var/empty',\n",
       "  'shell': '/usr/bin/false'},\n",
       " '_krb_anonymous': {'uid': '234',\n",
       "  'homedir': '/var/empty',\n",
       "  'shell': '/usr/bin/false'},\n",
       " '_assetcache': {'uid': '235',\n",
       "  'homedir': '/var/empty',\n",
       "  'shell': '/usr/bin/false'},\n",
       " '_coremediaiod': {'uid': '236',\n",
       "  'homedir': '/var/empty',\n",
       "  'shell': '/usr/bin/false'},\n",
       " '_launchservicesd': {'uid': '239',\n",
       "  'homedir': '/var/empty',\n",
       "  'shell': '/usr/bin/false'},\n",
       " '_iconservices': {'uid': '240',\n",
       "  'homedir': '/var/empty',\n",
       "  'shell': '/usr/bin/false'},\n",
       " '_distnote': {'uid': '241',\n",
       "  'homedir': '/var/empty',\n",
       "  'shell': '/usr/bin/false'},\n",
       " '_nsurlsessiond': {'uid': '242',\n",
       "  'homedir': '/var/db/nsurlsessiond',\n",
       "  'shell': '/usr/bin/false'},\n",
       " '_nsurlstoraged': {'uid': '243',\n",
       "  'homedir': '/var/db/nsurlstoraged',\n",
       "  'shell': '/usr/bin/false'},\n",
       " '_displaypolicyd': {'uid': '244',\n",
       "  'homedir': '/var/empty',\n",
       "  'shell': '/usr/bin/false'},\n",
       " '_astris': {'uid': '245',\n",
       "  'homedir': '/var/db/astris',\n",
       "  'shell': '/usr/bin/false'},\n",
       " '_krbfast': {'uid': '246',\n",
       "  'homedir': '/var/empty',\n",
       "  'shell': '/usr/bin/false'},\n",
       " '_gamecontrollerd': {'uid': '247',\n",
       "  'homedir': '/var/empty',\n",
       "  'shell': '/usr/bin/false'},\n",
       " '_mbsetupuser': {'uid': '248', 'homedir': '/var/setup', 'shell': '/bin/bash'},\n",
       " '_ondemand': {'uid': '249',\n",
       "  'homedir': '/var/db/ondemand',\n",
       "  'shell': '/usr/bin/false'},\n",
       " '_xserverdocs': {'uid': '251',\n",
       "  'homedir': '/var/empty',\n",
       "  'shell': '/usr/bin/false'},\n",
       " '_wwwproxy': {'uid': '252',\n",
       "  'homedir': '/var/empty',\n",
       "  'shell': '/usr/bin/false'},\n",
       " '_mobileasset': {'uid': '253',\n",
       "  'homedir': '/var/ma',\n",
       "  'shell': '/usr/bin/false'},\n",
       " '_findmydevice': {'uid': '254',\n",
       "  'homedir': '/var/db/findmydevice',\n",
       "  'shell': '/usr/bin/false'},\n",
       " '_datadetectors': {'uid': '257',\n",
       "  'homedir': '/var/db/datadetectors',\n",
       "  'shell': '/usr/bin/false'},\n",
       " '_captiveagent': {'uid': '258',\n",
       "  'homedir': '/var/empty',\n",
       "  'shell': '/usr/bin/false'},\n",
       " '_ctkd': {'uid': '259', 'homedir': '/var/empty', 'shell': '/usr/bin/false'},\n",
       " '_applepay': {'uid': '260',\n",
       "  'homedir': '/var/db/applepay',\n",
       "  'shell': '/usr/bin/false'},\n",
       " '_hidd': {'uid': '261', 'homedir': '/var/db/hidd', 'shell': '/usr/bin/false'},\n",
       " '_cmiodalassistants': {'uid': '262',\n",
       "  'homedir': '/var/db/cmiodalassistants',\n",
       "  'shell': '/usr/bin/false'},\n",
       " '_analyticsd': {'uid': '263',\n",
       "  'homedir': '/var/db/analyticsd',\n",
       "  'shell': '/usr/bin/false'},\n",
       " '_fpsd': {'uid': '265', 'homedir': '/var/db/fpsd', 'shell': '/usr/bin/false'},\n",
       " '_timed': {'uid': '266',\n",
       "  'homedir': '/var/db/timed',\n",
       "  'shell': '/usr/bin/false'},\n",
       " '_nearbyd': {'uid': '268',\n",
       "  'homedir': '/var/db/nearbyd',\n",
       "  'shell': '/usr/bin/false'},\n",
       " '_reportmemoryexception': {'uid': '269',\n",
       "  'homedir': '/var/db/reportmemoryexception',\n",
       "  'shell': '/usr/bin/false'},\n",
       " '_driverkit': {'uid': '270',\n",
       "  'homedir': '/var/empty',\n",
       "  'shell': '/usr/bin/false'}}"
      ]
     },
     "execution_count": 17,
     "metadata": {},
     "output_type": "execute_result"
    }
   ],
   "source": [
    "user_info('/etc/passwd')"
   ]
  },
  {
   "cell_type": "code",
   "execution_count": 23,
   "metadata": {},
   "outputs": [],
   "source": [
    "\n",
    "#!/usr/bin/env python3\n",
    "\"\"\"Solution to chapter 5, exercise 20, beyond 1: count_certain_words\"\"\"\n",
    "\n",
    "\n",
    "def count_certain_words():\n",
    "    s = input(\"Enter a filename, and then words you want to track: \").strip()\n",
    "\n",
    "    if not s:\n",
    "        return None\n",
    "\n",
    "    filename, *words = s.split()\n",
    "    print(f'filename = {filename}, words = {words}')\n",
    "\n",
    "    counts = dict.fromkeys(words, 0)\n",
    "\n",
    "    for one_line in open(filename):\n",
    "        for one_word in one_line.split():\n",
    "            if one_word in counts:\n",
    "                counts[one_word] += 1\n",
    "\n",
    "    return counts\n"
   ]
  },
  {
   "cell_type": "code",
   "execution_count": 24,
   "metadata": {},
   "outputs": [
    {
     "name": "stdout",
     "output_type": "stream",
     "text": [
      "Enter a filename, and then words you want to track: ../files/1342-0.txt Jane love woman man horse\n",
      "filename = ../files/1342-0.txt, words = ['Jane', 'love', 'woman', 'man', 'horse']\n"
     ]
    },
    {
     "data": {
      "text/plain": [
       "{'Jane': 155, 'love': 57, 'woman': 36, 'man': 89, 'horse': 1}"
      ]
     },
     "execution_count": 24,
     "metadata": {},
     "output_type": "execute_result"
    }
   ],
   "source": [
    "count_certain_words()"
   ]
  },
  {
   "cell_type": "code",
   "execution_count": 26,
   "metadata": {},
   "outputs": [],
   "source": [
    "#!/usr/bin/env python3\n",
    "\"\"\"Solution to chapter 5, exercise 20, beyond 2: file_sizes\"\"\"\n",
    "\n",
    "import glob\n",
    "import os\n",
    "\n",
    "\n",
    "def file_sizes(dirname):\n",
    "    counts = {one_filename: os.stat(one_filename).st_size\n",
    "              for one_filename in glob.glob(f'{dirname}/*')\n",
    "              if os.path.isfile(one_filename)}\n",
    "\n",
    "    return counts\n"
   ]
  },
  {
   "cell_type": "code",
   "execution_count": 27,
   "metadata": {},
   "outputs": [
    {
     "data": {
      "text/plain": [
       "{'/etc/ssh_config.system_default': 1465,\n",
       " '/etc/ssh_config.applesaved': 1144,\n",
       " '/etc/manpaths': 36,\n",
       " '/etc/services~previous': 677972,\n",
       " '/etc/rc.common': 1560,\n",
       " '/etc/csh.logout~orig': 39,\n",
       " '/etc/auto_master': 195,\n",
       " '/etc/php.ini.default-5.2-previous~orig': 65459,\n",
       " '/etc/csh.login': 121,\n",
       " '/etc/syslog.conf': 96,\n",
       " '/etc/rtadvd.conf~previous': 891,\n",
       " '/etc/syslog.conf~previous': 96,\n",
       " '/etc/krb5.keytab': 2800,\n",
       " '/etc/bash_completion.d': 0,\n",
       " '/etc/kern_loader.conf.applesaved': 0,\n",
       " '/etc/nanorc': 11,\n",
       " '/etc/ttys~previous': 1316,\n",
       " '/etc/csh.logout': 39,\n",
       " '/etc/aliases.db': 16384,\n",
       " '/etc/hosts.lpd': 0,\n",
       " '/etc/bashrc_Apple_Terminal': 9192,\n",
       " '/etc/zshrc_Apple_Terminal': 911,\n",
       " '/etc/named.conf.applesaved': 905,\n",
       " '/etc/gettytab': 5678,\n",
       " '/etc/master.passwd~orig': 7294,\n",
       " '/etc/kern_loader.conf': 0,\n",
       " '/etc/authorization.user_modified': 18621,\n",
       " '/etc/networks~orig': 53,\n",
       " '/etc/csh.login~orig': 121,\n",
       " '/etc/rtadvd.conf': 891,\n",
       " '/etc/protocols~previous': 6393,\n",
       " '/etc/group': 2922,\n",
       " '/etc/printcap': 452,\n",
       " '/etc/auto_home': 149,\n",
       " '/etc/php.ini.default-previous': 71055,\n",
       " '/etc/sudoers~': 1627,\n",
       " '/etc/smb.conf.applesaved': 1699,\n",
       " '/etc/shells': 189,\n",
       " '/etc/pear.conf-previous': 1208,\n",
       " '/etc/crontab': 137,\n",
       " '/etc/slpsa.conf.applesaved': 52,\n",
       " '/etc/rc.common~previous': 1560,\n",
       " '/etc/ttys': 1316,\n",
       " '/etc/group~previous': 2769,\n",
       " '/etc/php-fpm.conf.default': 5331,\n",
       " '/etc/paths': 45,\n",
       " '/etc/rmtab': 0,\n",
       " '/etc/csh.cshrc~orig': 189,\n",
       " '/etc/inetd.conf.applesaved': 2893,\n",
       " '/etc/xtab': 0,\n",
       " '/etc/php.ini.default': 71890,\n",
       " '/etc/syslog.conf.applesaved': 823,\n",
       " '/etc/localtime': 9037,\n",
       " '/etc/pf.conf': 1027,\n",
       " '/etc/6to4.conf.applesaved': 753,\n",
       " '/etc/launchd.conf': 19,\n",
       " '/etc/sudoers': 1563,\n",
       " '/etc/ftpusers~orig': 119,\n",
       " '/etc/bashrc': 265,\n",
       " '/etc/find.codes~orig': 0,\n",
       " '/etc/auto_master~orig': 194,\n",
       " '/etc/irbrc': 1299,\n",
       " '/etc/zshrc': 3094,\n",
       " '/etc/hosts.equiv': 0,\n",
       " '/etc/networks': 53,\n",
       " '/etc/find.codes': 0,\n",
       " '/etc/rpc~previous': 1735,\n",
       " '/etc/autofs.conf': 1935,\n",
       " '/etc/ftpusers': 119,\n",
       " '/etc/postgres-reg.ini': 1101,\n",
       " '/etc/slpsa.conf': 52,\n",
       " '/etc/profile': 189,\n",
       " '/etc/csh.cshrc': 189,\n",
       " '/etc/fstab.hd~previous': 150,\n",
       " '/etc/ntp.conf.applesaved': 44,\n",
       " '/etc/ntp_opendirectory.conf': 23,\n",
       " '/etc/ssh_config~orig': 3847,\n",
       " '/etc/profile~orig': 189,\n",
       " '/etc/authorization.deprecated': 384298,\n",
       " '/etc/locate.rc': 621,\n",
       " '/etc/resolv.conf': 357,\n",
       " '/etc/nfs.conf': 43,\n",
       " '/etc/crontab.applesaved': 296,\n",
       " '/etc/sudoers~orig': 1563,\n",
       " '/etc/sudo_lecture': 257,\n",
       " '/etc/asl.conf': 1051,\n",
       " '/etc/ttys.applesaved': 2442,\n",
       " '/etc/moduli~previous': 242153,\n",
       " '/etc/rc.netboot': 5264,\n",
       " '/etc/afpovertcp.cfg~orig': 515,\n",
       " '/etc/hosts~orig': 213,\n",
       " '/etc/fstab': 293,\n",
       " '/etc/nfs.conf~orig': 43,\n",
       " '/etc/hostconfig': 201,\n",
       " '/etc/smb.conf.old': 2975,\n",
       " '/etc/kern_loader.conf~previous': 0,\n",
       " '/etc/xinetd.conf.applesaved': 238,\n",
       " '/etc/rtadvd.conf.applesaved': 983,\n",
       " '/etc/sshd_config.system_default': 3362,\n",
       " '/etc/hosts': 220,\n",
       " '/etc/efax.rc~previous': 1029,\n",
       " '/etc/pf.os': 28311,\n",
       " '/etc/php.ini.default-previous~orig': 73685,\n",
       " '/etc/ntp.conf': 22,\n",
       " '/etc/php.ini.default-5.2-previous': 69266,\n",
       " '/etc/gettytab~orig': 5678,\n",
       " '/etc/passwd~orig': 6393,\n",
       " '/etc/rpc': 1735,\n",
       " '/etc/master.passwd': 7446,\n",
       " '/etc/sshd_config~previous': 4161,\n",
       " '/etc/fstab.hd': 150,\n",
       " '/etc/aliases': 10086,\n",
       " '/etc/paths~orig': 45,\n",
       " '/etc/com.apple.screensharing.agent.launchd': 82,\n",
       " '/etc/hostconfig.system_default': 185,\n",
       " '/etc/shells~orig': 179,\n",
       " '/etc/sshd_config.applesaved': 2409,\n",
       " '/etc/dumpdates': 0,\n",
       " '/etc/protocols': 6393,\n",
       " '/etc/AFP.conf': 24,\n",
       " '/etc/man.conf': 4627,\n",
       " '/etc/services': 677972,\n",
       " '/etc/mail.rc~orig': 106,\n",
       " '/etc/passwd': 6946,\n",
       " '/etc/zprofile': 255,\n",
       " '/etc/afpovertcp.cfg': 515,\n",
       " '/etc/newsyslog.conf': 1318,\n",
       " '/etc/bashrc~previous': 265,\n",
       " '/etc/mail.rc': 106,\n",
       " '/etc/notify.conf': 351,\n",
       " '/etc/sysctl.conf.pg': 106}"
      ]
     },
     "execution_count": 27,
     "metadata": {},
     "output_type": "execute_result"
    }
   ],
   "source": [
    "file_sizes('/etc/')"
   ]
  },
  {
   "cell_type": "code",
   "execution_count": 28,
   "metadata": {},
   "outputs": [],
   "source": [
    "#!/usr/bin/env python3\n",
    "\"\"\"Solution to chapter 5, exercise 20, beyond 2: file_sizes\"\"\"\n",
    "\n",
    "import glob\n",
    "import os\n",
    "\n",
    "\n",
    "def file_sizes(dirname):\n",
    "    counts = {one_filename: os.stat(one_filename).st_size\n",
    "              for one_filename in glob.glob(f'{dirname}/*')\n",
    "              if os.path.isfile(one_filename)}\n",
    "\n",
    "    return counts\n",
    "\n"
   ]
  },
  {
   "cell_type": "code",
   "execution_count": 29,
   "metadata": {},
   "outputs": [
    {
     "data": {
      "text/plain": [
       "{'/etc/ssh_config.system_default': 1465,\n",
       " '/etc/ssh_config.applesaved': 1144,\n",
       " '/etc/manpaths': 36,\n",
       " '/etc/services~previous': 677972,\n",
       " '/etc/rc.common': 1560,\n",
       " '/etc/csh.logout~orig': 39,\n",
       " '/etc/auto_master': 195,\n",
       " '/etc/php.ini.default-5.2-previous~orig': 65459,\n",
       " '/etc/csh.login': 121,\n",
       " '/etc/syslog.conf': 96,\n",
       " '/etc/rtadvd.conf~previous': 891,\n",
       " '/etc/syslog.conf~previous': 96,\n",
       " '/etc/krb5.keytab': 2800,\n",
       " '/etc/bash_completion.d': 0,\n",
       " '/etc/kern_loader.conf.applesaved': 0,\n",
       " '/etc/nanorc': 11,\n",
       " '/etc/ttys~previous': 1316,\n",
       " '/etc/csh.logout': 39,\n",
       " '/etc/aliases.db': 16384,\n",
       " '/etc/hosts.lpd': 0,\n",
       " '/etc/bashrc_Apple_Terminal': 9192,\n",
       " '/etc/zshrc_Apple_Terminal': 911,\n",
       " '/etc/named.conf.applesaved': 905,\n",
       " '/etc/gettytab': 5678,\n",
       " '/etc/master.passwd~orig': 7294,\n",
       " '/etc/kern_loader.conf': 0,\n",
       " '/etc/authorization.user_modified': 18621,\n",
       " '/etc/networks~orig': 53,\n",
       " '/etc/csh.login~orig': 121,\n",
       " '/etc/rtadvd.conf': 891,\n",
       " '/etc/protocols~previous': 6393,\n",
       " '/etc/group': 2922,\n",
       " '/etc/printcap': 452,\n",
       " '/etc/auto_home': 149,\n",
       " '/etc/php.ini.default-previous': 71055,\n",
       " '/etc/sudoers~': 1627,\n",
       " '/etc/smb.conf.applesaved': 1699,\n",
       " '/etc/shells': 189,\n",
       " '/etc/pear.conf-previous': 1208,\n",
       " '/etc/crontab': 137,\n",
       " '/etc/slpsa.conf.applesaved': 52,\n",
       " '/etc/rc.common~previous': 1560,\n",
       " '/etc/ttys': 1316,\n",
       " '/etc/group~previous': 2769,\n",
       " '/etc/php-fpm.conf.default': 5331,\n",
       " '/etc/paths': 45,\n",
       " '/etc/rmtab': 0,\n",
       " '/etc/csh.cshrc~orig': 189,\n",
       " '/etc/inetd.conf.applesaved': 2893,\n",
       " '/etc/xtab': 0,\n",
       " '/etc/php.ini.default': 71890,\n",
       " '/etc/syslog.conf.applesaved': 823,\n",
       " '/etc/localtime': 9037,\n",
       " '/etc/pf.conf': 1027,\n",
       " '/etc/6to4.conf.applesaved': 753,\n",
       " '/etc/launchd.conf': 19,\n",
       " '/etc/sudoers': 1563,\n",
       " '/etc/ftpusers~orig': 119,\n",
       " '/etc/bashrc': 265,\n",
       " '/etc/find.codes~orig': 0,\n",
       " '/etc/auto_master~orig': 194,\n",
       " '/etc/irbrc': 1299,\n",
       " '/etc/zshrc': 3094,\n",
       " '/etc/hosts.equiv': 0,\n",
       " '/etc/networks': 53,\n",
       " '/etc/find.codes': 0,\n",
       " '/etc/rpc~previous': 1735,\n",
       " '/etc/autofs.conf': 1935,\n",
       " '/etc/ftpusers': 119,\n",
       " '/etc/postgres-reg.ini': 1101,\n",
       " '/etc/slpsa.conf': 52,\n",
       " '/etc/profile': 189,\n",
       " '/etc/csh.cshrc': 189,\n",
       " '/etc/fstab.hd~previous': 150,\n",
       " '/etc/ntp.conf.applesaved': 44,\n",
       " '/etc/ntp_opendirectory.conf': 23,\n",
       " '/etc/ssh_config~orig': 3847,\n",
       " '/etc/profile~orig': 189,\n",
       " '/etc/authorization.deprecated': 384298,\n",
       " '/etc/locate.rc': 621,\n",
       " '/etc/resolv.conf': 357,\n",
       " '/etc/nfs.conf': 43,\n",
       " '/etc/crontab.applesaved': 296,\n",
       " '/etc/sudoers~orig': 1563,\n",
       " '/etc/sudo_lecture': 257,\n",
       " '/etc/asl.conf': 1051,\n",
       " '/etc/ttys.applesaved': 2442,\n",
       " '/etc/moduli~previous': 242153,\n",
       " '/etc/rc.netboot': 5264,\n",
       " '/etc/afpovertcp.cfg~orig': 515,\n",
       " '/etc/hosts~orig': 213,\n",
       " '/etc/fstab': 293,\n",
       " '/etc/nfs.conf~orig': 43,\n",
       " '/etc/hostconfig': 201,\n",
       " '/etc/smb.conf.old': 2975,\n",
       " '/etc/kern_loader.conf~previous': 0,\n",
       " '/etc/xinetd.conf.applesaved': 238,\n",
       " '/etc/rtadvd.conf.applesaved': 983,\n",
       " '/etc/sshd_config.system_default': 3362,\n",
       " '/etc/hosts': 220,\n",
       " '/etc/efax.rc~previous': 1029,\n",
       " '/etc/pf.os': 28311,\n",
       " '/etc/php.ini.default-previous~orig': 73685,\n",
       " '/etc/ntp.conf': 22,\n",
       " '/etc/php.ini.default-5.2-previous': 69266,\n",
       " '/etc/gettytab~orig': 5678,\n",
       " '/etc/passwd~orig': 6393,\n",
       " '/etc/rpc': 1735,\n",
       " '/etc/master.passwd': 7446,\n",
       " '/etc/sshd_config~previous': 4161,\n",
       " '/etc/fstab.hd': 150,\n",
       " '/etc/aliases': 10086,\n",
       " '/etc/paths~orig': 45,\n",
       " '/etc/com.apple.screensharing.agent.launchd': 82,\n",
       " '/etc/hostconfig.system_default': 185,\n",
       " '/etc/shells~orig': 179,\n",
       " '/etc/sshd_config.applesaved': 2409,\n",
       " '/etc/dumpdates': 0,\n",
       " '/etc/protocols': 6393,\n",
       " '/etc/AFP.conf': 24,\n",
       " '/etc/man.conf': 4627,\n",
       " '/etc/services': 677972,\n",
       " '/etc/mail.rc~orig': 106,\n",
       " '/etc/passwd': 6946,\n",
       " '/etc/zprofile': 255,\n",
       " '/etc/afpovertcp.cfg': 515,\n",
       " '/etc/newsyslog.conf': 1318,\n",
       " '/etc/bashrc~previous': 265,\n",
       " '/etc/mail.rc': 106,\n",
       " '/etc/notify.conf': 351,\n",
       " '/etc/sysctl.conf.pg': 106}"
      ]
     },
     "execution_count": 29,
     "metadata": {},
     "output_type": "execute_result"
    }
   ],
   "source": [
    "file_sizes('/etc/')"
   ]
  },
  {
   "cell_type": "code",
   "execution_count": 30,
   "metadata": {},
   "outputs": [],
   "source": [
    "from collections import Counter"
   ]
  },
  {
   "cell_type": "code",
   "execution_count": 31,
   "metadata": {},
   "outputs": [],
   "source": [
    "c = Counter()"
   ]
  },
  {
   "cell_type": "code",
   "execution_count": 32,
   "metadata": {},
   "outputs": [],
   "source": [
    "c.update('abcd')"
   ]
  },
  {
   "cell_type": "code",
   "execution_count": 33,
   "metadata": {},
   "outputs": [
    {
     "data": {
      "text/plain": [
       "Counter({'a': 1, 'b': 1, 'c': 1, 'd': 1})"
      ]
     },
     "execution_count": 33,
     "metadata": {},
     "output_type": "execute_result"
    }
   ],
   "source": [
    "c"
   ]
  },
  {
   "cell_type": "code",
   "execution_count": 34,
   "metadata": {},
   "outputs": [],
   "source": [
    "c.update('cdef')"
   ]
  },
  {
   "cell_type": "code",
   "execution_count": 35,
   "metadata": {},
   "outputs": [
    {
     "data": {
      "text/plain": [
       "Counter({'a': 1, 'b': 1, 'c': 2, 'd': 2, 'e': 1, 'f': 1})"
      ]
     },
     "execution_count": 35,
     "metadata": {},
     "output_type": "execute_result"
    }
   ],
   "source": [
    "c"
   ]
  },
  {
   "cell_type": "code",
   "execution_count": 46,
   "metadata": {},
   "outputs": [],
   "source": [
    "#!/usr/bin/env python3\n",
    "\"\"\"Solution to chapter 5, exercise 20, beyond 3: most_common_letters\"\"\"\n",
    "\n",
    "from collections import Counter\n",
    "import glob\n",
    "\n",
    "\n",
    "def most_common_letters(dirname):\n",
    "    counts = Counter()\n",
    "\n",
    "    for one_filename in glob.glob(f'{dirname}/*'):\n",
    "        try:\n",
    "            for one_line in open(one_filename):\n",
    "                counts.update(one_line)\n",
    "        except:\n",
    "            pass\n",
    "\n",
    "    return dict(counts.most_common(5)).keys()\n"
   ]
  },
  {
   "cell_type": "code",
   "execution_count": 47,
   "metadata": {},
   "outputs": [
    {
     "data": {
      "text/plain": [
       "dict_keys([' ', 'e', 't', 'r', 'i'])"
      ]
     },
     "execution_count": 47,
     "metadata": {},
     "output_type": "execute_result"
    }
   ],
   "source": [
    "most_common_letters('/etc/')"
   ]
  },
  {
   "cell_type": "code",
   "execution_count": 48,
   "metadata": {},
   "outputs": [],
   "source": [
    "#!/usr/bin/env python3\n",
    "\"\"\"Solution to chapter 5, exercise 21, beyond 1: md5_files\"\"\"\n",
    "\n",
    "\n",
    "import glob\n",
    "import hashlib\n",
    "\n",
    "\n",
    "def md5_files(dirname):\n",
    "    output = {}\n",
    "\n",
    "    for one_filename in glob.glob(f'{dirname}/*'):\n",
    "        try:\n",
    "            m = hashlib.md5()\n",
    "            m.update(one_filename.encode())\n",
    "            output[one_filename] = m.hexdigest()\n",
    "        except:\n",
    "            pass\n",
    "\n",
    "    return output\n"
   ]
  },
  {
   "cell_type": "code",
   "execution_count": 49,
   "metadata": {},
   "outputs": [
    {
     "data": {
      "text/plain": [
       "{'/etc/emond.d': '7c95c17175f56382d30a25d913aa7e28',\n",
       " '/etc/xinetd.d-migrated2launchd': 'b51386135fb6a8eb42b8d72563ec6e85',\n",
       " '/etc/ssh_config.system_default': 'b29e9a51bee8812f9f8ea2c6e150a019',\n",
       " '/etc/ssh_config.applesaved': '560d65178350274b68eb5b598bc6c017',\n",
       " '/etc/periodic': 'fea1a6c6fbf0a113b5badbaed57762bb',\n",
       " '/etc/manpaths': '4ed851030b599b2b4957e7d4bf9f2057',\n",
       " '/etc/services~previous': '56b5d8d344d0a7b7e9c3fb0ee3910dcb',\n",
       " '/etc/rc.common': '6de3586b94c35d0609ffd243c50a8e4a',\n",
       " '/etc/csh.logout~orig': 'c6c0eed809b7d062689bf3b509c93edd',\n",
       " '/etc/auto_master': '6beb3a1a9dab41ae59c394bcd848e45a',\n",
       " '/etc/php.ini.default-5.2-previous~orig': '2d0f2a405c8da7a04d2adf374ffbde88',\n",
       " '/etc/csh.login': '3b5e7478537cd4d24dbbfd7b79f37a09',\n",
       " '/etc/syslog.conf': 'd779bab8582490cc04f0f5973fac8d41',\n",
       " '/etc/rtadvd.conf~previous': 'c82a9498e9f5e13bbc0d06f0331c6167',\n",
       " '/etc/syslog.conf~previous': '6b85c9a56aa48e13c568d7d626740124',\n",
       " '/etc/krb5.keytab': 'c6f6da455df2f835c6022e156b5c396e',\n",
       " '/etc/sudoers.d': '1909e90c23d2f30177f0cabcc190a292',\n",
       " '/etc/bash_completion.d': '321463a72fa012c4100825796b028d02',\n",
       " '/etc/ssl': '29be47e31578acf1f55ed9eeb961ebde',\n",
       " '/etc/kern_loader.conf.applesaved': '4319c29ed440df17a3abac5a8184280d',\n",
       " '/etc/nanorc': 'ec7bbace61fe5033f23900fadf87948c',\n",
       " '/etc/ttys~previous': '69e0a2800f12c726745cf07c51b070db',\n",
       " '/etc/csh.logout': '165e45d2fa722288f8e010a2e6e6247a',\n",
       " '/etc/aliases.db': '59f73adec7176e6122e8e6190ac73116',\n",
       " '/etc/hosts.lpd': 'e7c141986f62f32e732a32435e84281a',\n",
       " '/etc/bashrc_Apple_Terminal': 'ab2196742657ad58a4f2032c9fe036d2',\n",
       " '/etc/racoon': 'b5ef81621519f7cdd27d2a071279b151',\n",
       " '/etc/snmp': 'af41cf6fd6d4ff20a8f070d4c74e5b75',\n",
       " '/etc/zshrc_Apple_Terminal': 'c6de3663ad8a3669042b326bcf24c7e0',\n",
       " '/etc/named.conf.applesaved': '299ddc92d705dda11d942d41e9e02d58',\n",
       " '/etc/gettytab': '5d97146f387fded694c00e2b30670a3b',\n",
       " '/etc/master.passwd~orig': 'a381d78d8982c931dcdc645ccb08b377',\n",
       " '/etc/kern_loader.conf': 'de5b5786479e1ff6349bd20531c84fe5',\n",
       " '/etc/authorization.user_modified': '89eeb31badd604d45d3efc696a588916',\n",
       " '/etc/networks~orig': '0d58fe3dc2204cba04fb9cd371ee182c',\n",
       " '/etc/paths.d': '2127eb7914c4d756186487b5cf94627d',\n",
       " '/etc/asl': '48648857b4e3f25a8c024f1d3ec7e192',\n",
       " '/etc/csh.login~orig': '38533445967c4106027b2091681856a4',\n",
       " '/etc/rtadvd.conf': '738402e9d3c9f260fbd5f85cda423774',\n",
       " '/etc/security': '21391f6e3f8a3ac96e8f2a26cb9805cd',\n",
       " '/etc/protocols~previous': '36dd62e7d4715be2b045794db9de168e',\n",
       " '/etc/group': '8cd4f87abbd9addd26d3a8c86730f48b',\n",
       " '/etc/printcap': '39fde522802db46540e0d6037add8e35',\n",
       " '/etc/auto_home': '2eb90b8f69ce6fe09a865e614d116adf',\n",
       " '/etc/php.ini.default-previous': '8902a2f887ad9b32283d98bb2bbffcc2',\n",
       " '/etc/sudoers~': '16c37dc7e5ce781879be1dc78391be63',\n",
       " '/etc/manpaths.d': '1b24b2aa65968a63171638bdd348b8e2',\n",
       " '/etc/smb.conf.applesaved': '2318e9fdc714dbaa8e33e6d31f22e506',\n",
       " '/etc/ppp': 'd7a516dd638300cf22bbe2e69d127cb8',\n",
       " '/etc/shells': '4888db866b32493a19b29bf746548026',\n",
       " '/etc/pear.conf-previous': '4910fe3047c2c06d8f1b5f1c3ec33a5d',\n",
       " '/etc/crontab': '81c43b54073bbd922bcd887fddd8ba98',\n",
       " '/etc/slpsa.conf.applesaved': 'b0590e723618a465a4e0f4eab4c5f9d2',\n",
       " '/etc/rc.common~previous': '1db76c28f491311ee71b317eebd8769d',\n",
       " '/etc/xinetd.d': '1cec6cbb5e3555f2e1d0a9f5752d83e3',\n",
       " '/etc/ttys': '6252df0c050863db0a43356560636286',\n",
       " '/etc/php-fpm.d': 'dbcf1b3b97afa29d2d0d8e11038e4530',\n",
       " '/etc/group~previous': '07b1b0605f7639196a78d855d9451925',\n",
       " '/etc/php-fpm.conf.default': '0c0b2e6091d51a1a10c1d57a77165a54',\n",
       " '/etc/paths': 'ed53382a329591732cf800fc7b901f65',\n",
       " '/etc/rmtab': 'fd27855f289971f5bc20d3d122c86ec5',\n",
       " '/etc/csh.cshrc~orig': '841744978ffe2364635380c36654cce1',\n",
       " '/etc/inetd.conf.applesaved': 'bb8a1e333099f04444a88cbd2025dda4',\n",
       " '/etc/xtab': '02c7cc070fba53506814de03cbee30ed',\n",
       " '/etc/php.ini.default': '542e24b7abf8fdd26a434622a2d88d4b',\n",
       " '/etc/syslog.conf.applesaved': '58a01fb260d6dbbae3258c9753d2477b',\n",
       " '/etc/localtime': '8c479f34f150d30b1ed5aee63ac581c2',\n",
       " '/etc/pf.conf': '73235c20c274f3f39caac588d450713e',\n",
       " '/etc/6to4.conf.applesaved': 'da8d5f7f8a3e5280bbe7ee07f242373f',\n",
       " '/etc/CiscoSystemsVPNClient': 'be5230fcf1093ad6a26ec097ffb47c4f',\n",
       " '/etc/launchd.conf': '90eb6c1a2f728abc27a2b65104df027f',\n",
       " '/etc/sudoers': '6c109d6e94c97fb519007c1f06880582',\n",
       " '/etc/ftpusers~orig': 'b98c41caa8bff737c1a7f737378d6ac3',\n",
       " '/etc/bashrc': 'a2ba00740884ed027942be8314ba75db',\n",
       " '/etc/find.codes~orig': '3d9e00fe161d6ff2e0921e8e020bbfbd',\n",
       " '/etc/auto_master~orig': '0b4ecbac747b57d798acf9de29cad92c',\n",
       " '/etc/newsyslog.d': 'b1b3d577588d860a7530051996d3a2a5',\n",
       " '/etc/emacs': '63b06ab96a1d95895b78e340778f06e7',\n",
       " '/etc/irbrc': 'bb34a97657d9b306475bdd06836921cc',\n",
       " '/etc/pam.d': 'ecc157491d5cbf6e700947136afe85cd',\n",
       " '/etc/zshrc': 'df6f9bb19751a6c124e9e3fb98131779',\n",
       " '/etc/defaults': '23d372886fff5e733fc5032a323afcce',\n",
       " '/etc/hosts.equiv': '35e02b633b975d37bef68f2c5e93c584',\n",
       " '/etc/networks': '083b73e7c3008681f72eb31791845db3',\n",
       " '/etc/find.codes': 'c6b6094374865017fcf4cd361b1b87d0',\n",
       " '/etc/rpc~previous': 'a2f3cdbf5dc25aeca22cd9203bf96d2a',\n",
       " '/etc/apache2': '174c84201042bb2d7f49746dc078fd56',\n",
       " '/etc/autofs.conf': '8227b27c2f4fdf01710ed040bdc99b5b',\n",
       " '/etc/ssh': 'b01b97ddff80b5c552e42d710fd5cd38',\n",
       " '/etc/ftpusers': '00b728ca22cac37ee9dd696028373a43',\n",
       " '/etc/postgres-reg.ini': 'b8e0f56c8a58af111a8d5ca3866518d4',\n",
       " '/etc/slpsa.conf': '594131c25a51bb0f3e430a8a05b9c09e',\n",
       " '/etc/profile': '23c25d718cd1c062574a1081b3ee4426',\n",
       " '/etc/csh.cshrc': '9ee81f790ba872d1b6a176ab11dfa87a',\n",
       " '/etc/fstab.hd~previous': '829705a7672efaa5efe14bdaf80ef1c4',\n",
       " '/etc/ntp.conf.applesaved': '9734fa911801ef2d9abe0d9fbf7e2b86',\n",
       " '/etc/ntp_opendirectory.conf': '938a6366ce81cf8676c4c8a0a3c927f6',\n",
       " '/etc/ssh_config~orig': 'f8071d35eb3fb26afeed77a9cf087ca4',\n",
       " '/etc/profile~orig': '0e67ad6688c4268b29c49f77a76619ea',\n",
       " '/etc/authorization.deprecated': 'dd384c9a1192fa67fb6ed333a945dff9',\n",
       " '/etc/locate.rc': '291f08e0bb4f9f0a01d51ce88a0b182f',\n",
       " '/etc/resolv.conf': 'f0b96341c66fa0d1b2202f74a027bbda',\n",
       " '/etc/nfs.conf': '971b20bc6d83572f12c2e82042c8290d',\n",
       " '/etc/crontab.applesaved': '39dcda98ddee7a1bddca9dd11bd9d833',\n",
       " '/etc/dictionaries-common': '3cd34be6fbdac7a076e460afe8cf409f',\n",
       " '/etc/sudoers~orig': '38ed657d45754fe862129e763a2086f5',\n",
       " '/etc/sudo_lecture': 'f201e5aebefcd78fa706da926261b834',\n",
       " '/etc/asl.conf': 'b41cfd6fb08e3ff30a2a1e56bd0ededa',\n",
       " '/etc/ttys.applesaved': 'fb68431a892f753d856aa51de2238c7a',\n",
       " '/etc/moduli~previous': '65e7de22bff3f9d971ac5b50c162b021',\n",
       " '/etc/rc.netboot': '7dd38a34fe77c2e04585e018e7056ab3',\n",
       " '/etc/X11': '7cc5276af2cd8d66f48786b55433e6e6',\n",
       " '/etc/afpovertcp.cfg~orig': '4b165d2690b2b049a9742d979787aa98',\n",
       " '/etc/hosts~orig': 'eca60c7b9581b69e534975a577b21d92',\n",
       " '/etc/fstab': '816a3ef77b62ade41c3f936c958aa555',\n",
       " '/etc/opt': '6d46d25eeb1d40f9991b3917da49847a',\n",
       " '/etc/nfs.conf~orig': 'b8f50315c52ba9c5818e0f274006489c',\n",
       " '/etc/hostconfig': 'ab744c3e7af582112053fb243420f28c',\n",
       " '/etc/smb.conf.old': '6cd794b7d3a43e3753d483ab40d39798',\n",
       " '/etc/kern_loader.conf~previous': 'afae47eb3becb5e19c84d25c32d346fe',\n",
       " '/etc/xinetd.conf.applesaved': '2ebe810f7b54e1570342ce1f3ff48b58',\n",
       " '/etc/rtadvd.conf.applesaved': '413296c45ce84f029edf9694392a3fad',\n",
       " '/etc/sshd_config.system_default': '00c49d044ac002442d9be72d6c336d7b',\n",
       " '/etc/hosts': 'ad942c725cd0cae65ca4c63717ec464c',\n",
       " '/etc/efax.rc~previous': '58c4620b1e55d02411453f5d5eccc4ba',\n",
       " '/etc/postfix': 'e44021c26113cbede55fa5883fd8a9e2',\n",
       " '/etc/pf.os': 'e7e5e65e0708ae9189d1738eec1e437b',\n",
       " '/etc/pf.anchors': '6764d94da3d04cc79a2e4fd7db13df03',\n",
       " '/etc/php.ini.default-previous~orig': 'cf02e2cdaa39bcecea01f009b049d48a',\n",
       " '/etc/ntp.conf': 'da6e8c31c4b01f79120fb363f8545fb0',\n",
       " '/etc/php.ini.default-5.2-previous': 'c6dee86b70a5a05b46cf904763ca56ba',\n",
       " '/etc/gettytab~orig': '1e275299e669a91f3d87d64823334a9e',\n",
       " '/etc/passwd~orig': 'fa0b788e584597098c43133e4352a662',\n",
       " '/etc/rpc': '911ae15c4e08f36fd8b5f7f2e2d5fcaa',\n",
       " '/etc/master.passwd': 'be53de5265c9571ae62020a0a0583bd6',\n",
       " '/etc/sshd_config~previous': '5d0f23d1c0e4cc7b235571229385361d',\n",
       " '/etc/fstab.hd': '3d99a5c6a491e7fd3a7eca51f5a46fb2',\n",
       " '/etc/openldap': '4e47efe4e0fe56c7270d87383f60ee1a',\n",
       " '/etc/aliases': '85adae0dd9e2b3023055b1dfacb0765d',\n",
       " '/etc/paths~orig': 'cca759d3a28eab4860450820621f85f3',\n",
       " '/etc/fonts': 'ac5582f81997ed6573c1b062d749afff',\n",
       " '/etc/openssl': 'a3a9de8da921994784a07212b314fca3',\n",
       " '/etc/com.apple.screensharing.agent.launchd': '8037293f1caaf4aa057b5a29146c4ab7',\n",
       " '/etc/wfs': '66716e9c5da037f58fbe5035df545aa0',\n",
       " '/etc/hostconfig.system_default': '2dedbcb83e721c7bdb917302ed2346d1',\n",
       " '/etc/shells~orig': '7a621b83e2a7daafa16bad25b55aa330',\n",
       " '/etc/sshd_config.applesaved': '34f564470a9deb33bf5a6ea162e96d87',\n",
       " '/etc/dumpdates': 'b2117b3f146a9cfde4d8f40d9d6b6be0',\n",
       " '/etc/protocols': 'bf8c53cd0e73842fcc9d3356c511d312',\n",
       " '/etc/AFP.conf': '1c62784b925830020324fdc743232af9',\n",
       " '/etc/cups': '43181c5afdacfa442327c54803066057',\n",
       " '/etc/man.conf': '039a0accd6b93016149e4aa3e713f33f',\n",
       " '/etc/services': 'cdd8f7859d9a2306f50d599fd2a26edf',\n",
       " '/etc/mail.rc~orig': 'f123cd07f17b933a91c63b2c7cdb350f',\n",
       " '/etc/resolver': '6eadcfd6d1a0ac38b5d1087c34d1c04d',\n",
       " '/etc/passwd': 'c5068b7c2b1707f8939b283a2758a691',\n",
       " '/etc/zprofile': '12d06c4b212a28dd8d7e729748bb9fdd',\n",
       " '/etc/afpovertcp.cfg': 'bb3388a378a238c139b90e8707e9691b',\n",
       " '/etc/newsyslog.conf': '7e4580bef62d95bc65e945222787e1ba',\n",
       " '/etc/bashrc~previous': 'aa24ef93a88205af041f7929491a50ec',\n",
       " '/etc/mail.rc': 'd3f7f0d5c0f71cdc4f0011f6ea9cd111',\n",
       " '/etc/notify.conf': '5389f3fbe1c4a674930136f46d64b749',\n",
       " '/etc/sysctl.conf.pg': '124f4465c1dab1eb8a1f9f2e72b264fa'}"
      ]
     },
     "execution_count": 49,
     "metadata": {},
     "output_type": "execute_result"
    }
   ],
   "source": [
    "md5_files('/etc/')"
   ]
  },
  {
   "cell_type": "code",
   "execution_count": 60,
   "metadata": {},
   "outputs": [],
   "source": [
    "\n",
    "import glob\n",
    "import os\n",
    "\n",
    "\n",
    "def mod_times(dirname):\n",
    "    output = {}\n",
    "\n",
    "    for one_filename in glob.glob(f'{dirname}/*'):\n",
    "        try:\n",
    "            mod_time = os.stat(one_filename).st_mtime\n",
    "            output[one_filename] = arrow.get(mod_time)\n",
    "\n",
    "        except:\n",
    "            pass\n",
    "\n",
    "    return output\n"
   ]
  },
  {
   "cell_type": "code",
   "execution_count": 61,
   "metadata": {},
   "outputs": [
    {
     "data": {
      "text/plain": [
       "{'/etc/emond.d': <Arrow [2019-12-14T00:58:27+00:00]>,\n",
       " '/etc/xinetd.d-migrated2launchd': <Arrow [2018-10-05T12:44:18.604708+00:00]>,\n",
       " '/etc/ssh_config.system_default': <Arrow [2007-09-24T05:11:21+00:00]>,\n",
       " '/etc/ssh_config.applesaved': <Arrow [2007-01-23T17:45:09+00:00]>,\n",
       " '/etc/periodic': <Arrow [2019-12-13T22:38:37+00:00]>,\n",
       " '/etc/manpaths': <Arrow [2019-12-13T22:02:44+00:00]>,\n",
       " '/etc/services~previous': <Arrow [2017-07-26T01:37:05+00:00]>,\n",
       " '/etc/rc.common': <Arrow [2019-12-14T00:25:04+00:00]>,\n",
       " '/etc/csh.logout~orig': <Arrow [2018-08-17T22:23:54+00:00]>,\n",
       " '/etc/auto_master': <Arrow [2020-01-10T05:27:48+00:00]>,\n",
       " '/etc/php.ini.default-5.2-previous~orig': <Arrow [2014-09-20T02:12:49+00:00]>,\n",
       " '/etc/csh.login': <Arrow [2019-12-13T22:43:12+00:00]>,\n",
       " '/etc/syslog.conf': <Arrow [2019-12-13T22:39:05+00:00]>,\n",
       " '/etc/rtadvd.conf~previous': <Arrow [2017-08-25T04:54:49+00:00]>,\n",
       " '/etc/syslog.conf~previous': <Arrow [2017-07-22T02:17:16+00:00]>,\n",
       " '/etc/krb5.keytab': <Arrow [2020-08-27T06:10:26.233412+00:00]>,\n",
       " '/etc/sudoers.d': <Arrow [2020-01-08T08:10:16+00:00]>,\n",
       " '/etc/bash_completion.d': <Arrow [2017-12-17T21:14:28+00:00]>,\n",
       " '/etc/ssl': <Arrow [2019-12-13T22:59:41+00:00]>,\n",
       " '/etc/kern_loader.conf.applesaved': <Arrow [2007-01-23T17:45:09+00:00]>,\n",
       " '/etc/nanorc': <Arrow [2019-12-13T22:38:42+00:00]>,\n",
       " '/etc/ttys~previous': <Arrow [2017-07-26T01:37:04+00:00]>,\n",
       " '/etc/csh.logout': <Arrow [2019-12-13T22:43:12+00:00]>,\n",
       " '/etc/aliases.db': <Arrow [2019-12-13T23:27:33+00:00]>,\n",
       " '/etc/hosts.lpd': <Arrow [2003-12-09T01:10:59+00:00]>,\n",
       " '/etc/bashrc_Apple_Terminal': <Arrow [2019-12-14T02:25:21+00:00]>,\n",
       " '/etc/racoon': <Arrow [2020-01-08T08:13:39+00:00]>,\n",
       " '/etc/snmp': <Arrow [2019-12-14T01:04:34+00:00]>,\n",
       " '/etc/zshrc_Apple_Terminal': <Arrow [2019-12-14T02:25:21+00:00]>,\n",
       " '/etc/named.conf.applesaved': <Arrow [2007-01-23T17:51:47+00:00]>,\n",
       " '/etc/gettytab': <Arrow [2019-12-13T22:02:44+00:00]>,\n",
       " '/etc/master.passwd~orig': <Arrow [2018-08-17T21:54:18+00:00]>,\n",
       " '/etc/kern_loader.conf': <Arrow [2019-12-13T22:02:44+00:00]>,\n",
       " '/etc/authorization.user_modified': <Arrow [2007-06-27T19:58:13+00:00]>,\n",
       " '/etc/networks~orig': <Arrow [2018-08-17T21:53:59+00:00]>,\n",
       " '/etc/paths.d': <Arrow [2020-08-27T06:04:02.356897+00:00]>,\n",
       " '/etc/asl': <Arrow [2020-08-27T06:03:48.903510+00:00]>,\n",
       " '/etc/csh.login~orig': <Arrow [2018-08-17T22:23:54+00:00]>,\n",
       " '/etc/rtadvd.conf': <Arrow [2020-01-10T05:28:42+00:00]>,\n",
       " '/etc/security': <Arrow [2019-12-13T22:41:29+00:00]>,\n",
       " '/etc/protocols~previous': <Arrow [2017-07-26T01:37:05+00:00]>,\n",
       " '/etc/group': <Arrow [2019-12-13T22:02:58+00:00]>,\n",
       " '/etc/printcap': <Arrow [2007-11-13T17:41:09+00:00]>,\n",
       " '/etc/auto_home': <Arrow [2020-01-10T05:27:48+00:00]>,\n",
       " '/etc/php.ini.default-previous': <Arrow [2018-03-31T10:01:30+00:00]>,\n",
       " '/etc/sudoers~': <Arrow [2009-06-01T07:42:11+00:00]>,\n",
       " '/etc/manpaths.d': <Arrow [2020-08-27T06:04:38.011248+00:00]>,\n",
       " '/etc/smb.conf.applesaved': <Arrow [2007-01-23T17:55:03+00:00]>,\n",
       " '/etc/ppp': <Arrow [2020-01-10T05:27:26+00:00]>,\n",
       " '/etc/shells': <Arrow [2017-02-09T21:26:25+00:00]>,\n",
       " '/etc/pear.conf-previous': <Arrow [2009-07-19T07:35:13+00:00]>,\n",
       " '/etc/crontab': <Arrow [2007-10-21T13:40:40+00:00]>,\n",
       " '/etc/slpsa.conf.applesaved': <Arrow [2007-01-23T17:55:03+00:00]>,\n",
       " '/etc/rc.common~previous': <Arrow [2017-08-01T00:30:19+00:00]>,\n",
       " '/etc/xinetd.d': <Arrow [2018-10-05T12:44:06.754678+00:00]>,\n",
       " '/etc/ttys': <Arrow [2019-12-13T22:02:44+00:00]>,\n",
       " '/etc/php-fpm.d': <Arrow [2019-12-14T03:22:27+00:00]>,\n",
       " '/etc/group~previous': <Arrow [2017-07-26T01:37:27+00:00]>,\n",
       " '/etc/php-fpm.conf.default': <Arrow [2019-12-14T03:22:26+00:00]>,\n",
       " '/etc/paths': <Arrow [2019-12-13T22:02:44+00:00]>,\n",
       " '/etc/rmtab': <Arrow [2019-12-13T22:02:44+00:00]>,\n",
       " '/etc/csh.cshrc~orig': <Arrow [2018-08-17T22:23:54+00:00]>,\n",
       " '/etc/inetd.conf.applesaved': <Arrow [2007-01-23T17:51:47+00:00]>,\n",
       " '/etc/xtab': <Arrow [2019-12-13T22:02:44+00:00]>,\n",
       " '/etc/php.ini.default': <Arrow [2019-12-14T03:23:53+00:00]>,\n",
       " '/etc/syslog.conf.applesaved': <Arrow [2007-01-23T17:51:47+00:00]>,\n",
       " '/etc/localtime': <Arrow [2020-04-26T02:36:39+00:00]>,\n",
       " '/etc/pf.conf': <Arrow [2019-12-13T22:54:29+00:00]>,\n",
       " '/etc/6to4.conf.applesaved': <Arrow [2007-01-23T17:55:03+00:00]>,\n",
       " '/etc/CiscoSystemsVPNClient': <Arrow [2011-01-15T23:37:22+00:00]>,\n",
       " '/etc/launchd.conf': <Arrow [2009-06-01T07:40:29+00:00]>,\n",
       " '/etc/sudoers': <Arrow [2020-01-08T08:10:16+00:00]>,\n",
       " '/etc/ftpusers~orig': <Arrow [2018-08-17T21:53:59+00:00]>,\n",
       " '/etc/bashrc': <Arrow [2019-12-13T22:38:43+00:00]>,\n",
       " '/etc/find.codes~orig': <Arrow [2018-08-17T21:53:59+00:00]>,\n",
       " '/etc/auto_master~orig': <Arrow [2018-08-23T03:25:25+00:00]>,\n",
       " '/etc/newsyslog.d': <Arrow [2020-01-23T12:49:12+00:00]>,\n",
       " '/etc/emacs': <Arrow [2018-10-05T12:43:21.530418+00:00]>,\n",
       " '/etc/irbrc': <Arrow [2019-12-13T23:29:28+00:00]>,\n",
       " '/etc/pam.d': <Arrow [2020-01-23T12:50:50+00:00]>,\n",
       " '/etc/zshrc': <Arrow [2020-02-29T06:58:29+00:00]>,\n",
       " '/etc/defaults': <Arrow [2019-12-13T22:38:37+00:00]>,\n",
       " '/etc/hosts.equiv': <Arrow [2019-12-13T22:02:44+00:00]>,\n",
       " '/etc/networks': <Arrow [2019-12-13T22:02:44+00:00]>,\n",
       " '/etc/find.codes': <Arrow [2019-12-13T22:02:44+00:00]>,\n",
       " '/etc/rpc~previous': <Arrow [2017-07-26T01:37:05+00:00]>,\n",
       " '/etc/apache2': <Arrow [2020-08-27T06:04:41.001548+00:00]>,\n",
       " '/etc/autofs.conf': <Arrow [2020-01-10T05:27:48+00:00]>,\n",
       " '/etc/ssh': <Arrow [2020-08-27T06:04:40.077859+00:00]>,\n",
       " '/etc/ftpusers': <Arrow [2019-12-13T22:02:44+00:00]>,\n",
       " '/etc/postgres-reg.ini': <Arrow [2010-09-27T08:55:35+00:00]>,\n",
       " '/etc/slpsa.conf': <Arrow [2005-03-16T16:24:57+00:00]>,\n",
       " '/etc/profile': <Arrow [2019-12-13T22:38:43+00:00]>,\n",
       " '/etc/csh.cshrc': <Arrow [2019-12-13T22:43:12+00:00]>,\n",
       " '/etc/fstab.hd~previous': <Arrow [2017-07-26T01:37:04+00:00]>,\n",
       " '/etc/ntp.conf.applesaved': <Arrow [2007-01-23T17:51:47+00:00]>,\n",
       " '/etc/ntp_opendirectory.conf': <Arrow [2019-12-14T00:23:04+00:00]>,\n",
       " '/etc/ssh_config~orig': <Arrow [2014-09-09T21:35:43+00:00]>,\n",
       " '/etc/profile~orig': <Arrow [2018-08-17T22:22:50+00:00]>,\n",
       " '/etc/authorization.deprecated': <Arrow [2013-09-19T18:53:36+00:00]>,\n",
       " '/etc/locate.rc': <Arrow [2019-12-13T22:47:43+00:00]>,\n",
       " '/etc/resolv.conf': <Arrow [2020-09-03T09:16:37.369441+00:00]>,\n",
       " '/etc/nfs.conf': <Arrow [2019-12-14T00:08:48+00:00]>,\n",
       " '/etc/crontab.applesaved': <Arrow [2007-01-23T17:51:47+00:00]>,\n",
       " '/etc/dictionaries-common': <Arrow [2018-10-05T12:41:17.723885+00:00]>,\n",
       " '/etc/sudoers~orig': <Arrow [2018-08-17T22:20:26+00:00]>,\n",
       " '/etc/sudo_lecture': <Arrow [2020-01-08T08:10:17+00:00]>,\n",
       " '/etc/asl.conf': <Arrow [2019-12-13T22:39:05+00:00]>,\n",
       " '/etc/ttys.applesaved': <Arrow [2007-01-23T17:45:09+00:00]>,\n",
       " '/etc/moduli~previous': <Arrow [2013-12-12T15:32:46+00:00]>,\n",
       " '/etc/rc.netboot': <Arrow [2020-01-06T00:30:49+00:00]>,\n",
       " '/etc/afpovertcp.cfg~orig': <Arrow [2018-08-17T21:53:59+00:00]>,\n",
       " '/etc/hosts~orig': <Arrow [2018-08-17T21:53:59+00:00]>,\n",
       " '/etc/fstab': <Arrow [2003-12-09T01:10:59+00:00]>,\n",
       " '/etc/opt': <Arrow [2018-10-05T12:42:59.384034+00:00]>,\n",
       " '/etc/nfs.conf~orig': <Arrow [2018-08-17T22:57:24+00:00]>,\n",
       " '/etc/hostconfig': <Arrow [2010-07-06T05:55:31+00:00]>,\n",
       " '/etc/smb.conf.old': <Arrow [2010-06-16T11:48:49+00:00]>,\n",
       " '/etc/kern_loader.conf~previous': <Arrow [2017-07-26T01:37:04+00:00]>,\n",
       " '/etc/xinetd.conf.applesaved': <Arrow [2007-01-23T17:51:47+00:00]>,\n",
       " '/etc/rtadvd.conf.applesaved': <Arrow [2007-01-23T17:55:03+00:00]>,\n",
       " '/etc/sshd_config.system_default': <Arrow [2007-09-24T05:11:23+00:00]>,\n",
       " '/etc/hosts': <Arrow [2019-06-24T16:43:38.608057+00:00]>,\n",
       " '/etc/efax.rc~previous': <Arrow [2015-08-22T23:05:27+00:00]>,\n",
       " '/etc/postfix': <Arrow [2020-08-27T06:04:59.217867+00:00]>,\n",
       " '/etc/pf.os': <Arrow [2019-12-13T22:54:29+00:00]>,\n",
       " '/etc/pf.anchors': <Arrow [2019-12-13T22:54:29+00:00]>,\n",
       " '/etc/php.ini.default-previous~orig': <Arrow [2017-02-08T00:20:37+00:00]>,\n",
       " '/etc/ntp.conf': <Arrow [2013-07-02T23:23:25+00:00]>,\n",
       " '/etc/php.ini.default-5.2-previous': <Arrow [2015-02-26T07:32:15+00:00]>,\n",
       " '/etc/gettytab~orig': <Arrow [2018-08-17T21:53:59+00:00]>,\n",
       " '/etc/passwd~orig': <Arrow [2016-07-30T19:32:36+00:00]>,\n",
       " '/etc/rpc': <Arrow [2019-12-13T22:02:44+00:00]>,\n",
       " '/etc/master.passwd': <Arrow [2019-12-13T22:02:58+00:00]>,\n",
       " '/etc/sshd_config~previous': <Arrow [2013-12-12T18:46:05+00:00]>,\n",
       " '/etc/fstab.hd': <Arrow [2019-12-13T22:02:44+00:00]>,\n",
       " '/etc/openldap': <Arrow [2020-08-27T06:04:39.670761+00:00]>,\n",
       " '/etc/aliases': <Arrow [2019-12-13T23:26:22+00:00]>,\n",
       " '/etc/paths~orig': <Arrow [2018-08-17T21:53:59+00:00]>,\n",
       " '/etc/fonts': <Arrow [2018-10-05T12:43:23.714535+00:00]>,\n",
       " '/etc/openssl': <Arrow [2018-10-05T12:42:07.521154+00:00]>,\n",
       " '/etc/com.apple.screensharing.agent.launchd': <Arrow [2019-12-23T02:52:59+00:00]>,\n",
       " '/etc/wfs': <Arrow [2019-12-13T23:43:20+00:00]>,\n",
       " '/etc/hostconfig.system_default': <Arrow [2007-10-02T03:54:55+00:00]>,\n",
       " '/etc/shells~orig': <Arrow [2018-08-17T21:53:59+00:00]>,\n",
       " '/etc/sshd_config.applesaved': <Arrow [2007-01-23T17:45:09+00:00]>,\n",
       " '/etc/dumpdates': <Arrow [2007-06-28T10:39:46+00:00]>,\n",
       " '/etc/protocols': <Arrow [2019-12-13T22:02:44+00:00]>,\n",
       " '/etc/AFP.conf': <Arrow [2013-07-03T00:08:25+00:00]>,\n",
       " '/etc/cups': <Arrow [2020-08-31T14:49:38.421494+00:00]>,\n",
       " '/etc/man.conf': <Arrow [2019-12-13T22:47:31+00:00]>,\n",
       " '/etc/services': <Arrow [2019-12-13T22:02:44+00:00]>,\n",
       " '/etc/mail.rc~orig': <Arrow [2018-08-17T22:22:34+00:00]>,\n",
       " '/etc/resolver': <Arrow [2018-10-05T12:42:53.676358+00:00]>,\n",
       " '/etc/passwd': <Arrow [2019-12-13T22:02:58+00:00]>,\n",
       " '/etc/zprofile': <Arrow [2019-12-13T22:52:59+00:00]>,\n",
       " '/etc/afpovertcp.cfg': <Arrow [2019-12-13T22:02:44+00:00]>,\n",
       " '/etc/newsyslog.conf': <Arrow [2019-12-13T22:38:37+00:00]>,\n",
       " '/etc/bashrc~previous': <Arrow [2017-07-15T21:09:01+00:00]>,\n",
       " '/etc/mail.rc': <Arrow [2019-12-13T22:42:39+00:00]>,\n",
       " '/etc/notify.conf': <Arrow [2019-12-13T22:47:06+00:00]>,\n",
       " '/etc/sysctl.conf.pg': <Arrow [2009-04-22T11:19:07+00:00]>}"
      ]
     },
     "execution_count": 61,
     "metadata": {},
     "output_type": "execute_result"
    }
   ],
   "source": [
    "mod_times('/etc/')"
   ]
  },
  {
   "cell_type": "code",
   "execution_count": 55,
   "metadata": {},
   "outputs": [],
   "source": [
    "import arrow"
   ]
  },
  {
   "cell_type": "code",
   "execution_count": 59,
   "metadata": {},
   "outputs": [
    {
     "data": {
      "text/plain": [
       "datetime.date(2017, 8, 25)"
      ]
     },
     "execution_count": 59,
     "metadata": {},
     "output_type": "execute_result"
    }
   ],
   "source": [
    "arrow.get(1503636889).date()"
   ]
  },
  {
   "cell_type": "code",
   "execution_count": 66,
   "metadata": {},
   "outputs": [
    {
     "data": {
      "text/plain": [
       "1105"
      ]
     },
     "execution_count": 66,
     "metadata": {},
     "output_type": "execute_result"
    }
   ],
   "source": [
    "(arrow.now() - arrow.get(1503636889)).days"
   ]
  },
  {
   "cell_type": "code",
   "execution_count": 69,
   "metadata": {},
   "outputs": [],
   "source": [
    "#!/usr/bin/env python3\n",
    "\"\"\"Solution to chapter 5, exercise 21, beyond 2: mod_times\"\"\"\n",
    "\n",
    "\n",
    "import glob\n",
    "import os\n",
    "\n",
    "\n",
    "def mod_times(dirname):\n",
    "    output = {}\n",
    "\n",
    "    for one_filename in glob.glob(f'{dirname}/*'):\n",
    "        try:\n",
    "            mod_time = os.stat(one_filename).st_mtime\n",
    "            output[one_filename] = (arrow.now() - arrow.get(mod_time)).days\n",
    "\n",
    "        except:\n",
    "            pass\n",
    "\n",
    "    return output\n"
   ]
  },
  {
   "cell_type": "code",
   "execution_count": 70,
   "metadata": {},
   "outputs": [
    {
     "data": {
      "text/plain": [
       "{'/etc/emond.d': 264,\n",
       " '/etc/xinetd.d-migrated2launchd': 699,\n",
       " '/etc/ssh_config.system_default': 4728,\n",
       " '/etc/ssh_config.applesaved': 4971,\n",
       " '/etc/periodic': 264,\n",
       " '/etc/manpaths': 264,\n",
       " '/etc/services~previous': 1135,\n",
       " '/etc/rc.common': 264,\n",
       " '/etc/csh.logout~orig': 747,\n",
       " '/etc/auto_master': 237,\n",
       " '/etc/php.ini.default-5.2-previous~orig': 2175,\n",
       " '/etc/csh.login': 264,\n",
       " '/etc/syslog.conf': 264,\n",
       " '/etc/rtadvd.conf~previous': 1105,\n",
       " '/etc/syslog.conf~previous': 1139,\n",
       " '/etc/krb5.keytab': 7,\n",
       " '/etc/sudoers.d': 239,\n",
       " '/etc/bash_completion.d': 990,\n",
       " '/etc/ssl': 264,\n",
       " '/etc/kern_loader.conf.applesaved': 4971,\n",
       " '/etc/nanorc': 264,\n",
       " '/etc/ttys~previous': 1135,\n",
       " '/etc/csh.logout': 264,\n",
       " '/etc/aliases.db': 264,\n",
       " '/etc/hosts.lpd': 6113,\n",
       " '/etc/bashrc_Apple_Terminal': 264,\n",
       " '/etc/racoon': 239,\n",
       " '/etc/snmp': 264,\n",
       " '/etc/zshrc_Apple_Terminal': 264,\n",
       " '/etc/named.conf.applesaved': 4971,\n",
       " '/etc/gettytab': 264,\n",
       " '/etc/master.passwd~orig': 747,\n",
       " '/etc/kern_loader.conf': 264,\n",
       " '/etc/authorization.user_modified': 4816,\n",
       " '/etc/networks~orig': 747,\n",
       " '/etc/paths.d': 7,\n",
       " '/etc/asl': 7,\n",
       " '/etc/csh.login~orig': 747,\n",
       " '/etc/rtadvd.conf': 237,\n",
       " '/etc/security': 264,\n",
       " '/etc/protocols~previous': 1135,\n",
       " '/etc/group': 264,\n",
       " '/etc/printcap': 4677,\n",
       " '/etc/auto_home': 237,\n",
       " '/etc/php.ini.default-previous': 887,\n",
       " '/etc/sudoers~': 4112,\n",
       " '/etc/manpaths.d': 7,\n",
       " '/etc/smb.conf.applesaved': 4971,\n",
       " '/etc/ppp': 237,\n",
       " '/etc/shells': 1301,\n",
       " '/etc/pear.conf-previous': 4064,\n",
       " '/etc/crontab': 4700,\n",
       " '/etc/slpsa.conf.applesaved': 4971,\n",
       " '/etc/rc.common~previous': 1129,\n",
       " '/etc/xinetd.d': 699,\n",
       " '/etc/ttys': 264,\n",
       " '/etc/php-fpm.d': 264,\n",
       " '/etc/group~previous': 1135,\n",
       " '/etc/php-fpm.conf.default': 264,\n",
       " '/etc/paths': 264,\n",
       " '/etc/rmtab': 264,\n",
       " '/etc/csh.cshrc~orig': 747,\n",
       " '/etc/inetd.conf.applesaved': 4971,\n",
       " '/etc/xtab': 264,\n",
       " '/etc/php.ini.default': 264,\n",
       " '/etc/syslog.conf.applesaved': 4971,\n",
       " '/etc/localtime': 130,\n",
       " '/etc/pf.conf': 264,\n",
       " '/etc/6to4.conf.applesaved': 4971,\n",
       " '/etc/CiscoSystemsVPNClient': 3518,\n",
       " '/etc/launchd.conf': 4112,\n",
       " '/etc/sudoers': 239,\n",
       " '/etc/ftpusers~orig': 747,\n",
       " '/etc/bashrc': 264,\n",
       " '/etc/find.codes~orig': 747,\n",
       " '/etc/auto_master~orig': 742,\n",
       " '/etc/newsyslog.d': 224,\n",
       " '/etc/emacs': 699,\n",
       " '/etc/irbrc': 264,\n",
       " '/etc/pam.d': 224,\n",
       " '/etc/zshrc': 187,\n",
       " '/etc/defaults': 264,\n",
       " '/etc/hosts.equiv': 264,\n",
       " '/etc/networks': 264,\n",
       " '/etc/find.codes': 264,\n",
       " '/etc/rpc~previous': 1135,\n",
       " '/etc/apache2': 7,\n",
       " '/etc/autofs.conf': 237,\n",
       " '/etc/ssh': 7,\n",
       " '/etc/ftpusers': 264,\n",
       " '/etc/postgres-reg.ini': 3629,\n",
       " '/etc/slpsa.conf': 5649,\n",
       " '/etc/profile': 264,\n",
       " '/etc/csh.cshrc': 264,\n",
       " '/etc/fstab.hd~previous': 1135,\n",
       " '/etc/ntp.conf.applesaved': 4971,\n",
       " '/etc/ntp_opendirectory.conf': 264,\n",
       " '/etc/ssh_config~orig': 2185,\n",
       " '/etc/profile~orig': 747,\n",
       " '/etc/authorization.deprecated': 2540,\n",
       " '/etc/locate.rc': 264,\n",
       " '/etc/resolv.conf': 0,\n",
       " '/etc/nfs.conf': 264,\n",
       " '/etc/crontab.applesaved': 4971,\n",
       " '/etc/dictionaries-common': 699,\n",
       " '/etc/sudoers~orig': 747,\n",
       " '/etc/sudo_lecture': 239,\n",
       " '/etc/asl.conf': 264,\n",
       " '/etc/ttys.applesaved': 4971,\n",
       " '/etc/moduli~previous': 2456,\n",
       " '/etc/rc.netboot': 241,\n",
       " '/etc/afpovertcp.cfg~orig': 747,\n",
       " '/etc/hosts~orig': 747,\n",
       " '/etc/fstab': 6113,\n",
       " '/etc/opt': 699,\n",
       " '/etc/nfs.conf~orig': 747,\n",
       " '/etc/hostconfig': 3712,\n",
       " '/etc/smb.conf.old': 3732,\n",
       " '/etc/kern_loader.conf~previous': 1135,\n",
       " '/etc/xinetd.conf.applesaved': 4971,\n",
       " '/etc/rtadvd.conf.applesaved': 4971,\n",
       " '/etc/sshd_config.system_default': 4728,\n",
       " '/etc/hosts': 436,\n",
       " '/etc/efax.rc~previous': 1838,\n",
       " '/etc/postfix': 7,\n",
       " '/etc/pf.os': 264,\n",
       " '/etc/pf.anchors': 264,\n",
       " '/etc/php.ini.default-previous~orig': 1303,\n",
       " '/etc/ntp.conf': 2619,\n",
       " '/etc/php.ini.default-5.2-previous': 2016,\n",
       " '/etc/gettytab~orig': 747,\n",
       " '/etc/passwd~orig': 1495,\n",
       " '/etc/rpc': 264,\n",
       " '/etc/master.passwd': 264,\n",
       " '/etc/sshd_config~previous': 2456,\n",
       " '/etc/fstab.hd': 264,\n",
       " '/etc/openldap': 7,\n",
       " '/etc/aliases': 264,\n",
       " '/etc/paths~orig': 747,\n",
       " '/etc/fonts': 699,\n",
       " '/etc/openssl': 699,\n",
       " '/etc/com.apple.screensharing.agent.launchd': 255,\n",
       " '/etc/wfs': 264,\n",
       " '/etc/hostconfig.system_default': 4720,\n",
       " '/etc/shells~orig': 747,\n",
       " '/etc/sshd_config.applesaved': 4971,\n",
       " '/etc/dumpdates': 4816,\n",
       " '/etc/protocols': 264,\n",
       " '/etc/AFP.conf': 2619,\n",
       " '/etc/cups': 2,\n",
       " '/etc/man.conf': 264,\n",
       " '/etc/services': 264,\n",
       " '/etc/mail.rc~orig': 747,\n",
       " '/etc/resolver': 699,\n",
       " '/etc/passwd': 264,\n",
       " '/etc/zprofile': 264,\n",
       " '/etc/afpovertcp.cfg': 264,\n",
       " '/etc/newsyslog.conf': 264,\n",
       " '/etc/bashrc~previous': 1145,\n",
       " '/etc/mail.rc': 264,\n",
       " '/etc/notify.conf': 264,\n",
       " '/etc/sysctl.conf.pg': 4152}"
      ]
     },
     "execution_count": 70,
     "metadata": {},
     "output_type": "execute_result"
    }
   ],
   "source": [
    "mod_times('/etc/')"
   ]
  },
  {
   "cell_type": "code",
   "execution_count": 73,
   "metadata": {},
   "outputs": [],
   "source": [
    "#!/usr/bin/env python3\n",
    "\"\"\"Solution to chapter 5, exercise 21, beyond 3: response_counts\"\"\"\n",
    "\n",
    "\n",
    "from collections import Counter\n",
    "\n",
    "\n",
    "def response_counts(filename):\n",
    "    output = Counter()\n",
    "\n",
    "    for one_line in open(filename):\n",
    "        output[one_line.split()[8]] += 1\n",
    "\n",
    "    return output\n"
   ]
  },
  {
   "cell_type": "code",
   "execution_count": 74,
   "metadata": {},
   "outputs": [
    {
     "data": {
      "text/plain": [
       "Counter({'200': 193, '302': 6, '304': 5, '404': 2})"
      ]
     },
     "execution_count": 74,
     "metadata": {},
     "output_type": "execute_result"
    }
   ],
   "source": [
    "response_counts('../files/mini-access-log.txt')"
   ]
  },
  {
   "cell_type": "code",
   "execution_count": 90,
   "metadata": {},
   "outputs": [],
   "source": [
    "import csv\n",
    "\n",
    "def passwd_to_csv(passwd_filename, csv_filename, fields_to_pass='0 2 5', delimiter='\\t'):\n",
    "    fields_to_pass = [int(one_item)\n",
    "                      for one_item in fields_to_pass.split()]\n",
    "\n",
    "    with open(passwd_filename) as passwd, open(csv_filename, 'w') as output:\n",
    "        infile = csv.reader(passwd, delimiter=':')\n",
    "        outfile = csv.writer(output, delimiter=delimiter)\n",
    "        for record in infile:\n",
    "\n",
    "            if len(record) > 1:\n",
    "                fields = [one_field\n",
    "                          for index, one_field in enumerate(record)\n",
    "                          if index in fields_to_pass]\n",
    "\n",
    "                outfile.writerow(fields)\n"
   ]
  },
  {
   "cell_type": "code",
   "execution_count": 91,
   "metadata": {},
   "outputs": [],
   "source": [
    "passwd_to_csv('/etc/passwd', 'output.csv')"
   ]
  },
  {
   "cell_type": "code",
   "execution_count": 92,
   "metadata": {},
   "outputs": [
    {
     "name": "stdout",
     "output_type": "stream",
     "text": [
      "nobody\t-2\t/var/empty\r",
      "\r\n",
      "root\t0\t/var/root\r",
      "\r\n",
      "daemon\t1\t/var/root\r",
      "\r\n",
      "_uucp\t4\t/var/spool/uucp\r",
      "\r\n",
      "_taskgated\t13\t/var/empty\r",
      "\r\n",
      "_networkd\t24\t/var/networkd\r",
      "\r\n",
      "_installassistant\t25\t/var/empty\r",
      "\r\n",
      "_lp\t26\t/var/spool/cups\r",
      "\r\n",
      "_postfix\t27\t/var/spool/postfix\r",
      "\r\n",
      "_scsd\t31\t/var/empty\r",
      "\r\n",
      "_ces\t32\t/var/empty\r",
      "\r\n",
      "_appstore\t33\t/var/db/appstore\r",
      "\r\n",
      "_mcxalr\t54\t/var/empty\r",
      "\r\n",
      "_appleevents\t55\t/var/empty\r",
      "\r\n",
      "_geod\t56\t/var/db/geod\r",
      "\r\n",
      "_devdocs\t59\t/var/empty\r",
      "\r\n",
      "_sandbox\t60\t/var/empty\r",
      "\r\n",
      "_mdnsresponder\t65\t/var/empty\r",
      "\r\n",
      "_ard\t67\t/var/empty\r",
      "\r\n",
      "_www\t70\t/Library/WebServer\r",
      "\r\n",
      "_eppc\t71\t/var/empty\r",
      "\r\n",
      "_cvs\t72\t/var/empty\r",
      "\r\n",
      "_svn\t73\t/var/empty\r",
      "\r\n",
      "_mysql\t74\t/var/empty\r",
      "\r\n",
      "_sshd\t75\t/var/empty\r",
      "\r\n",
      "_qtss\t76\t/var/empty\r",
      "\r\n",
      "_cyrus\t77\t/var/imap\r",
      "\r\n",
      "_mailman\t78\t/var/empty\r",
      "\r\n",
      "_appserver\t79\t/var/empty\r",
      "\r\n",
      "_clamav\t82\t/var/virusmails\r",
      "\r\n",
      "_amavisd\t83\t/var/virusmails\r",
      "\r\n",
      "_jabber\t84\t/var/empty\r",
      "\r\n",
      "_appowner\t87\t/var/empty\r",
      "\r\n",
      "_windowserver\t88\t/var/empty\r",
      "\r\n",
      "_spotlight\t89\t/var/empty\r",
      "\r\n",
      "_tokend\t91\t/var/empty\r",
      "\r\n",
      "_securityagent\t92\t/var/db/securityagent\r",
      "\r\n",
      "_calendar\t93\t/var/empty\r",
      "\r\n",
      "_teamsserver\t94\t/var/teamsserver\r",
      "\r\n",
      "_update_sharing\t95\t/var/empty\r",
      "\r\n",
      "_installer\t96\t/var/empty\r",
      "\r\n",
      "_atsserver\t97\t/var/empty\r",
      "\r\n",
      "_ftp\t98\t/var/empty\r",
      "\r\n",
      "_unknown\t99\t/var/empty\r",
      "\r\n",
      "_softwareupdate\t200\t/var/db/softwareupdate\r",
      "\r\n",
      "_coreaudiod\t202\t/var/empty\r",
      "\r\n",
      "_screensaver\t203\t/var/empty\r",
      "\r\n",
      "_locationd\t205\t/var/db/locationd\r",
      "\r\n",
      "_trustevaluationagent\t208\t/var/empty\r",
      "\r\n",
      "_timezone\t210\t/var/empty\r",
      "\r\n",
      "_lda\t211\t/var/empty\r",
      "\r\n",
      "_cvmsroot\t212\t/var/empty\r",
      "\r\n",
      "_usbmuxd\t213\t/var/db/lockdown\r",
      "\r\n",
      "_dovecot\t214\t/var/empty\r",
      "\r\n",
      "_dpaudio\t215\t/var/empty\r",
      "\r\n",
      "_postgres\t216\t/var/empty\r",
      "\r\n",
      "_krbtgt\t217\t/var/empty\r",
      "\r\n",
      "_kadmin_admin\t218\t/var/empty\r",
      "\r\n",
      "_kadmin_changepw\t219\t/var/empty\r",
      "\r\n",
      "_devicemgr\t220\t/var/empty\r",
      "\r\n",
      "_webauthserver\t221\t/var/empty\r",
      "\r\n",
      "_netbios\t222\t/var/empty\r",
      "\r\n",
      "_warmd\t224\t/var/empty\r",
      "\r\n",
      "_dovenull\t227\t/var/empty\r",
      "\r\n",
      "_netstatistics\t228\t/var/empty\r",
      "\r\n",
      "_avbdeviced\t229\t/var/empty\r",
      "\r\n",
      "_krb_krbtgt\t230\t/var/empty\r",
      "\r\n",
      "_krb_kadmin\t231\t/var/empty\r",
      "\r\n",
      "_krb_changepw\t232\t/var/empty\r",
      "\r\n",
      "_krb_kerberos\t233\t/var/empty\r",
      "\r\n",
      "_krb_anonymous\t234\t/var/empty\r",
      "\r\n",
      "_assetcache\t235\t/var/empty\r",
      "\r\n",
      "_coremediaiod\t236\t/var/empty\r",
      "\r\n",
      "_launchservicesd\t239\t/var/empty\r",
      "\r",
      "\r\n",
      "_iconservices\t240\t/var/empty\r",
      "\r\n",
      "_distnote\t241\t/var/empty\r",
      "\r\n",
      "_nsurlsessiond\t242\t/var/db/nsurlsessiond\r",
      "\r\n",
      "_nsurlstoraged\t243\t/var/db/nsurlstoraged\r",
      "\r\n",
      "_displaypolicyd\t244\t/var/empty\r",
      "\r\n",
      "_astris\t245\t/var/db/astris\r",
      "\r\n",
      "_krbfast\t246\t/var/empty\r",
      "\r\n",
      "_gamecontrollerd\t247\t/var/empty\r",
      "\r\n",
      "_mbsetupuser\t248\t/var/setup\r",
      "\r\n",
      "_ondemand\t249\t/var/db/ondemand\r",
      "\r\n",
      "_xserverdocs\t251\t/var/empty\r",
      "\r\n",
      "_wwwproxy\t252\t/var/empty\r",
      "\r\n",
      "_mobileasset\t253\t/var/ma\r",
      "\r\n",
      "_findmydevice\t254\t/var/db/findmydevice\r",
      "\r\n",
      "_datadetectors\t257\t/var/db/datadetectors\r",
      "\r\n",
      "_captiveagent\t258\t/var/empty\r",
      "\r\n",
      "_ctkd\t259\t/var/empty\r",
      "\r\n",
      "_applepay\t260\t/var/db/applepay\r",
      "\r\n",
      "_hidd\t261\t/var/db/hidd\r",
      "\r\n",
      "_cmiodalassistants\t262\t/var/db/cmiodalassistants\r",
      "\r\n",
      "_analyticsd\t263\t/var/db/analyticsd\r",
      "\r\n",
      "_fpsd\t265\t/var/db/fpsd\r",
      "\r\n",
      "_timed\t266\t/var/db/timed\r",
      "\r\n",
      "_nearbyd\t268\t/var/db/nearbyd\r",
      "\r\n",
      "_reportmemoryexception\t269\t/var/db/reportmemoryexception\r",
      "\r\n",
      "_driverkit\t270\t/var/empty\r",
      "\r\n"
     ]
    }
   ],
   "source": [
    "!cat output.csv"
   ]
  },
  {
   "cell_type": "code",
   "execution_count": null,
   "metadata": {},
   "outputs": [],
   "source": []
  },
  {
   "cell_type": "code",
   "execution_count": 95,
   "metadata": {},
   "outputs": [],
   "source": [
    "import csv\n",
    "\n",
    "\n",
    "def dict_to_csv(d, csv_filename):\n",
    "\n",
    "    with open(csv_filename, 'w') as output:\n",
    "        outfile = csv.writer(output, delimiter='\\t')\n",
    "\n",
    "        for key, value in d.items():\n",
    "            outfile.writerow([key, value, type(value)])\n"
   ]
  },
  {
   "cell_type": "code",
   "execution_count": 96,
   "metadata": {},
   "outputs": [],
   "source": [
    "d = {'a':1, 'b':[2,3,4], 'c':2.5, 'd':{'x':100, 'y':200}}\n",
    "\n",
    "dict_to_csv(d, 'output.csv')"
   ]
  },
  {
   "cell_type": "code",
   "execution_count": 97,
   "metadata": {},
   "outputs": [
    {
     "name": "stdout",
     "output_type": "stream",
     "text": [
      "a\t1\t<class 'int'>\r",
      "\r\n",
      "b\t[2, 3, 4]\t<class 'list'>\r",
      "\r\n",
      "c\t2.5\t<class 'float'>\r",
      "\r\n",
      "d\t{'x': 100, 'y': 200}\t<class 'dict'>\r",
      "\r\n"
     ]
    }
   ],
   "source": [
    "!cat output.csv"
   ]
  },
  {
   "cell_type": "code",
   "execution_count": 98,
   "metadata": {},
   "outputs": [
    {
     "name": "stdout",
     "output_type": "stream",
     "text": [
      "a^I1^I<class 'int'>\r",
      "\r\n",
      "b^I[2, 3, 4]^I<class 'list'>\r",
      "\r\n",
      "c^I2.5^I<class 'float'>\r",
      "\r\n",
      "d^I{'x': 100, 'y': 200}^I<class 'dict'>\r",
      "\r\n"
     ]
    }
   ],
   "source": [
    "!cat -T output.csv"
   ]
  },
  {
   "cell_type": "code",
   "execution_count": 99,
   "metadata": {},
   "outputs": [],
   "source": [
    "#!/usr/bin/env python3\n",
    "\"\"\"Solution to chapter 5, exercise 22, beyond 3: random_csv\"\"\"\n",
    "\n",
    "\n",
    "import random\n",
    "import csv\n",
    "\n",
    "\n",
    "def random_csv(csv_filename):\n",
    "\n",
    "    with open(csv_filename, 'w') as output:\n",
    "        outfile = csv.writer(output)\n",
    "\n",
    "        for i in range(10):\n",
    "            output = []\n",
    "            for j in range(10):\n",
    "                output.append(random.randint(0, 100))\n",
    "\n",
    "            outfile.writerow(output)\n"
   ]
  },
  {
   "cell_type": "code",
   "execution_count": 100,
   "metadata": {},
   "outputs": [],
   "source": [
    "random_csv('output.csv')"
   ]
  },
  {
   "cell_type": "code",
   "execution_count": 101,
   "metadata": {},
   "outputs": [
    {
     "name": "stdout",
     "output_type": "stream",
     "text": [
      "25,33,70,37,23,43,32,26,44,87\r",
      "\r\n",
      "25,98,20,20,44,89,64,15,0,3\r",
      "\r\n",
      "3,62,60,37,52,59,83,39,96,7\r",
      "\r\n",
      "69,64,38,36,76,60,92,32,33,32\r",
      "\r\n",
      "71,17,72,94,12,14,71,2,29,2\r",
      "\r\n",
      "48,5,65,82,69,96,33,15,74,8\r",
      "\r\n",
      "75,53,43,82,28,16,30,36,66,72\r",
      "\r\n",
      "66,47,53,78,12,81,12,70,94,25\r",
      "\r\n",
      "72,52,13,10,28,40,56,27,35,4\r",
      "\r\n",
      "7,91,40,13,2,36,41,78,23,35\r",
      "\r\n"
     ]
    }
   ],
   "source": [
    "!cat output.csv"
   ]
  },
  {
   "cell_type": "code",
   "execution_count": 102,
   "metadata": {},
   "outputs": [],
   "source": [
    " #!/usr/bin/env python3\n",
    "\"\"\"Solution to chapter 5, exercise 22, beyond 3: random_csv\"\"\"\n",
    "\n",
    "\n",
    "import random\n",
    "import csv\n",
    "\n",
    "\n",
    "def random_csv(csv_filename):\n",
    "\n",
    "    with open(csv_filename, 'w') as output:\n",
    "        outfile = csv.writer(output)\n",
    "\n",
    "        for i in range(10):\n",
    "            output = []\n",
    "            for j in range(10):\n",
    "                output.append(random.randint(0, 100))\n",
    "\n",
    "            outfile.writerow(output)\n",
    "\n",
    "    for one_line in open(csv_filename):\n",
    "        numbers = [int(one_item)\n",
    "                   for one_item in one_line.split()]\n",
    "\n",
    "        print(f'sum = {sum(numbers)}, mean = {sum(numbers)/len(numbers)}')\n"
   ]
  },
  {
   "cell_type": "code",
   "execution_count": 103,
   "metadata": {},
   "outputs": [
    {
     "ename": "ValueError",
     "evalue": "invalid literal for int() with base 10: '79,58,38,90,91,96,31,16,4,8'",
     "output_type": "error",
     "traceback": [
      "\u001b[0;31m---------------------------------------------------------------------------\u001b[0m",
      "\u001b[0;31mValueError\u001b[0m                                Traceback (most recent call last)",
      "\u001b[0;32m<ipython-input-103-65068f5bc539>\u001b[0m in \u001b[0;36m<module>\u001b[0;34m\u001b[0m\n\u001b[0;32m----> 1\u001b[0;31m \u001b[0mrandom_csv\u001b[0m\u001b[0;34m(\u001b[0m\u001b[0;34m'output.csv'\u001b[0m\u001b[0;34m)\u001b[0m\u001b[0;34m\u001b[0m\u001b[0;34m\u001b[0m\u001b[0m\n\u001b[0m",
      "\u001b[0;32m<ipython-input-102-b152d9ddac71>\u001b[0m in \u001b[0;36mrandom_csv\u001b[0;34m(csv_filename)\u001b[0m\n\u001b[1;32m     20\u001b[0m \u001b[0;34m\u001b[0m\u001b[0m\n\u001b[1;32m     21\u001b[0m    \u001b[0;32mfor\u001b[0m \u001b[0mone_line\u001b[0m \u001b[0;32min\u001b[0m \u001b[0mopen\u001b[0m\u001b[0;34m(\u001b[0m\u001b[0mcsv_filename\u001b[0m\u001b[0;34m)\u001b[0m\u001b[0;34m:\u001b[0m\u001b[0;34m\u001b[0m\u001b[0;34m\u001b[0m\u001b[0m\n\u001b[0;32m---> 22\u001b[0;31m        numbers = [int(one_item)\n\u001b[0m\u001b[1;32m     23\u001b[0m                   for one_item in one_line.split()]\n\u001b[1;32m     24\u001b[0m \u001b[0;34m\u001b[0m\u001b[0m\n",
      "\u001b[0;32m<ipython-input-102-b152d9ddac71>\u001b[0m in \u001b[0;36m<listcomp>\u001b[0;34m(.0)\u001b[0m\n\u001b[1;32m     20\u001b[0m \u001b[0;34m\u001b[0m\u001b[0m\n\u001b[1;32m     21\u001b[0m    \u001b[0;32mfor\u001b[0m \u001b[0mone_line\u001b[0m \u001b[0;32min\u001b[0m \u001b[0mopen\u001b[0m\u001b[0;34m(\u001b[0m\u001b[0mcsv_filename\u001b[0m\u001b[0;34m)\u001b[0m\u001b[0;34m:\u001b[0m\u001b[0;34m\u001b[0m\u001b[0;34m\u001b[0m\u001b[0m\n\u001b[0;32m---> 22\u001b[0;31m        numbers = [int(one_item)\n\u001b[0m\u001b[1;32m     23\u001b[0m                   for one_item in one_line.split()]\n\u001b[1;32m     24\u001b[0m \u001b[0;34m\u001b[0m\u001b[0m\n",
      "\u001b[0;31mValueError\u001b[0m: invalid literal for int() with base 10: '79,58,38,90,91,96,31,16,4,8'"
     ]
    }
   ],
   "source": [
    "random_csv('output.csv')"
   ]
  },
  {
   "cell_type": "code",
   "execution_count": 24,
   "metadata": {},
   "outputs": [],
   "source": [
    "def encrypt(filename, text):\n",
    "    with open(filename, 'w') as outfile:\n",
    "        for one_character in text:\n",
    "            outfile.write(f'{ord(one_character)}\\n')\n",
    "def decrypt(filename):\n",
    "    characters = [chr(int(one_character))\n",
    "                  for one_character in open(filename)\n",
    "                  if one_character.strip().isdigit()]\n",
    "    return ''.join(characters)\n"
   ]
  },
  {
   "cell_type": "code",
   "execution_count": 25,
   "metadata": {},
   "outputs": [],
   "source": [
    "encrypt('myoutput.txt', 'hello\\nout\\nthere!!!\\n')"
   ]
  },
  {
   "cell_type": "code",
   "execution_count": 26,
   "metadata": {},
   "outputs": [
    {
     "name": "stdout",
     "output_type": "stream",
     "text": [
      "104\r\n",
      "101\r\n",
      "108\r\n",
      "108\r\n",
      "111\r\n",
      "10\r\n",
      "111\r\n",
      "117\r\n",
      "116\r\n",
      "10\r\n",
      "116\r\n",
      "104\r\n",
      "101\r\n",
      "114\r\n",
      "101\r\n",
      "33\r\n",
      "33\r\n",
      "33\r\n",
      "10\r\n"
     ]
    }
   ],
   "source": [
    "!cat myoutput.txt"
   ]
  },
  {
   "cell_type": "code",
   "execution_count": 27,
   "metadata": {},
   "outputs": [
    {
     "data": {
      "text/plain": [
       "'hello\\nout\\nthere!!!\\n'"
      ]
     },
     "execution_count": 27,
     "metadata": {},
     "output_type": "execute_result"
    }
   ],
   "source": [
    "decrypt('myoutput.txt')"
   ]
  },
  {
   "cell_type": "code",
   "execution_count": 28,
   "metadata": {},
   "outputs": [
    {
     "name": "stdout",
     "output_type": "stream",
     "text": [
      "hello\n",
      "out\n",
      "there!!!\n",
      "\n"
     ]
    }
   ],
   "source": [
    "print(decrypt('myoutput.txt'))"
   ]
  },
  {
   "cell_type": "code",
   "execution_count": 29,
   "metadata": {},
   "outputs": [],
   "source": [
    "import string\n",
    "\n",
    "\n",
    "def vowels_and_consonants(infilename, vowel_filename, consonant_filename):\n",
    "    with open(infilename) as infile, open(vowel_filename, 'w') as vowel_out, open(consonant_filename, 'w') as consonant_out:\n",
    "        for one_line in infile:\n",
    "            for one_character in one_line:\n",
    "                if one_character.lower() in 'aeiou':\n",
    "                    vowel_out.write(one_character)\n",
    "                elif one_character.lower() in string.ascii_lowercase:\n",
    "                    consonant_out.write(one_character)\n"
   ]
  },
  {
   "cell_type": "code",
   "execution_count": 30,
   "metadata": {},
   "outputs": [],
   "source": [
    "vowels_and_consonants('/etc/passwd', 'passwd-vowels', 'passwd-consonants')"
   ]
  },
  {
   "cell_type": "code",
   "execution_count": 33,
   "metadata": {},
   "outputs": [
    {
     "name": "stdout",
     "output_type": "stream",
     "text": [
      "UeaaaeoeaiieioueieoeeeiuiiieueoeAoeieiioaioioieOeieoeeeoeieoaaeoaiioaioaioaouOeieoooUiieeUeaeuiaeooeAiiaoaooiaeoeeieaoouiaeuuUioUiooooaoouuuiuuioaaeaaeaeoaeuiaeeoeoeieaeouiaeiaaiaIaAiaaeuiaeiieieaoouuiaeoioiaieeaoooiuiaeeieoiuaioeieaeuiaeeeiiaeEoeeieaeuiaeaoeaAoeeieaaoeuiaeaAauaeuiaeaeeeAeEeaeoaeuiaeeoeoeieaeoaeouiaeeoeeoeoueaioaeuiaeaoeaeaeuiaeeoeeoeaeuiaeaAeeoeeoaeuiaeoieeeeiaeeeuiaeeAeEeUeaeuiaeeeaeuiaeeeaeuiaeeeaeuiaeiieeeaaioaeuiaeuiieeaieeaeuiaeuuAiiaoaiauiaeaiaaiaieeaeuiaeaeeAiaioeeaeuiaeaaaAaeoaiuaiuiaeaaiAaiaeoaiuaiuiaeaeaeeeaeuiaeaoeAiaioOeaeuiaeioeeioeeaeuiaeoioiaeuiaeoeoeaeoaeuiaeeuiaeeuiAeaeuiaeuiaeaeaaeaaeuiaeeaeeeaeeaeaeeuiaeuaeaiUaeaiaeuiaeiaeIaeaeuiaeaeeAeeaeuiaeaeoaeuiaeuoUoUeaeuiaeoaeuaeoaeUaeeieaoaeuaeuiaeoeauiooeAuioaeoaeuiaeeeaeeeaeaeuiaeoaiooaioaeoaoaiouiaeueauaioaeuEauaioAeaeuiaeieoeAuoieoeaeoaeuiaeaoaeieAeaeuiaeooooaeuiaeuuioeOeieeeaoouiaeoeooeoAiiaoaeuiaeauioAuioaeuiaeoeoeeeaeuiaeeeoieaiieaeuiaeaiaieeoAieieaeuiaeaiaeeeoaeaoeieaeuiaeeieeieaaeeeeaeuiaeeaueeeAueeaeuiaeeioeIOaeuiaeaaaeoaeuiaeoeuoeoAueiaioaeuiaeeaiieoaiiaeoaeuiaeaeieEeeAeieaeoaeuiaeOeieoeeoieaiieaeuiaeaiOeieoeeoAieieaeuiaeaeOeieoeeoaeaoeieaeuiaeeeoOeieoeeoaeuiaeaoouOeieoeeoAoouaeuiaeaeaeAeaeeieaeuiaeoeeiaiooeeiaIOaeoaeuiaeaueieaueieaeuiaeioeieIoeieaeuiaeioeioeaeuiaeueioUeioaeoaueiouiaeuoaeUoaeaeoauoaeuiaeiaoiiaoiaeoaeuiaeaiAieieaaiuiaeaeeoAAouaeuiaeaeooeaeooeaeoaeuiaeeuueeuUeaeuiaoeaOeaeoueaeoaoeauiaeeeoaOeeoueeieaeuiaeooaeuiaeoieaeoieAeUeaauiaeieieieieaeoaieieuiaeaaeeoaaeeoaaaeeouiaeaieaeaieaeaeuiaeAouaeuiaeaeaaeaAouaaeauiaeiIeieUeaiuiaeioaaiaoeeiaIOAiaUeaioaaiauiaeaaiAaiaeoaaaiuiaeaeoauiaeieieaeoaieuiaeeaoiiaaiaeoaeauiaeeoeoeeioeoeoEeioaeoeoeeiouiaeieiieiaeuiae"
     ]
    }
   ],
   "source": [
    "!cat passwd-vowels"
   ]
  },
  {
   "cell_type": "code",
   "execution_count": 37,
   "metadata": {},
   "outputs": [],
   "source": [
    "#!/usr/bin/env python3\n",
    "\"\"\"Solution to chapter 5, exercise 24, beyond 3: shell_users\"\"\"\n",
    "\n",
    "from collections import defaultdict\n",
    "\n",
    "\n",
    "def shell_users(filename, outfilename):\n",
    "    shells = defaultdict(list)\n",
    "\n",
    "    with open(filename) as passwd, open(outfilename, 'w') as outfile:\n",
    "        for one_line in passwd:\n",
    "            if one_line.startswith(('#', '\\n')):\n",
    "                continue\n",
    "\n",
    "            username, *fields, shell = one_line.strip().split(':')\n",
    "            shells[shell].append(username)\n",
    "\n",
    "        for shell, all_users in shells.items():\n",
    "            outfile.write(f'{shell}\\t{\",\".join(all_users)}\\n')\n"
   ]
  },
  {
   "cell_type": "code",
   "execution_count": 38,
   "metadata": {},
   "outputs": [],
   "source": [
    "shell_users('/etc/passwd', 'myshells.txt')"
   ]
  },
  {
   "cell_type": "code",
   "execution_count": 39,
   "metadata": {},
   "outputs": [
    {
     "name": "stdout",
     "output_type": "stream",
     "text": [
      "/usr/bin/false\tnobody,daemon,_taskgated,_networkd,_installassistant,_lp,_postfix,_scsd,_ces,_appstore,_mcxalr,_appleevents,_geod,_devdocs,_sandbox,_mdnsresponder,_ard,_www,_eppc,_cvs,_svn,_mysql,_sshd,_qtss,_cyrus,_mailman,_appserver,_clamav,_amavisd,_jabber,_appowner,_windowserver,_spotlight,_tokend,_securityagent,_calendar,_teamsserver,_update_sharing,_installer,_atsserver,_ftp,_unknown,_softwareupdate,_coreaudiod,_screensaver,_locationd,_trustevaluationagent,_timezone,_lda,_cvmsroot,_usbmuxd,_dovecot,_dpaudio,_postgres,_krbtgt,_kadmin_admin,_kadmin_changepw,_devicemgr,_webauthserver,_netbios,_warmd,_dovenull,_netstatistics,_avbdeviced,_krb_krbtgt,_krb_kadmin,_krb_changepw,_krb_kerberos,_krb_anonymous,_assetcache,_coremediaiod,_launchservicesd,_iconservices,_distnote,_nsurlsessiond,_nsurlstoraged,_displaypolicyd,_astris,_krbfast,_gamecontrollerd,_ondemand,_xserverdocs,_wwwproxy,_mobileasset,_findmydevice,_datadetectors,_captiveagent,_ctkd,_applepay,_hidd,_cmiodalassistants,_analyticsd,_fpsd,_timed,_nearbyd,_reportmemoryexception,_driverkit\r\n",
      "/bin/sh\troot\r\n",
      "/usr/sbin/uucico\t_uucp\r\n",
      "/bin/bash\t_mbsetupuser\r\n"
     ]
    }
   ],
   "source": [
    "!cat myshells.txt"
   ]
  },
  {
   "cell_type": "code",
   "execution_count": 40,
   "metadata": {},
   "outputs": [],
   "source": [
    "def copyfile(infilename, *args):\n",
    "    for outfilename in args:\n",
    "        with open(outfilename, 'w') as outfile:\n",
    "            for one_line in open(infilename):\n",
    "                outfile.write(one_line)\n"
   ]
  },
  {
   "cell_type": "code",
   "execution_count": 41,
   "metadata": {},
   "outputs": [],
   "source": [
    "copyfile('/etc/passwd', '/tmp/passwd1', '/tmp/passwd2')"
   ]
  },
  {
   "cell_type": "code",
   "execution_count": 42,
   "metadata": {},
   "outputs": [
    {
     "name": "stdout",
     "output_type": "stream",
     "text": [
      "-rw-r--r-- 1 reuven wheel 6946 Oct  6 16:10 /tmp/passwd1\r\n",
      "-rw-r--r-- 1 reuven wheel 6946 Oct  6 16:10 /tmp/passwd2\r\n"
     ]
    }
   ],
   "source": [
    "!ls -l /tmp/passwd*"
   ]
  },
  {
   "cell_type": "code",
   "execution_count": 43,
   "metadata": {},
   "outputs": [],
   "source": [
    "def factorialish(*args):\n",
    "    if not args:\n",
    "        return 0\n",
    "\n",
    "    total = args[0]\n",
    "    for one_number in args[1:]:\n",
    "        total *= one_number\n",
    "\n",
    "    return total\n"
   ]
  },
  {
   "cell_type": "code",
   "execution_count": 44,
   "metadata": {},
   "outputs": [
    {
     "data": {
      "text/plain": [
       "200"
      ]
     },
     "execution_count": 44,
     "metadata": {},
     "output_type": "execute_result"
    }
   ],
   "source": [
    "factorialish(10, 20)"
   ]
  },
  {
   "cell_type": "code",
   "execution_count": 45,
   "metadata": {},
   "outputs": [
    {
     "data": {
      "text/plain": [
       "720"
      ]
     },
     "execution_count": 45,
     "metadata": {},
     "output_type": "execute_result"
    }
   ],
   "source": [
    "factorialish(2,3,4,5,6\n",
    "            )"
   ]
  },
  {
   "cell_type": "code",
   "execution_count": 46,
   "metadata": {},
   "outputs": [
    {
     "data": {
      "text/plain": [
       "0"
      ]
     },
     "execution_count": 46,
     "metadata": {},
     "output_type": "execute_result"
    }
   ],
   "source": [
    "factorialish()"
   ]
  },
  {
   "cell_type": "code",
   "execution_count": 47,
   "metadata": {},
   "outputs": [
    {
     "data": {
      "text/plain": [
       "3"
      ]
     },
     "execution_count": 47,
     "metadata": {},
     "output_type": "execute_result"
    }
   ],
   "source": [
    "factorialish(3)"
   ]
  },
  {
   "cell_type": "code",
   "execution_count": 48,
   "metadata": {},
   "outputs": [],
   "source": [
    "def anyjoin(seq, glue=' '):\n",
    "    return glue.join([str(one_item)\n",
    "                      for one_item in seq])\n"
   ]
  },
  {
   "cell_type": "code",
   "execution_count": 49,
   "metadata": {},
   "outputs": [
    {
     "data": {
      "text/plain": [
       "'a b c'"
      ]
     },
     "execution_count": 49,
     "metadata": {},
     "output_type": "execute_result"
    }
   ],
   "source": [
    "anyjoin('abc')"
   ]
  },
  {
   "cell_type": "code",
   "execution_count": 50,
   "metadata": {},
   "outputs": [
    {
     "data": {
      "text/plain": [
       "'abc*defg*hijk'"
      ]
     },
     "execution_count": 50,
     "metadata": {},
     "output_type": "execute_result"
    }
   ],
   "source": [
    "anyjoin(['abc', 'defg', 'hijk'], '*')"
   ]
  },
  {
   "cell_type": "code",
   "execution_count": 51,
   "metadata": {},
   "outputs": [],
   "source": [
    "#!/usr/bin/env python3\n",
    "\n",
    "\"\"\"Solution to chapter 6, exercise 26, beyond 1: calc_args\"\"\"\n",
    "\n",
    "import operator\n",
    "\n",
    "\n",
    "def calc_args(to_solve):\n",
    "\n",
    "    operations = {'+': operator.add,\n",
    "                  '-': operator.sub,\n",
    "                  '*': operator.mul,\n",
    "                  '/': operator.truediv,\n",
    "                  '**': operator.pow,\n",
    "                  '%': operator.mod}\n",
    "\n",
    "    op, *numbers = to_solve.split()\n",
    "\n",
    "    if not numbers:\n",
    "        return 0\n",
    "\n",
    "    output = numbers[0]\n",
    "    for one_number in numbers[1:]:\n",
    "        output = operations[op](output, one_number)\n",
    "\n",
    "    return output\n"
   ]
  },
  {
   "cell_type": "code",
   "execution_count": 52,
   "metadata": {},
   "outputs": [
    {
     "data": {
      "text/plain": [
       "'102030'"
      ]
     },
     "execution_count": 52,
     "metadata": {},
     "output_type": "execute_result"
    }
   ],
   "source": [
    "calc_args(\"+ 10 20 30\")"
   ]
  },
  {
   "cell_type": "code",
   "execution_count": 53,
   "metadata": {},
   "outputs": [],
   "source": [
    "#!/usr/bin/env python3\n",
    "\n",
    "\"\"\"Solution to chapter 6, exercise 26, beyond 1: calc_args\"\"\"\n",
    "\n",
    "import operator\n",
    "\n",
    "\n",
    "def calc_args(to_solve):\n",
    "\n",
    "    operations = {'+': operator.add,\n",
    "                  '-': operator.sub,\n",
    "                  '*': operator.mul,\n",
    "                  '/': operator.truediv,\n",
    "                  '**': operator.pow,\n",
    "                  '%': operator.mod}\n",
    "\n",
    "    op, *numbers = to_solve.split()\n",
    "\n",
    "    if not numbers:\n",
    "        return 0\n",
    "\n",
    "    output = int(numbers[0])\n",
    "    for one_number in numbers[1:]:\n",
    "        output = operations[op](output, int(one_number))\n",
    "\n",
    "    return output\n"
   ]
  },
  {
   "cell_type": "code",
   "execution_count": 54,
   "metadata": {},
   "outputs": [
    {
     "data": {
      "text/plain": [
       "60"
      ]
     },
     "execution_count": 54,
     "metadata": {},
     "output_type": "execute_result"
    }
   ],
   "source": [
    "calc_args(\"+ 10 20 30\")"
   ]
  },
  {
   "cell_type": "code",
   "execution_count": 55,
   "metadata": {},
   "outputs": [
    {
     "data": {
      "text/plain": [
       "24"
      ]
     },
     "execution_count": 55,
     "metadata": {},
     "output_type": "execute_result"
    }
   ],
   "source": [
    "calc_args(\"* 2 3 4\")"
   ]
  },
  {
   "cell_type": "code",
   "execution_count": 56,
   "metadata": {},
   "outputs": [],
   "source": [
    "def apply_to_each(f, seq):\n",
    "\n",
    "    return [f(one_item)\n",
    "            for one_item in seq]\n"
   ]
  },
  {
   "cell_type": "code",
   "execution_count": 57,
   "metadata": {},
   "outputs": [
    {
     "data": {
      "text/plain": [
       "['10', '20', '30']"
      ]
     },
     "execution_count": 57,
     "metadata": {},
     "output_type": "execute_result"
    }
   ],
   "source": [
    "apply_to_each(str, [10, 20, 30])"
   ]
  },
  {
   "cell_type": "code",
   "execution_count": 58,
   "metadata": {},
   "outputs": [],
   "source": [
    "import string\n"
   ]
  },
  {
   "cell_type": "code",
   "execution_count": 59,
   "metadata": {},
   "outputs": [
    {
     "data": {
      "text/plain": [
       "'0123456789'"
      ]
     },
     "execution_count": 59,
     "metadata": {},
     "output_type": "execute_result"
    }
   ],
   "source": [
    "string.digits"
   ]
  },
  {
   "cell_type": "code",
   "execution_count": 60,
   "metadata": {},
   "outputs": [],
   "source": [
    "def create_password_checker(min_uppercase, min_lowercase, min_punctuation, min_digits):\n",
    "    uppercase_set = set(string.ascii_uppercase)\n",
    "    lowercase_set = set(string.ascii_lowercase)\n",
    "    punctuation_set = set(string.punctuation)\n",
    "    digits_set = set(string.digits)\n",
    "\n",
    "    def check_password(password):\n",
    "        s = set(password)\n",
    "\n",
    "        if len(s & uppercase_set) < min_uppercase:\n",
    "            return False\n",
    "        elif len(s & lowercase_set) < min_lowercase:\n",
    "            return False\n",
    "        elif len(s & punctuation_set) < min_punctuation:\n",
    "            return False\n",
    "        elif len(s & digits_set) < min_digits:\n",
    "            return False\n",
    "        else:\n",
    "            return True\n",
    "    return check_password\n"
   ]
  },
  {
   "cell_type": "code",
   "execution_count": 75,
   "metadata": {},
   "outputs": [],
   "source": [
    "#!/usr/bin/env python3\n",
    "\n",
    "\"\"\"Solution to chapter 6, exercise 27, beyond 1: password_checker\"\"\"\n",
    "\n",
    "import string\n",
    "\n",
    "\n",
    "def create_password_checker(min_uppercase, min_lowercase, min_punctuation, min_digits):\n",
    "    uppercase_set = set(string.ascii_uppercase)\n",
    "    lowercase_set = set(string.ascii_lowercase)\n",
    "    punctuation_set = set(string.punctuation)\n",
    "    digits_set = set(string.digits)\n",
    "\n",
    "    def check_password(password):\n",
    "\n",
    "        if len([one_character\n",
    "                for one_character in password\n",
    "                if one_character in uppercase_set]) < min_uppercase:\n",
    "            print(f'Not enough uppercase letters; min is {min_uppercase}')\n",
    "            return False\n",
    "        elif len([one_character\n",
    "                  for one_character in password\n",
    "                  if one_character in lowercase_set]) < min_lowercase:\n",
    "            print(f'Not enough lowercase letters; min is {min_lowercase}')\n",
    "            return False\n",
    "        elif len([one_character\n",
    "                  for one_character in password\n",
    "                  if one_character in punctuation_set]) < min_punctuation:\n",
    "            print(f'Not enough punctuation; min is {min_punctuation}')\n",
    "            return False\n",
    "        elif len([one_character\n",
    "                  for one_character in password\n",
    "                  if one_character in digits_set]) < min_digits:\n",
    "            print(f'Not enough digits; min is {min_digits}')\n",
    "            return False\n",
    "        else:\n",
    "            return True\n",
    "    return check_password\n"
   ]
  },
  {
   "cell_type": "code",
   "execution_count": 76,
   "metadata": {},
   "outputs": [],
   "source": [
    "checker = create_password_checker(2,3,4,5)"
   ]
  },
  {
   "cell_type": "code",
   "execution_count": 77,
   "metadata": {},
   "outputs": [
    {
     "name": "stdout",
     "output_type": "stream",
     "text": [
      "Not enough uppercase letters; min is 2\n"
     ]
    },
    {
     "data": {
      "text/plain": [
       "False"
      ]
     },
     "execution_count": 77,
     "metadata": {},
     "output_type": "execute_result"
    }
   ],
   "source": [
    "checker('hello!')"
   ]
  },
  {
   "cell_type": "code",
   "execution_count": 78,
   "metadata": {},
   "outputs": [
    {
     "name": "stdout",
     "output_type": "stream",
     "text": [
      "Not enough punctuation; min is 4\n"
     ]
    },
    {
     "data": {
      "text/plain": [
       "False"
      ]
     },
     "execution_count": 78,
     "metadata": {},
     "output_type": "execute_result"
    }
   ],
   "source": [
    "checker('HEllo!')"
   ]
  },
  {
   "cell_type": "code",
   "execution_count": 79,
   "metadata": {},
   "outputs": [
    {
     "name": "stdout",
     "output_type": "stream",
     "text": [
      "Not enough punctuation; min is 4\n"
     ]
    },
    {
     "data": {
      "text/plain": [
       "False"
      ]
     },
     "execution_count": 79,
     "metadata": {},
     "output_type": "execute_result"
    }
   ],
   "source": [
    "checker('ABCdef')"
   ]
  },
  {
   "cell_type": "code",
   "execution_count": 82,
   "metadata": {},
   "outputs": [
    {
     "data": {
      "text/plain": [
       "True"
      ]
     },
     "execution_count": 82,
     "metadata": {},
     "output_type": "execute_result"
    }
   ],
   "source": [
    "checker('HEllo!???12345')"
   ]
  },
  {
   "cell_type": "code",
   "execution_count": 83,
   "metadata": {},
   "outputs": [],
   "source": [
    "def getitem(index):\n",
    "    def inner(data):\n",
    "        return data[index]\n",
    "    return inner\n"
   ]
  },
  {
   "cell_type": "code",
   "execution_count": 85,
   "metadata": {},
   "outputs": [
    {
     "data": {
      "text/plain": [
       "1"
      ]
     },
     "execution_count": 85,
     "metadata": {},
     "output_type": "execute_result"
    }
   ],
   "source": [
    "d = {'a':1, 'b':2}\n",
    "f = getitem('a')\n",
    "\n",
    "f(d)"
   ]
  },
  {
   "cell_type": "code",
   "execution_count": 86,
   "metadata": {},
   "outputs": [
    {
     "data": {
      "text/plain": [
       "2"
      ]
     },
     "execution_count": 86,
     "metadata": {},
     "output_type": "execute_result"
    }
   ],
   "source": [
    "def doboth(f1, f2):\n",
    "    def inner(data):\n",
    "        return f2(f1(data))\n",
    "    return inner\n",
    "\n",
    "g = doboth(f, lambda x: x*2)\n",
    "\n",
    "g(d)"
   ]
  },
  {
   "cell_type": "code",
   "execution_count": 87,
   "metadata": {},
   "outputs": [],
   "source": [
    "\n",
    "def join_under_10(numbers):\n",
    "    return ','.join(str(number)\n",
    "                    for number in numbers\n",
    "                    if 0 <= number <= 10)\n"
   ]
  },
  {
   "cell_type": "code",
   "execution_count": 88,
   "metadata": {},
   "outputs": [
    {
     "data": {
      "text/plain": [
       "'0,1,2,3,4,5,6,7,8,9,10'"
      ]
     },
     "execution_count": 88,
     "metadata": {},
     "output_type": "execute_result"
    }
   ],
   "source": [
    "join_under_10(range(-5, 15))"
   ]
  },
  {
   "cell_type": "code",
   "execution_count": 89,
   "metadata": {},
   "outputs": [],
   "source": [
    "def sum_hexes(hex_numbers):\n",
    "    return sum(join(int(one_number, 16)\n",
    "                    for one_number in hex_numbers))\n"
   ]
  },
  {
   "cell_type": "code",
   "execution_count": 90,
   "metadata": {},
   "outputs": [
    {
     "ename": "NameError",
     "evalue": "name 'join' is not defined",
     "output_type": "error",
     "traceback": [
      "\u001b[0;31m---------------------------------------------------------------------------\u001b[0m",
      "\u001b[0;31mNameError\u001b[0m                                 Traceback (most recent call last)",
      "\u001b[0;32m<ipython-input-90-f6bf7f882844>\u001b[0m in \u001b[0;36m<module>\u001b[0;34m\u001b[0m\n\u001b[0;32m----> 1\u001b[0;31m \u001b[0msum_hexes\u001b[0m\u001b[0;34m(\u001b[0m\u001b[0;34m[\u001b[0m\u001b[0;34m'5'\u001b[0m\u001b[0;34m,\u001b[0m \u001b[0;34m'6'\u001b[0m\u001b[0;34m]\u001b[0m\u001b[0;34m)\u001b[0m\u001b[0;34m\u001b[0m\u001b[0;34m\u001b[0m\u001b[0m\n\u001b[0m",
      "\u001b[0;32m<ipython-input-89-4f2db18d07d3>\u001b[0m in \u001b[0;36msum_hexes\u001b[0;34m(hex_numbers)\u001b[0m\n\u001b[1;32m      1\u001b[0m \u001b[0;32mdef\u001b[0m \u001b[0msum_hexes\u001b[0m\u001b[0;34m(\u001b[0m\u001b[0mhex_numbers\u001b[0m\u001b[0;34m)\u001b[0m\u001b[0;34m:\u001b[0m\u001b[0;34m\u001b[0m\u001b[0;34m\u001b[0m\u001b[0m\n\u001b[0;32m----> 2\u001b[0;31m     return sum(join(int(one_number, 16)\n\u001b[0m\u001b[1;32m      3\u001b[0m                     for one_number in hex_numbers))\n",
      "\u001b[0;31mNameError\u001b[0m: name 'join' is not defined"
     ]
    }
   ],
   "source": [
    "sum_hexes(['5', '6'])"
   ]
  },
  {
   "cell_type": "code",
   "execution_count": 91,
   "metadata": {},
   "outputs": [],
   "source": [
    "def sum_hexes(hex_numbers):\n",
    "    return sum(int(one_number, 16)\n",
    "               for one_number in hex_numbers)\n"
   ]
  },
  {
   "cell_type": "code",
   "execution_count": 92,
   "metadata": {},
   "outputs": [
    {
     "data": {
      "text/plain": [
       "11"
      ]
     },
     "execution_count": 92,
     "metadata": {},
     "output_type": "execute_result"
    }
   ],
   "source": [
    "sum_hexes(['5', '6'])"
   ]
  },
  {
   "cell_type": "code",
   "execution_count": 93,
   "metadata": {},
   "outputs": [
    {
     "data": {
      "text/plain": [
       "21"
      ]
     },
     "execution_count": 93,
     "metadata": {},
     "output_type": "execute_result"
    }
   ],
   "source": [
    "sum_hexes(['5', '6', 'a'])"
   ]
  },
  {
   "cell_type": "code",
   "execution_count": 94,
   "metadata": {},
   "outputs": [
    {
     "name": "stdout",
     "output_type": "stream",
     "text": [
      "ls: cannot access 'files': No such file or directory\r\n"
     ]
    }
   ],
   "source": [
    "%ls files"
   ]
  },
  {
   "cell_type": "code",
   "execution_count": 95,
   "metadata": {},
   "outputs": [
    {
     "name": "stdout",
     "output_type": "stream",
     "text": [
      "info.txt  myoutput.txt\tmyshells.txt  test_file.txt\r\n"
     ]
    }
   ],
   "source": [
    "%ls *.txt"
   ]
  },
  {
   "cell_type": "code",
   "execution_count": 109,
   "metadata": {},
   "outputs": [],
   "source": [
    "\n",
    "def reverse_words(filename):\n",
    "    return [' '.join(reversed(one_line.split()))\n",
    "            for one_line in open(filename)]"
   ]
  },
  {
   "cell_type": "code",
   "execution_count": 110,
   "metadata": {},
   "outputs": [
    {
     "data": {
      "text/plain": [
       "['5 10', '10 20', '15 30', '20 40']"
      ]
     },
     "execution_count": 110,
     "metadata": {},
     "output_type": "execute_result"
    }
   ],
   "source": [
    "reverse_words('test_file.txt')"
   ]
  },
  {
   "cell_type": "code",
   "execution_count": 102,
   "metadata": {},
   "outputs": [
    {
     "name": "stdout",
     "output_type": "stream",
     "text": [
      "10 5\r\n",
      "20 10\r\n",
      "30 15\r\n",
      "40 20\r\n"
     ]
    }
   ],
   "source": [
    "!cat test_file.txt"
   ]
  },
  {
   "cell_type": "code",
   "execution_count": 111,
   "metadata": {},
   "outputs": [],
   "source": [
    "#!/usr/bin/env python3\n",
    "\n",
    "\"\"\"Solution to chapter 7, exercise 29, beyond 1: lines_with_1v20c\"\"\"\n",
    "\n",
    "\n",
    "def lines_with_1v20c(filename):\n",
    "    return [one_line\n",
    "            for one_line in open(filename)\n",
    "            if len(one_line) >= 20 and\n",
    "            len(set('aeiou') & set(one_line)) >= 1]\n"
   ]
  },
  {
   "cell_type": "code",
   "execution_count": 112,
   "metadata": {},
   "outputs": [
    {
     "data": {
      "text/plain": [
       "['# Note that this file is consulted directly only when the system is running\\n',\n",
       " '# in single-user mode.  At other times this information is provided by\\n',\n",
       " '# See the opendirectoryd(8) man page for additional information about\\n',\n",
       " 'nobody:*:-2:-2:Unprivileged User:/var/empty:/usr/bin/false\\n',\n",
       " 'root:*:0:0:System Administrator:/var/root:/bin/sh\\n',\n",
       " 'daemon:*:1:1:System Services:/var/root:/usr/bin/false\\n',\n",
       " '_uucp:*:4:4:Unix to Unix Copy Protocol:/var/spool/uucp:/usr/sbin/uucico\\n',\n",
       " '_taskgated:*:13:13:Task Gate Daemon:/var/empty:/usr/bin/false\\n',\n",
       " '_networkd:*:24:24:Network Services:/var/networkd:/usr/bin/false\\n',\n",
       " '_installassistant:*:25:25:Install Assistant:/var/empty:/usr/bin/false\\n',\n",
       " '_lp:*:26:26:Printing Services:/var/spool/cups:/usr/bin/false\\n',\n",
       " '_postfix:*:27:27:Postfix Mail Server:/var/spool/postfix:/usr/bin/false\\n',\n",
       " '_scsd:*:31:31:Service Configuration Service:/var/empty:/usr/bin/false\\n',\n",
       " '_ces:*:32:32:Certificate Enrollment Service:/var/empty:/usr/bin/false\\n',\n",
       " '_appstore:*:33:33:Mac App Store Service:/var/db/appstore:/usr/bin/false\\n',\n",
       " '_mcxalr:*:54:54:MCX AppLaunch:/var/empty:/usr/bin/false\\n',\n",
       " '_appleevents:*:55:55:AppleEvents Daemon:/var/empty:/usr/bin/false\\n',\n",
       " '_geod:*:56:56:Geo Services Daemon:/var/db/geod:/usr/bin/false\\n',\n",
       " '_devdocs:*:59:59:Developer Documentation:/var/empty:/usr/bin/false\\n',\n",
       " '_sandbox:*:60:60:Seatbelt:/var/empty:/usr/bin/false\\n',\n",
       " '_mdnsresponder:*:65:65:mDNSResponder:/var/empty:/usr/bin/false\\n',\n",
       " '_ard:*:67:67:Apple Remote Desktop:/var/empty:/usr/bin/false\\n',\n",
       " '_www:*:70:70:World Wide Web Server:/Library/WebServer:/usr/bin/false\\n',\n",
       " '_eppc:*:71:71:Apple Events User:/var/empty:/usr/bin/false\\n',\n",
       " '_cvs:*:72:72:CVS Server:/var/empty:/usr/bin/false\\n',\n",
       " '_svn:*:73:73:SVN Server:/var/empty:/usr/bin/false\\n',\n",
       " '_mysql:*:74:74:MySQL Server:/var/empty:/usr/bin/false\\n',\n",
       " '_sshd:*:75:75:sshd Privilege separation:/var/empty:/usr/bin/false\\n',\n",
       " '_qtss:*:76:76:QuickTime Streaming Server:/var/empty:/usr/bin/false\\n',\n",
       " '_cyrus:*:77:6:Cyrus Administrator:/var/imap:/usr/bin/false\\n',\n",
       " '_mailman:*:78:78:Mailman List Server:/var/empty:/usr/bin/false\\n',\n",
       " '_appserver:*:79:79:Application Server:/var/empty:/usr/bin/false\\n',\n",
       " '_clamav:*:82:82:ClamAV Daemon:/var/virusmails:/usr/bin/false\\n',\n",
       " '_amavisd:*:83:83:AMaViS Daemon:/var/virusmails:/usr/bin/false\\n',\n",
       " '_jabber:*:84:84:Jabber XMPP Server:/var/empty:/usr/bin/false\\n',\n",
       " '_appowner:*:87:87:Application Owner:/var/empty:/usr/bin/false\\n',\n",
       " '_windowserver:*:88:88:WindowServer:/var/empty:/usr/bin/false\\n',\n",
       " '_spotlight:*:89:89:Spotlight:/var/empty:/usr/bin/false\\n',\n",
       " '_tokend:*:91:91:Token Daemon:/var/empty:/usr/bin/false\\n',\n",
       " '_securityagent:*:92:92:SecurityAgent:/var/db/securityagent:/usr/bin/false\\n',\n",
       " '_calendar:*:93:93:Calendar:/var/empty:/usr/bin/false\\n',\n",
       " '_teamsserver:*:94:94:TeamsServer:/var/teamsserver:/usr/bin/false\\n',\n",
       " '_update_sharing:*:95:-2:Update Sharing:/var/empty:/usr/bin/false\\n',\n",
       " '_installer:*:96:-2:Installer:/var/empty:/usr/bin/false\\n',\n",
       " '_atsserver:*:97:97:ATS Server:/var/empty:/usr/bin/false\\n',\n",
       " '_ftp:*:98:-2:FTP Daemon:/var/empty:/usr/bin/false\\n',\n",
       " '_unknown:*:99:99:Unknown User:/var/empty:/usr/bin/false\\n',\n",
       " '_softwareupdate:*:200:200:Software Update Service:/var/db/softwareupdate:/usr/bin/false\\n',\n",
       " '_coreaudiod:*:202:202:Core Audio Daemon:/var/empty:/usr/bin/false\\n',\n",
       " '_screensaver:*:203:203:Screensaver:/var/empty:/usr/bin/false\\n',\n",
       " '_locationd:*:205:205:Location Daemon:/var/db/locationd:/usr/bin/false\\n',\n",
       " '_trustevaluationagent:*:208:208:Trust Evaluation Agent:/var/empty:/usr/bin/false\\n',\n",
       " '_timezone:*:210:210:AutoTimeZoneDaemon:/var/empty:/usr/bin/false\\n',\n",
       " '_lda:*:211:211:Local Delivery Agent:/var/empty:/usr/bin/false\\n',\n",
       " '_cvmsroot:*:212:212:CVMS Root:/var/empty:/usr/bin/false\\n',\n",
       " '_usbmuxd:*:213:213:iPhone OS Device Helper:/var/db/lockdown:/usr/bin/false\\n',\n",
       " '_dovecot:*:214:6:Dovecot Administrator:/var/empty:/usr/bin/false\\n',\n",
       " '_dpaudio:*:215:215:DP Audio:/var/empty:/usr/bin/false\\n',\n",
       " '_postgres:*:216:216:PostgreSQL Server:/var/empty:/usr/bin/false\\n',\n",
       " '_krbtgt:*:217:-2:Kerberos Ticket Granting Ticket:/var/empty:/usr/bin/false\\n',\n",
       " '_kadmin_admin:*:218:-2:Kerberos Admin Service:/var/empty:/usr/bin/false\\n',\n",
       " '_kadmin_changepw:*:219:-2:Kerberos Change Password Service:/var/empty:/usr/bin/false\\n',\n",
       " '_devicemgr:*:220:220:Device Management Server:/var/empty:/usr/bin/false\\n',\n",
       " '_webauthserver:*:221:221:Web Auth Server:/var/empty:/usr/bin/false\\n',\n",
       " '_netbios:*:222:222:NetBIOS:/var/empty:/usr/bin/false\\n',\n",
       " '_warmd:*:224:224:Warm Daemon:/var/empty:/usr/bin/false\\n',\n",
       " '_dovenull:*:227:227:Dovecot Authentication:/var/empty:/usr/bin/false\\n',\n",
       " '_netstatistics:*:228:228:Network Statistics Daemon:/var/empty:/usr/bin/false\\n',\n",
       " '_avbdeviced:*:229:-2:Ethernet AVB Device Daemon:/var/empty:/usr/bin/false\\n',\n",
       " '_krb_krbtgt:*:230:-2:Open Directory Kerberos Ticket Granting Ticket:/var/empty:/usr/bin/false\\n',\n",
       " '_krb_kadmin:*:231:-2:Open Directory Kerberos Admin Service:/var/empty:/usr/bin/false\\n',\n",
       " '_krb_changepw:*:232:-2:Open Directory Kerberos Change Password Service:/var/empty:/usr/bin/false\\n',\n",
       " '_krb_kerberos:*:233:-2:Open Directory Kerberos:/var/empty:/usr/bin/false\\n',\n",
       " '_krb_anonymous:*:234:-2:Open Directory Kerberos Anonymous:/var/empty:/usr/bin/false\\n',\n",
       " '_assetcache:*:235:235:Asset Cache Service:/var/empty:/usr/bin/false\\n',\n",
       " '_coremediaiod:*:236:236:Core Media IO Daemon:/var/empty:/usr/bin/false\\n',\n",
       " '_launchservicesd:*:239:239:_launchservicesd:/var/empty:/usr/bin/false\\n',\n",
       " '_iconservices:*:240:240:IconServices:/var/empty:/usr/bin/false\\n',\n",
       " '_distnote:*:241:241:DistNote:/var/empty:/usr/bin/false\\n',\n",
       " '_nsurlsessiond:*:242:242:NSURLSession Daemon:/var/db/nsurlsessiond:/usr/bin/false\\n',\n",
       " '_nsurlstoraged:*:243:243:NSURLStorage Daemon:/var/db/nsurlstoraged:/usr/bin/false\\n',\n",
       " '_displaypolicyd:*:244:244:Display Policy Daemon:/var/empty:/usr/bin/false\\n',\n",
       " '_astris:*:245:245:Astris Services:/var/db/astris:/usr/bin/false\\n',\n",
       " '_krbfast:*:246:-2:Kerberos FAST Account:/var/empty:/usr/bin/false\\n',\n",
       " '_gamecontrollerd:*:247:247:Game Controller Daemon:/var/empty:/usr/bin/false\\n',\n",
       " '_mbsetupuser:*:248:248:Setup User:/var/setup:/bin/bash\\n',\n",
       " '_ondemand:*:249:249:On Demand Resource Daemon:/var/db/ondemand:/usr/bin/false\\n',\n",
       " '_xserverdocs:*:251:251:macOS Server Documents Service:/var/empty:/usr/bin/false\\n',\n",
       " '_wwwproxy:*:252:252:WWW Proxy:/var/empty:/usr/bin/false\\n',\n",
       " '_mobileasset:*:253:253:MobileAsset User:/var/ma:/usr/bin/false\\n',\n",
       " '_findmydevice:*:254:254:Find My Device Daemon:/var/db/findmydevice:/usr/bin/false\\n',\n",
       " '_datadetectors:*:257:257:DataDetectors:/var/db/datadetectors:/usr/bin/false\\n',\n",
       " '_captiveagent:*:258:258:captiveagent:/var/empty:/usr/bin/false\\n',\n",
       " '_ctkd:*:259:259:ctkd Account:/var/empty:/usr/bin/false\\n',\n",
       " '_applepay:*:260:260:applepay Account:/var/db/applepay:/usr/bin/false\\n',\n",
       " '_hidd:*:261:261:HID Service User:/var/db/hidd:/usr/bin/false\\n',\n",
       " '_cmiodalassistants:*:262:262:CoreMedia IO Assistants User:/var/db/cmiodalassistants:/usr/bin/false\\n',\n",
       " '_analyticsd:*:263:263:Analytics Daemon:/var/db/analyticsd:/usr/bin/false\\n',\n",
       " '_fpsd:*:265:265:FPS Daemon:/var/db/fpsd:/usr/bin/false\\n',\n",
       " '_timed:*:266:266:Time Sync Daemon:/var/db/timed:/usr/bin/false\\n',\n",
       " '_nearbyd:*:268:268:Proximity and Ranging Daemon:/var/db/nearbyd:/usr/bin/false\\n',\n",
       " '_reportmemoryexception:*:269:269:ReportMemoryException:/var/db/reportmemoryexception:/usr/bin/false\\n',\n",
       " '_driverkit:*:270:270:DriverKit:/var/empty:/usr/bin/false\\n']"
      ]
     },
     "execution_count": 112,
     "metadata": {},
     "output_type": "execute_result"
    }
   ],
   "source": [
    "lines_with_1v20c('/etc/passwd')"
   ]
  },
  {
   "cell_type": "code",
   "execution_count": 113,
   "metadata": {},
   "outputs": [],
   "source": [
    "def increment_area_code(area_codes):\n",
    "    return [one_area_code\n",
    "            for one_area_code in area_codes]\n"
   ]
  },
  {
   "cell_type": "code",
   "execution_count": 114,
   "metadata": {},
   "outputs": [],
   "source": [
    "mylist = ['123-456-7890', '123-333-4444', '123-777-8888']"
   ]
  },
  {
   "cell_type": "code",
   "execution_count": 115,
   "metadata": {},
   "outputs": [
    {
     "data": {
      "text/plain": [
       "['123-456-7890', '123-333-4444', '123-777-8888']"
      ]
     },
     "execution_count": 115,
     "metadata": {},
     "output_type": "execute_result"
    }
   ],
   "source": [
    "increment_area_code(mylist)"
   ]
  },
  {
   "cell_type": "code",
   "execution_count": 127,
   "metadata": {},
   "outputs": [],
   "source": [
    "def increment_area_code(full_phone_number):\n",
    "    area_code, phone_number = full_phone_number.split('-', 1)\n",
    "    \n",
    "    if area_code[0] in '012345':\n",
    "        area_code = str(int(area_code) + 1)\n",
    "        \n",
    "    return f'{area_code}-{phone_number}'\n",
    "\n",
    "def increment_all_area_codes(area_codes):\n",
    "    return [increment_area_code(one_phone_number)\n",
    "            for one_phone_number in area_codes]\n"
   ]
  },
  {
   "cell_type": "code",
   "execution_count": 129,
   "metadata": {},
   "outputs": [
    {
     "data": {
      "text/plain": [
       "['124-456-7890', '124-333-4444', '124-777-8888']"
      ]
     },
     "execution_count": 129,
     "metadata": {},
     "output_type": "execute_result"
    }
   ],
   "source": [
    "increment_all_area_codes(mylist)"
   ]
  },
  {
   "cell_type": "code",
   "execution_count": 132,
   "metadata": {},
   "outputs": [],
   "source": [
    "mylist = [{'name': 'a', 'age':15},\n",
    "         {'name': 'b', 'age':50},\n",
    "         {'name': 'c', 'age':5},\n",
    "         {'name': 'd', 'age':10},\n",
    "         {'name': 'e', 'age':1}]"
   ]
  },
  {
   "cell_type": "code",
   "execution_count": 140,
   "metadata": {},
   "outputs": [
    {
     "data": {
      "text/plain": [
       "[{'name': 'a', 'age': 15, 'age_in_months': 180},\n",
       " {'name': 'c', 'age': 5, 'age_in_months': 60},\n",
       " {'name': 'd', 'age': 10, 'age_in_months': 120},\n",
       " {'name': 'e', 'age': 1, 'age_in_months': 12}]"
      ]
     },
     "execution_count": 140,
     "metadata": {},
     "output_type": "execute_result"
    }
   ],
   "source": [
    "[dict(**one_person, age_in_months=one_person['age'] * 12)\n",
    "for one_person in mylist\n",
    "if one_person['age'] <= 20]"
   ]
  },
  {
   "cell_type": "code",
   "execution_count": 141,
   "metadata": {},
   "outputs": [],
   "source": [
    "def flatten_odd_ints(mylist):\n",
    "    return [one_element\n",
    "            for one_sublist in mylist\n",
    "            for one_element in one_sublist\n",
    "            if one_element % 2 == 1]\n"
   ]
  },
  {
   "cell_type": "code",
   "execution_count": 142,
   "metadata": {},
   "outputs": [
    {
     "data": {
      "text/plain": [
       "[5, 7, 9, 11, 13, 3, 5, 7, 15, 17, 19, 21, 23]"
      ]
     },
     "execution_count": 142,
     "metadata": {},
     "output_type": "execute_result"
    }
   ],
   "source": [
    "flatten_odd_ints([range(5,15),\n",
    "                 range(3, 8),\n",
    "                 range(15, 25)])"
   ]
  },
  {
   "cell_type": "code",
   "execution_count": 148,
   "metadata": {},
   "outputs": [],
   "source": [
    "#!/usr/bin/env python3\n",
    "\n",
    "\"\"\"Solution to chapter 7, exercise 29, beyond 1: flatten_odd_ints\"\"\"\n",
    "\n",
    "\n",
    "def flatten_odd_ints(mylist):\n",
    "    return [int(str(one_element))\n",
    "            for one_sublist in mylist\n",
    "            for one_element in one_sublist\n",
    "            if str(one_element).strip().isdigit() and int(one_element) % 2 == 1]\n"
   ]
  },
  {
   "cell_type": "code",
   "execution_count": 149,
   "metadata": {},
   "outputs": [
    {
     "data": {
      "text/plain": [
       "[5, 7, 9, 11, 13, 3, 5, 7, 15, 17, 19, 21, 23, 11, 13]"
      ]
     },
     "execution_count": 149,
     "metadata": {},
     "output_type": "execute_result"
    }
   ],
   "source": [
    "flatten_odd_ints([range(5,15),\n",
    "                 range(3, 8),\n",
    "                 range(15, 25), ['11', '12', '13', '14']])"
   ]
  },
  {
   "cell_type": "code",
   "execution_count": 150,
   "metadata": {},
   "outputs": [],
   "source": [
    "def grandchildren_names(d):\n",
    "    return [one_grandchild\n",
    "            for grandchild_list in d.values()\n",
    "            for one_grandchild in grandchild_list]\n"
   ]
  },
  {
   "cell_type": "code",
   "execution_count": 151,
   "metadata": {},
   "outputs": [],
   "source": [
    "d = {'A':['B', 'C', 'D'], 'E':['F', 'G']} "
   ]
  },
  {
   "cell_type": "code",
   "execution_count": 152,
   "metadata": {},
   "outputs": [
    {
     "data": {
      "text/plain": [
       "['B', 'C', 'D', 'F', 'G']"
      ]
     },
     "execution_count": 152,
     "metadata": {},
     "output_type": "execute_result"
    }
   ],
   "source": [
    "grandchildren_names(d)"
   ]
  },
  {
   "cell_type": "code",
   "execution_count": 159,
   "metadata": {},
   "outputs": [],
   "source": [
    "d = {'A':[{'name':'B', 'age':10}, \n",
    "          {'name':'C', 'age':15},\n",
    "          {'name':'D', 'age':22}],\n",
    "     'E':[{'name':'F', 'age':20},\n",
    "          {'name':'G', 'age':25}]}"
   ]
  },
  {
   "cell_type": "code",
   "execution_count": 154,
   "metadata": {},
   "outputs": [
    {
     "data": {
      "text/plain": [
       "[{'name': 'B', 'age': 10},\n",
       " {'name': 'C', 'age': 15},\n",
       " {'name': 'D', 'age': 22},\n",
       " {'name': 'F', 'age': 20},\n",
       " {'name': 'G', 'age': 25}]"
      ]
     },
     "execution_count": 154,
     "metadata": {},
     "output_type": "execute_result"
    }
   ],
   "source": [
    "grandchildren_names(d)"
   ]
  },
  {
   "cell_type": "code",
   "execution_count": 155,
   "metadata": {},
   "outputs": [
    {
     "data": {
      "text/plain": [
       "dict_items([('A', [{'name': 'B', 'age': 10}, {'name': 'C', 'age': 15}, {'name': 'D', 'age': 22}]), ('E', [{'name': 'F', 'age': 20}, {'name': 'G', 'age': 25}])])"
      ]
     },
     "execution_count": 155,
     "metadata": {},
     "output_type": "execute_result"
    }
   ],
   "source": [
    "d.items()"
   ]
  },
  {
   "cell_type": "code",
   "execution_count": 163,
   "metadata": {},
   "outputs": [
    {
     "data": {
      "text/plain": [
       "[{'name': 'B', 'age': 10},\n",
       " {'name': 'C', 'age': 15},\n",
       " {'name': 'D', 'age': 22},\n",
       " {'name': 'F', 'age': 20},\n",
       " {'name': 'G', 'age': 25}]"
      ]
     },
     "execution_count": 163,
     "metadata": {},
     "output_type": "execute_result"
    }
   ],
   "source": [
    "import operator\n",
    "\n",
    "[one_grandchild\n",
    "for one_grandchild_list in d.values()\n",
    "for one_grandchild in one_grandchild_list]"
   ]
  },
  {
   "cell_type": "code",
   "execution_count": 169,
   "metadata": {},
   "outputs": [],
   "source": [
    "import operator\n",
    "\n",
    "grandchildren = [one_grandchild\n",
    "    for one_grandchild_list in d.values()\n",
    "    for one_grandchild in one_grandchild_list]"
   ]
  },
  {
   "cell_type": "code",
   "execution_count": 179,
   "metadata": {},
   "outputs": [],
   "source": [
    "grandchildren = [{'name': 'B', 'age': 10},\n",
    " {'name': 'C', 'age': 15},\n",
    " {'name': 'D', 'age': 22},\n",
    " {'name': 'F', 'age': 9},\n",
    " {'name': 'G', 'age': 25}]"
   ]
  },
  {
   "cell_type": "code",
   "execution_count": 180,
   "metadata": {},
   "outputs": [],
   "source": [
    "grandchildren_names = [one_grandchild['name']\n",
    "                      for one_grandchild in sorted(grandchildren, \n",
    "                                                  key=operator.itemgetter('age'))]"
   ]
  },
  {
   "cell_type": "code",
   "execution_count": 181,
   "metadata": {},
   "outputs": [
    {
     "data": {
      "text/plain": [
       "['F', 'B', 'C', 'D', 'G']"
      ]
     },
     "execution_count": 181,
     "metadata": {},
     "output_type": "execute_result"
    }
   ],
   "source": [
    "grandchildren_names"
   ]
  },
  {
   "cell_type": "code",
   "execution_count": 174,
   "metadata": {},
   "outputs": [
    {
     "data": {
      "text/plain": [
       "['B', 'C', 'F', 'D', 'G']"
      ]
     },
     "execution_count": 174,
     "metadata": {},
     "output_type": "execute_result"
    }
   ],
   "source": [
    "[one_grandchild['name']\n",
    "  for one_grandchild in sorted(grandchildren, key=operator.itemgetter('age'))]"
   ]
  },
  {
   "cell_type": "code",
   "execution_count": 182,
   "metadata": {},
   "outputs": [],
   "source": [
    "def funcfile(filename, func):\n",
    "    return ' '.join(func(one_word)\n",
    "                    for one_line in open(filename)\n",
    "                    for one_word in one_line.split())\n"
   ]
  },
  {
   "cell_type": "code",
   "execution_count": 183,
   "metadata": {},
   "outputs": [
    {
     "data": {
      "text/plain": [
       "'2 1 4 8 1 1 4 4 4 4 2 9 8 4 4 3 6 2 7 1 2 11 5 2 5 5 4 11 2 8 2 1 4 10 1 1 3 3 17 3 4 3 10 11 5 1 4 10 2 27 30 17 31 19 33 16 2 4 4 41 23 4 32 25 37 33 35 20 39 24 4 40 21 13 33 24 10 33 21 3 5 39 19 35 32 32 17 8 34 26 39 51 62 18 6 33 18 4 3 40 19 6 30 16 32 16 32 20 32 18 9 36 23 9 32 19 38 24 4 32 30 32 22 37 23 37 22 4 32 29 31 60 54 21 32 73 52 64 30 33 54 22 32 16 32 24 30 34 6 45 26 5 32 60 29 39 37 10 31 64 20 8 31 24 30 25 2 6 38 24 39 21 31 30 32 25 6 8 32 31 5 33 34 6 8 33 27 10 32 28 4 32 52 21 32 27 40 32 10 32 29 3 6 32 25 9 8 6 8 32 25 9 8 5 33 27 9 8 6 8 33 27 9 34 28 9 8 35 27 5 33 28 5 2 32 69 62 54 37 43 37 43 33 6 32 24 38 26 4 33 31 10 32 28 25 22 6 8 38 28 6 9 33 23 31 34 27 28 2 6 42 75 62 20 33 28 39 19 7 32 38 2 10 45 31 40 19 34 21 4 35 28 3 7 37 99 56'"
      ]
     },
     "execution_count": 183,
     "metadata": {},
     "output_type": "execute_result"
    }
   ],
   "source": [
    "funcfile('/etc/passwd', lambda w: str(len(w)))"
   ]
  },
  {
   "cell_type": "code",
   "execution_count": 184,
   "metadata": {},
   "outputs": [],
   "source": [
    "def dicts_to_tuples(list_of_dicts):\n",
    "    return [one_tuple\n",
    "            for one_dict in list_of_dicts\n",
    "            for one_tuple in one_dict.items()]\n"
   ]
  },
  {
   "cell_type": "code",
   "execution_count": 185,
   "metadata": {},
   "outputs": [
    {
     "data": {
      "text/plain": [
       "[('name', 'a'),\n",
       " ('age', 15),\n",
       " ('name', 'b'),\n",
       " ('age', 50),\n",
       " ('name', 'c'),\n",
       " ('age', 5),\n",
       " ('name', 'd'),\n",
       " ('age', 10),\n",
       " ('name', 'e'),\n",
       " ('age', 1)]"
      ]
     },
     "execution_count": 185,
     "metadata": {},
     "output_type": "execute_result"
    }
   ],
   "source": [
    "dicts_to_tuples(mylist)"
   ]
  },
  {
   "cell_type": "code",
   "execution_count": 187,
   "metadata": {},
   "outputs": [],
   "source": [
    "people = [{'name': 'Atara', 'hobbies':['cooking', 'reading']},\n",
    "           {'name': 'Shikma', 'hobbies': ['cooking', 'piano']},\n",
    "         {'name':'Amotz', 'hobbies':['boxing', 'working out']}]"
   ]
  },
  {
   "cell_type": "code",
   "execution_count": 191,
   "metadata": {},
   "outputs": [
    {
     "data": {
      "text/plain": [
       "[('cooking', 2), ('reading', 1), ('piano', 1)]"
      ]
     },
     "execution_count": 191,
     "metadata": {},
     "output_type": "execute_result"
    }
   ],
   "source": [
    "import collections\n",
    "\n",
    "collections.Counter([one_hobby\n",
    "for one_person in people\n",
    "for one_hobby in one_person['hobbies']]).most_common(3)"
   ]
  },
  {
   "cell_type": "code",
   "execution_count": 192,
   "metadata": {},
   "outputs": [],
   "source": [
    "#!/usr/bin/env python3\n",
    "\n",
    "\"\"\"Solution to chapter 7, exercise 32, beyond 3: word_vowels\"\"\"\n",
    "\n",
    "\n",
    "def vowel_count(word):\n",
    "    total = 0\n",
    "    for one_letter in word.lower():\n",
    "        if one_letter in 'aeiou':\n",
    "            total += 1\n",
    "    return total\n",
    "\n",
    "\n",
    "def word_vowels(s):\n",
    "    return {one_word: vowel_count(one_word)\n",
    "            for one_word in s.split()}\n"
   ]
  },
  {
   "cell_type": "code",
   "execution_count": 193,
   "metadata": {},
   "outputs": [
    {
     "data": {
      "text/plain": [
       "{'this': 1,\n",
       " 'is': 1,\n",
       " 'a': 1,\n",
       " 'test': 1,\n",
       " 'of': 1,\n",
       " 'my': 0,\n",
       " 'new': 1,\n",
       " 'function': 3}"
      ]
     },
     "execution_count": 193,
     "metadata": {},
     "output_type": "execute_result"
    }
   ],
   "source": [
    "word_vowels('this is a test of my new function')"
   ]
  },
  {
   "cell_type": "code",
   "execution_count": 194,
   "metadata": {},
   "outputs": [],
   "source": [
    "def word_vowels(dirname):\n",
    "    return {one_filename: os.stat(one_filename).st_size\n",
    "            for one_filename in glob.glob(f'dirname/*')}\n"
   ]
  },
  {
   "cell_type": "code",
   "execution_count": 202,
   "metadata": {},
   "outputs": [],
   "source": [
    "import glob\n",
    "import os\n",
    "\n",
    "\n",
    "\n",
    "def file_info(dirname):\n",
    "    return {one_filename: os.stat(one_filename).st_size\n",
    "            for one_filename in glob.glob(f'{dirname}/*')\n",
    "           if os.path.isfile(one_filename)}\n"
   ]
  },
  {
   "cell_type": "code",
   "execution_count": 203,
   "metadata": {},
   "outputs": [
    {
     "data": {
      "text/plain": [
       "{'/etc/ssh_config.system_default': 1465,\n",
       " '/etc/ssh_config.applesaved': 1144,\n",
       " '/etc/manpaths': 36,\n",
       " '/etc/services~previous': 677972,\n",
       " '/etc/rc.common': 1560,\n",
       " '/etc/csh.logout~orig': 39,\n",
       " '/etc/auto_master': 195,\n",
       " '/etc/php.ini.default-5.2-previous~orig': 65459,\n",
       " '/etc/csh.login': 121,\n",
       " '/etc/syslog.conf': 96,\n",
       " '/etc/rtadvd.conf~previous': 891,\n",
       " '/etc/syslog.conf~previous': 96,\n",
       " '/etc/krb5.keytab': 2800,\n",
       " '/etc/bash_completion.d': 0,\n",
       " '/etc/kern_loader.conf.applesaved': 0,\n",
       " '/etc/nanorc': 11,\n",
       " '/etc/ttys~previous': 1316,\n",
       " '/etc/csh.logout': 39,\n",
       " '/etc/aliases.db': 16384,\n",
       " '/etc/hosts.lpd': 0,\n",
       " '/etc/bashrc_Apple_Terminal': 9192,\n",
       " '/etc/zshrc_Apple_Terminal': 911,\n",
       " '/etc/named.conf.applesaved': 905,\n",
       " '/etc/gettytab': 5678,\n",
       " '/etc/master.passwd~orig': 7294,\n",
       " '/etc/kern_loader.conf': 0,\n",
       " '/etc/authorization.user_modified': 18621,\n",
       " '/etc/networks~orig': 53,\n",
       " '/etc/csh.login~orig': 121,\n",
       " '/etc/rtadvd.conf': 891,\n",
       " '/etc/protocols~previous': 6393,\n",
       " '/etc/group': 2922,\n",
       " '/etc/printcap': 452,\n",
       " '/etc/auto_home': 149,\n",
       " '/etc/php.ini.default-previous': 71055,\n",
       " '/etc/sudoers~': 1627,\n",
       " '/etc/smb.conf.applesaved': 1699,\n",
       " '/etc/shells': 189,\n",
       " '/etc/pear.conf-previous': 1208,\n",
       " '/etc/crontab': 137,\n",
       " '/etc/slpsa.conf.applesaved': 52,\n",
       " '/etc/rc.common~previous': 1560,\n",
       " '/etc/ttys': 1316,\n",
       " '/etc/group~previous': 2769,\n",
       " '/etc/php-fpm.conf.default': 5331,\n",
       " '/etc/paths': 45,\n",
       " '/etc/rmtab': 0,\n",
       " '/etc/csh.cshrc~orig': 189,\n",
       " '/etc/inetd.conf.applesaved': 2893,\n",
       " '/etc/xtab': 0,\n",
       " '/etc/php.ini.default': 71890,\n",
       " '/etc/syslog.conf.applesaved': 823,\n",
       " '/etc/localtime': 9037,\n",
       " '/etc/pf.conf': 1027,\n",
       " '/etc/6to4.conf.applesaved': 753,\n",
       " '/etc/launchd.conf': 19,\n",
       " '/etc/sudoers': 1563,\n",
       " '/etc/ftpusers~orig': 119,\n",
       " '/etc/bashrc': 265,\n",
       " '/etc/find.codes~orig': 0,\n",
       " '/etc/auto_master~orig': 194,\n",
       " '/etc/irbrc': 1299,\n",
       " '/etc/zshrc': 3094,\n",
       " '/etc/hosts.equiv': 0,\n",
       " '/etc/networks': 53,\n",
       " '/etc/find.codes': 0,\n",
       " '/etc/rpc~previous': 1735,\n",
       " '/etc/autofs.conf': 1935,\n",
       " '/etc/ftpusers': 119,\n",
       " '/etc/postgres-reg.ini': 1101,\n",
       " '/etc/slpsa.conf': 52,\n",
       " '/etc/profile': 189,\n",
       " '/etc/csh.cshrc': 189,\n",
       " '/etc/fstab.hd~previous': 150,\n",
       " '/etc/ntp.conf.applesaved': 44,\n",
       " '/etc/ntp_opendirectory.conf': 23,\n",
       " '/etc/ssh_config~orig': 3847,\n",
       " '/etc/profile~orig': 189,\n",
       " '/etc/authorization.deprecated': 384298,\n",
       " '/etc/locate.rc': 621,\n",
       " '/etc/resolv.conf': 357,\n",
       " '/etc/nfs.conf': 43,\n",
       " '/etc/crontab.applesaved': 296,\n",
       " '/etc/sudoers~orig': 1563,\n",
       " '/etc/sudo_lecture': 257,\n",
       " '/etc/asl.conf': 1051,\n",
       " '/etc/ttys.applesaved': 2442,\n",
       " '/etc/moduli~previous': 242153,\n",
       " '/etc/rc.netboot': 5264,\n",
       " '/etc/afpovertcp.cfg~orig': 515,\n",
       " '/etc/hosts~orig': 213,\n",
       " '/etc/fstab': 293,\n",
       " '/etc/nfs.conf~orig': 43,\n",
       " '/etc/hostconfig': 201,\n",
       " '/etc/smb.conf.old': 2975,\n",
       " '/etc/kern_loader.conf~previous': 0,\n",
       " '/etc/xinetd.conf.applesaved': 238,\n",
       " '/etc/rtadvd.conf.applesaved': 983,\n",
       " '/etc/sshd_config.system_default': 3362,\n",
       " '/etc/hosts': 220,\n",
       " '/etc/efax.rc~previous': 1029,\n",
       " '/etc/pf.os': 28311,\n",
       " '/etc/php.ini.default-previous~orig': 73685,\n",
       " '/etc/ntp.conf': 22,\n",
       " '/etc/php.ini.default-5.2-previous': 69266,\n",
       " '/etc/gettytab~orig': 5678,\n",
       " '/etc/passwd~orig': 6393,\n",
       " '/etc/rpc': 1735,\n",
       " '/etc/master.passwd': 7446,\n",
       " '/etc/sshd_config~previous': 4161,\n",
       " '/etc/fstab.hd': 150,\n",
       " '/etc/aliases': 10086,\n",
       " '/etc/paths~orig': 45,\n",
       " '/etc/com.apple.screensharing.agent.launchd': 82,\n",
       " '/etc/hostconfig.system_default': 185,\n",
       " '/etc/shells~orig': 179,\n",
       " '/etc/sshd_config.applesaved': 2409,\n",
       " '/etc/dumpdates': 0,\n",
       " '/etc/protocols': 6393,\n",
       " '/etc/AFP.conf': 24,\n",
       " '/etc/man.conf': 4627,\n",
       " '/etc/services': 677972,\n",
       " '/etc/mail.rc~orig': 106,\n",
       " '/etc/passwd': 6946,\n",
       " '/etc/zprofile': 255,\n",
       " '/etc/afpovertcp.cfg': 515,\n",
       " '/etc/newsyslog.conf': 1318,\n",
       " '/etc/bashrc~previous': 265,\n",
       " '/etc/mail.rc': 106,\n",
       " '/etc/notify.conf': 351,\n",
       " '/etc/sysctl.conf.pg': 106}"
      ]
     },
     "execution_count": 203,
     "metadata": {},
     "output_type": "execute_result"
    }
   ],
   "source": [
    "file_info('/etc')"
   ]
  },
  {
   "cell_type": "code",
   "execution_count": 204,
   "metadata": {},
   "outputs": [],
   "source": [
    "def passwd_to_dict(filename):\n",
    "    return {one_line.split(':')[0]: one_line.split(':')[2]\n",
    "            for one_line in open(filename)\n",
    "            if not one_line.startswith(('#', '\\n'))}\n"
   ]
  },
  {
   "cell_type": "code",
   "execution_count": 205,
   "metadata": {},
   "outputs": [
    {
     "data": {
      "text/plain": [
       "{'nobody': '-2',\n",
       " 'root': '0',\n",
       " 'daemon': '1',\n",
       " '_uucp': '4',\n",
       " '_taskgated': '13',\n",
       " '_networkd': '24',\n",
       " '_installassistant': '25',\n",
       " '_lp': '26',\n",
       " '_postfix': '27',\n",
       " '_scsd': '31',\n",
       " '_ces': '32',\n",
       " '_appstore': '33',\n",
       " '_mcxalr': '54',\n",
       " '_appleevents': '55',\n",
       " '_geod': '56',\n",
       " '_devdocs': '59',\n",
       " '_sandbox': '60',\n",
       " '_mdnsresponder': '65',\n",
       " '_ard': '67',\n",
       " '_www': '70',\n",
       " '_eppc': '71',\n",
       " '_cvs': '72',\n",
       " '_svn': '73',\n",
       " '_mysql': '74',\n",
       " '_sshd': '75',\n",
       " '_qtss': '76',\n",
       " '_cyrus': '77',\n",
       " '_mailman': '78',\n",
       " '_appserver': '79',\n",
       " '_clamav': '82',\n",
       " '_amavisd': '83',\n",
       " '_jabber': '84',\n",
       " '_appowner': '87',\n",
       " '_windowserver': '88',\n",
       " '_spotlight': '89',\n",
       " '_tokend': '91',\n",
       " '_securityagent': '92',\n",
       " '_calendar': '93',\n",
       " '_teamsserver': '94',\n",
       " '_update_sharing': '95',\n",
       " '_installer': '96',\n",
       " '_atsserver': '97',\n",
       " '_ftp': '98',\n",
       " '_unknown': '99',\n",
       " '_softwareupdate': '200',\n",
       " '_coreaudiod': '202',\n",
       " '_screensaver': '203',\n",
       " '_locationd': '205',\n",
       " '_trustevaluationagent': '208',\n",
       " '_timezone': '210',\n",
       " '_lda': '211',\n",
       " '_cvmsroot': '212',\n",
       " '_usbmuxd': '213',\n",
       " '_dovecot': '214',\n",
       " '_dpaudio': '215',\n",
       " '_postgres': '216',\n",
       " '_krbtgt': '217',\n",
       " '_kadmin_admin': '218',\n",
       " '_kadmin_changepw': '219',\n",
       " '_devicemgr': '220',\n",
       " '_webauthserver': '221',\n",
       " '_netbios': '222',\n",
       " '_warmd': '224',\n",
       " '_dovenull': '227',\n",
       " '_netstatistics': '228',\n",
       " '_avbdeviced': '229',\n",
       " '_krb_krbtgt': '230',\n",
       " '_krb_kadmin': '231',\n",
       " '_krb_changepw': '232',\n",
       " '_krb_kerberos': '233',\n",
       " '_krb_anonymous': '234',\n",
       " '_assetcache': '235',\n",
       " '_coremediaiod': '236',\n",
       " '_launchservicesd': '239',\n",
       " '_iconservices': '240',\n",
       " '_distnote': '241',\n",
       " '_nsurlsessiond': '242',\n",
       " '_nsurlstoraged': '243',\n",
       " '_displaypolicyd': '244',\n",
       " '_astris': '245',\n",
       " '_krbfast': '246',\n",
       " '_gamecontrollerd': '247',\n",
       " '_mbsetupuser': '248',\n",
       " '_ondemand': '249',\n",
       " '_xserverdocs': '251',\n",
       " '_wwwproxy': '252',\n",
       " '_mobileasset': '253',\n",
       " '_findmydevice': '254',\n",
       " '_datadetectors': '257',\n",
       " '_captiveagent': '258',\n",
       " '_ctkd': '259',\n",
       " '_applepay': '260',\n",
       " '_hidd': '261',\n",
       " '_cmiodalassistants': '262',\n",
       " '_analyticsd': '263',\n",
       " '_fpsd': '265',\n",
       " '_timed': '266',\n",
       " '_nearbyd': '268',\n",
       " '_reportmemoryexception': '269',\n",
       " '_driverkit': '270'}"
      ]
     },
     "execution_count": 205,
     "metadata": {},
     "output_type": "execute_result"
    }
   ],
   "source": [
    "passwd_to_dict('/etc/passwd')"
   ]
  },
  {
   "cell_type": "code",
   "execution_count": 206,
   "metadata": {},
   "outputs": [],
   "source": [
    "def different_shells(filename):\n",
    "    return {one_line.split(':')[-1].strip()\n",
    "            for one_line in open(filename)\n",
    "            if not one_line.startswith(('\\n', '#'))}\n"
   ]
  },
  {
   "cell_type": "code",
   "execution_count": 207,
   "metadata": {},
   "outputs": [
    {
     "data": {
      "text/plain": [
       "{'/bin/bash', '/bin/sh', '/usr/bin/false', '/usr/sbin/uucico'}"
      ]
     },
     "execution_count": 207,
     "metadata": {},
     "output_type": "execute_result"
    }
   ],
   "source": [
    "different_shells('/etc/passwd')"
   ]
  },
  {
   "cell_type": "code",
   "execution_count": 208,
   "metadata": {},
   "outputs": [],
   "source": [
    "def word_lengths(filename):\n",
    "    return {len(one_word)\n",
    "            for one_line in open(filename)\n",
    "            for one_word in one_line.split()}\n"
   ]
  },
  {
   "cell_type": "code",
   "execution_count": 209,
   "metadata": {},
   "outputs": [
    {
     "data": {
      "text/plain": [
       "{1,\n",
       " 2,\n",
       " 3,\n",
       " 4,\n",
       " 5,\n",
       " 6,\n",
       " 7,\n",
       " 8,\n",
       " 9,\n",
       " 10,\n",
       " 11,\n",
       " 13,\n",
       " 16,\n",
       " 17,\n",
       " 18,\n",
       " 19,\n",
       " 20,\n",
       " 21,\n",
       " 22,\n",
       " 23,\n",
       " 24,\n",
       " 25,\n",
       " 26,\n",
       " 27,\n",
       " 28,\n",
       " 29,\n",
       " 30,\n",
       " 31,\n",
       " 32,\n",
       " 33,\n",
       " 34,\n",
       " 35,\n",
       " 36,\n",
       " 37,\n",
       " 38,\n",
       " 39,\n",
       " 40,\n",
       " 41,\n",
       " 42,\n",
       " 43,\n",
       " 45,\n",
       " 51,\n",
       " 52,\n",
       " 54,\n",
       " 56,\n",
       " 60,\n",
       " 62,\n",
       " 64,\n",
       " 69,\n",
       " 73,\n",
       " 75,\n",
       " 99}"
      ]
     },
     "execution_count": 209,
     "metadata": {},
     "output_type": "execute_result"
    }
   ],
   "source": [
    "word_lengths('/etc/passwd')"
   ]
  },
  {
   "cell_type": "code",
   "execution_count": 212,
   "metadata": {},
   "outputs": [],
   "source": [
    "import string\n",
    "\n",
    "def letters_in_names(list_of_names):\n",
    "    return {one_letter\n",
    "            for one_letter in ''.join(list_of_names)\n",
    "            if one_letter in string.ascii_letters}\n"
   ]
  },
  {
   "cell_type": "code",
   "execution_count": 213,
   "metadata": {},
   "outputs": [
    {
     "data": {
      "text/plain": [
       "{'A',\n",
       " 'R',\n",
       " 'S',\n",
       " 'a',\n",
       " 'e',\n",
       " 'h',\n",
       " 'i',\n",
       " 'k',\n",
       " 'm',\n",
       " 'n',\n",
       " 'o',\n",
       " 'r',\n",
       " 't',\n",
       " 'u',\n",
       " 'v',\n",
       " 'z'}"
      ]
     },
     "execution_count": 213,
     "metadata": {},
     "output_type": "execute_result"
    }
   ],
   "source": [
    "letters_in_names('Reuven Shira Atara Amotz Shikma')"
   ]
  },
  {
   "cell_type": "code",
   "execution_count": 219,
   "metadata": {},
   "outputs": [
    {
     "data": {
      "text/plain": [
       "925"
      ]
     },
     "execution_count": 219,
     "metadata": {},
     "output_type": "execute_result"
    }
   ],
   "source": [
    "import json\n",
    "\n",
    "\n",
    "def get_city_data(filename):\n",
    "    return {one_city['city'] : one_city['population']\n",
    "            for one_city in json.load(open(filename))\n",
    "    }\n",
    "\n",
    "len(get_city_data('../ch07-comprehensions/cities.json'))"
   ]
  },
  {
   "cell_type": "code",
   "execution_count": 221,
   "metadata": {},
   "outputs": [
    {
     "data": {
      "text/plain": [
       "{('New York', 'New York'): '8405837',\n",
       " ('Los Angeles', 'California'): '3884307',\n",
       " ('Chicago', 'Illinois'): '2718782',\n",
       " ('Houston', 'Texas'): '2195914',\n",
       " ('Philadelphia', 'Pennsylvania'): '1553165',\n",
       " ('Phoenix', 'Arizona'): '1513367',\n",
       " ('San Antonio', 'Texas'): '1409019',\n",
       " ('San Diego', 'California'): '1355896',\n",
       " ('Dallas', 'Texas'): '1257676',\n",
       " ('San Jose', 'California'): '998537',\n",
       " ('Austin', 'Texas'): '885400',\n",
       " ('Indianapolis', 'Indiana'): '843393',\n",
       " ('Jacksonville', 'Florida'): '842583',\n",
       " ('San Francisco', 'California'): '837442',\n",
       " ('Columbus', 'Ohio'): '822553',\n",
       " ('Charlotte', 'North Carolina'): '792862',\n",
       " ('Fort Worth', 'Texas'): '792727',\n",
       " ('Detroit', 'Michigan'): '688701',\n",
       " ('El Paso', 'Texas'): '674433',\n",
       " ('Memphis', 'Tennessee'): '653450',\n",
       " ('Seattle', 'Washington'): '652405',\n",
       " ('Denver', 'Colorado'): '649495',\n",
       " ('Washington', 'District of Columbia'): '646449',\n",
       " ('Boston', 'Massachusetts'): '645966',\n",
       " ('Nashville-Davidson', 'Tennessee'): '634464',\n",
       " ('Baltimore', 'Maryland'): '622104',\n",
       " ('Oklahoma City', 'Oklahoma'): '610613',\n",
       " ('Louisville/Jefferson County', 'Kentucky'): '609893',\n",
       " ('Portland', 'Oregon'): '609456',\n",
       " ('Las Vegas', 'Nevada'): '603488',\n",
       " ('Milwaukee', 'Wisconsin'): '599164',\n",
       " ('Albuquerque', 'New Mexico'): '556495',\n",
       " ('Tucson', 'Arizona'): '526116',\n",
       " ('Fresno', 'California'): '509924',\n",
       " ('Sacramento', 'California'): '479686',\n",
       " ('Long Beach', 'California'): '469428',\n",
       " ('Kansas City', 'Missouri'): '467007',\n",
       " ('Mesa', 'Arizona'): '457587',\n",
       " ('Virginia Beach', 'Virginia'): '448479',\n",
       " ('Atlanta', 'Georgia'): '447841',\n",
       " ('Colorado Springs', 'Colorado'): '439886',\n",
       " ('Omaha', 'Nebraska'): '434353',\n",
       " ('Raleigh', 'North Carolina'): '431746',\n",
       " ('Miami', 'Florida'): '417650',\n",
       " ('Oakland', 'California'): '406253',\n",
       " ('Minneapolis', 'Minnesota'): '400070',\n",
       " ('Tulsa', 'Oklahoma'): '398121',\n",
       " ('Cleveland', 'Ohio'): '390113',\n",
       " ('Wichita', 'Kansas'): '386552',\n",
       " ('Arlington', 'Texas'): '379577',\n",
       " ('New Orleans', 'Louisiana'): '378715',\n",
       " ('Bakersfield', 'California'): '363630',\n",
       " ('Tampa', 'Florida'): '352957',\n",
       " ('Honolulu', 'Hawaii'): '347884',\n",
       " ('Aurora', 'Colorado'): '345803',\n",
       " ('Anaheim', 'California'): '345012',\n",
       " ('Santa Ana', 'California'): '334227',\n",
       " ('St. Louis', 'Missouri'): '318416',\n",
       " ('Riverside', 'California'): '316619',\n",
       " ('Corpus Christi', 'Texas'): '316381',\n",
       " ('Lexington-Fayette', 'Kentucky'): '308428',\n",
       " ('Pittsburgh', 'Pennsylvania'): '305841',\n",
       " ('Anchorage', 'Alaska'): '300950',\n",
       " ('Stockton', 'California'): '298118',\n",
       " ('Cincinnati', 'Ohio'): '297517',\n",
       " ('St. Paul', 'Minnesota'): '294873',\n",
       " ('Toledo', 'Ohio'): '282313',\n",
       " ('Greensboro', 'North Carolina'): '279639',\n",
       " ('Newark', 'New Jersey'): '278427',\n",
       " ('Plano', 'Texas'): '274409',\n",
       " ('Henderson', 'Nevada'): '270811',\n",
       " ('Lincoln', 'Nebraska'): '268738',\n",
       " ('Buffalo', 'New York'): '258959',\n",
       " ('Jersey City', 'New Jersey'): '257342',\n",
       " ('Chula Vista', 'California'): '256780',\n",
       " ('Fort Wayne', 'Indiana'): '256496',\n",
       " ('Orlando', 'Florida'): '255483',\n",
       " ('St. Petersburg', 'Florida'): '249688',\n",
       " ('Chandler', 'Arizona'): '249146',\n",
       " ('Laredo', 'Texas'): '248142',\n",
       " ('Norfolk', 'Virginia'): '246139',\n",
       " ('Durham', 'North Carolina'): '245475',\n",
       " ('Madison', 'Wisconsin'): '243344',\n",
       " ('Lubbock', 'Texas'): '239538',\n",
       " ('Irvine', 'California'): '236716',\n",
       " ('Winston-Salem', 'North Carolina'): '236441',\n",
       " ('Glendale', 'Arizona'): '234632',\n",
       " ('Garland', 'Texas'): '234566',\n",
       " ('Hialeah', 'Florida'): '233394',\n",
       " ('Reno', 'Nevada'): '233294',\n",
       " ('Chesapeake', 'Virginia'): '230571',\n",
       " ('Gilbert', 'Arizona'): '229972',\n",
       " ('Baton Rouge', 'Louisiana'): '229426',\n",
       " ('Irving', 'Texas'): '228653',\n",
       " ('Scottsdale', 'Arizona'): '226918',\n",
       " ('North Las Vegas', 'Nevada'): '226877',\n",
       " ('Fremont', 'California'): '224922',\n",
       " ('Boise City', 'Idaho'): '214237',\n",
       " ('Richmond', 'Virginia'): '214114',\n",
       " ('San Bernardino', 'California'): '213708',\n",
       " ('Birmingham', 'Alabama'): '212113',\n",
       " ('Spokane', 'Washington'): '210721',\n",
       " ('Rochester', 'New York'): '210358',\n",
       " ('Des Moines', 'Iowa'): '207510',\n",
       " ('Modesto', 'California'): '204933',\n",
       " ('Fayetteville', 'North Carolina'): '204408',\n",
       " ('Tacoma', 'Washington'): '203446',\n",
       " ('Oxnard', 'California'): '203007',\n",
       " ('Fontana', 'California'): '203003',\n",
       " ('Columbus', 'Georgia'): '202824',\n",
       " ('Montgomery', 'Alabama'): '201332',\n",
       " ('Moreno Valley', 'California'): '201175',\n",
       " ('Shreveport', 'Louisiana'): '200327',\n",
       " ('Aurora', 'Illinois'): '199963',\n",
       " ('Yonkers', 'New York'): '199766',\n",
       " ('Akron', 'Ohio'): '198100',\n",
       " ('Huntington Beach', 'California'): '197575',\n",
       " ('Little Rock', 'Arkansas'): '197357',\n",
       " ('Augusta-Richmond County', 'Georgia'): '197350',\n",
       " ('Amarillo', 'Texas'): '196429',\n",
       " ('Glendale', 'California'): '196021',\n",
       " ('Mobile', 'Alabama'): '194899',\n",
       " ('Grand Rapids', 'Michigan'): '192294',\n",
       " ('Salt Lake City', 'Utah'): '191180',\n",
       " ('Tallahassee', 'Florida'): '186411',\n",
       " ('Huntsville', 'Alabama'): '186254',\n",
       " ('Grand Prairie', 'Texas'): '183372',\n",
       " ('Knoxville', 'Tennessee'): '183270',\n",
       " ('Worcester', 'Massachusetts'): '182544',\n",
       " ('Newport News', 'Virginia'): '182020',\n",
       " ('Brownsville', 'Texas'): '181860',\n",
       " ('Overland Park', 'Kansas'): '181260',\n",
       " ('Santa Clarita', 'California'): '179590',\n",
       " ('Providence', 'Rhode Island'): '177994',\n",
       " ('Garden Grove', 'California'): '175140',\n",
       " ('Chattanooga', 'Tennessee'): '173366',\n",
       " ('Oceanside', 'California'): '172794',\n",
       " ('Jackson', 'Mississippi'): '172638',\n",
       " ('Fort Lauderdale', 'Florida'): '172389',\n",
       " ('Santa Rosa', 'California'): '171990',\n",
       " ('Rancho Cucamonga', 'California'): '171386',\n",
       " ('Port St. Lucie', 'Florida'): '171016',\n",
       " ('Tempe', 'Arizona'): '168228',\n",
       " ('Ontario', 'California'): '167500',\n",
       " ('Vancouver', 'Washington'): '167405',\n",
       " ('Cape Coral', 'Florida'): '165831',\n",
       " ('Sioux Falls', 'South Dakota'): '164676',\n",
       " ('Springfield', 'Missouri'): '164122',\n",
       " ('Peoria', 'Arizona'): '162592',\n",
       " ('Pembroke Pines', 'Florida'): '162329',\n",
       " ('Elk Grove', 'California'): '161007',\n",
       " ('Salem', 'Oregon'): '160614',\n",
       " ('Lancaster', 'California'): '159523',\n",
       " ('Corona', 'California'): '159503',\n",
       " ('Eugene', 'Oregon'): '159190',\n",
       " ('Palmdale', 'California'): '157161',\n",
       " ('Salinas', 'California'): '155662',\n",
       " ('Springfield', 'Massachusetts'): '153703',\n",
       " ('Pasadena', 'Texas'): '152735',\n",
       " ('Fort Collins', 'Colorado'): '152061',\n",
       " ('Hayward', 'California'): '151574',\n",
       " ('Pomona', 'California'): '151348',\n",
       " ('Cary', 'North Carolina'): '151088',\n",
       " ('Rockford', 'Illinois'): '150251',\n",
       " ('Alexandria', 'Virginia'): '148892',\n",
       " ('Escondido', 'California'): '148738',\n",
       " ('McKinney', 'Texas'): '148559',\n",
       " ('Kansas City', 'Kansas'): '148483',\n",
       " ('Joliet', 'Illinois'): '147806',\n",
       " ('Sunnyvale', 'California'): '147559',\n",
       " ('Torrance', 'California'): '147478',\n",
       " ('Bridgeport', 'Connecticut'): '147216',\n",
       " ('Lakewood', 'Colorado'): '147214',\n",
       " ('Hollywood', 'Florida'): '146526',\n",
       " ('Paterson', 'New Jersey'): '145948',\n",
       " ('Naperville', 'Illinois'): '144864',\n",
       " ('Syracuse', 'New York'): '144669',\n",
       " ('Mesquite', 'Texas'): '143484',\n",
       " ('Dayton', 'Ohio'): '143355',\n",
       " ('Savannah', 'Georgia'): '142772',\n",
       " ('Clarksville', 'Tennessee'): '142357',\n",
       " ('Orange', 'California'): '139969',\n",
       " ('Pasadena', 'California'): '139731',\n",
       " ('Fullerton', 'California'): '138981',\n",
       " ('Killeen', 'Texas'): '137147',\n",
       " ('Frisco', 'Texas'): '136791',\n",
       " ('Hampton', 'Virginia'): '136699',\n",
       " ('McAllen', 'Texas'): '136639',\n",
       " ('Warren', 'Michigan'): '134873',\n",
       " ('Bellevue', 'Washington'): '133992',\n",
       " ('West Valley City', 'Utah'): '133579',\n",
       " ('Columbia', 'South Carolina'): '133358',\n",
       " ('Olathe', 'Kansas'): '131885',\n",
       " ('Sterling Heights', 'Michigan'): '131224',\n",
       " ('New Haven', 'Connecticut'): '130660',\n",
       " ('Miramar', 'Florida'): '130288',\n",
       " ('Waco', 'Texas'): '129030',\n",
       " ('Thousand Oaks', 'California'): '128731',\n",
       " ('Cedar Rapids', 'Iowa'): '128429',\n",
       " ('Charleston', 'South Carolina'): '127999',\n",
       " ('Visalia', 'California'): '127763',\n",
       " ('Topeka', 'Kansas'): '127679',\n",
       " ('Elizabeth', 'New Jersey'): '127558',\n",
       " ('Gainesville', 'Florida'): '127488',\n",
       " ('Thornton', 'Colorado'): '127359',\n",
       " ('Roseville', 'California'): '127035',\n",
       " ('Carrollton', 'Texas'): '126700',\n",
       " ('Coral Springs', 'Florida'): '126604',\n",
       " ('Stamford', 'Connecticut'): '126456',\n",
       " ('Simi Valley', 'California'): '126181',\n",
       " ('Concord', 'California'): '125880',\n",
       " ('Hartford', 'Connecticut'): '125017',\n",
       " ('Kent', 'Washington'): '124435',\n",
       " ('Lafayette', 'Louisiana'): '124276',\n",
       " ('Midland', 'Texas'): '123933',\n",
       " ('Surprise', 'Arizona'): '123546',\n",
       " ('Denton', 'Texas'): '123099',\n",
       " ('Victorville', 'California'): '121096',\n",
       " ('Evansville', 'Indiana'): '120310',\n",
       " ('Santa Clara', 'California'): '120245',\n",
       " ('Abilene', 'Texas'): '120099',\n",
       " ('Athens-Clarke County', 'Georgia'): '119980',\n",
       " ('Vallejo', 'California'): '118837',\n",
       " ('Allentown', 'Pennsylvania'): '118577',\n",
       " ('Norman', 'Oklahoma'): '118197',\n",
       " ('Beaumont', 'Texas'): '117796',\n",
       " ('Independence', 'Missouri'): '117240',\n",
       " ('Murfreesboro', 'Tennessee'): '117044',\n",
       " ('Ann Arbor', 'Michigan'): '117025',\n",
       " ('Springfield', 'Illinois'): '117006',\n",
       " ('Berkeley', 'California'): '116768',\n",
       " ('Peoria', 'Illinois'): '116513',\n",
       " ('Provo', 'Utah'): '116288',\n",
       " ('El Monte', 'California'): '115708',\n",
       " ('Columbia', 'Missouri'): '115276',\n",
       " ('Lansing', 'Michigan'): '113972',\n",
       " ('Fargo', 'North Dakota'): '113658',\n",
       " ('Downey', 'California'): '113242',\n",
       " ('Costa Mesa', 'California'): '112174',\n",
       " ('Wilmington', 'North Carolina'): '112067',\n",
       " ('Arvada', 'Colorado'): '111707',\n",
       " ('Inglewood', 'California'): '111542',\n",
       " ('Miami Gardens', 'Florida'): '111378',\n",
       " ('Carlsbad', 'California'): '110972',\n",
       " ('Westminster', 'Colorado'): '110945',\n",
       " ('Rochester', 'Minnesota'): '110742',\n",
       " ('Odessa', 'Texas'): '110720',\n",
       " ('Manchester', 'New Hampshire'): '110378',\n",
       " ('Elgin', 'Illinois'): '110145',\n",
       " ('West Jordan', 'Utah'): '110077',\n",
       " ('Round Rock', 'Texas'): '109821',\n",
       " ('Clearwater', 'Florida'): '109703',\n",
       " ('Waterbury', 'Connecticut'): '109676',\n",
       " ('Gresham', 'Oregon'): '109397',\n",
       " ('Fairfield', 'California'): '109320',\n",
       " ('Billings', 'Montana'): '109059',\n",
       " ('Lowell', 'Massachusetts'): '108861',\n",
       " ('San Buenaventura (Ventura)', 'California'): '108817',\n",
       " ('Pueblo', 'Colorado'): '108249',\n",
       " ('High Point', 'North Carolina'): '107741',\n",
       " ('West Covina', 'California'): '107740',\n",
       " ('Richmond', 'California'): '107571',\n",
       " ('Murrieta', 'California'): '107479',\n",
       " ('Cambridge', 'Massachusetts'): '107289',\n",
       " ('Antioch', 'California'): '107100',\n",
       " ('Temecula', 'California'): '106780',\n",
       " ('Norwalk', 'California'): '106589',\n",
       " ('Centennial', 'Colorado'): '106114',\n",
       " ('Everett', 'Washington'): '105370',\n",
       " ('Palm Bay', 'Florida'): '104898',\n",
       " ('Wichita Falls', 'Texas'): '104898',\n",
       " ('Green Bay', 'Wisconsin'): '104779',\n",
       " ('Daly City', 'California'): '104739',\n",
       " ('Burbank', 'California'): '104709',\n",
       " ('Richardson', 'Texas'): '104475',\n",
       " ('Pompano Beach', 'Florida'): '104410',\n",
       " ('North Charleston', 'South Carolina'): '104054',\n",
       " ('Broken Arrow', 'Oklahoma'): '103500',\n",
       " ('Boulder', 'Colorado'): '103166',\n",
       " ('West Palm Beach', 'Florida'): '102436',\n",
       " ('Santa Maria', 'California'): '102216',\n",
       " ('El Cajon', 'California'): '102211',\n",
       " ('Davenport', 'Iowa'): '102157',\n",
       " ('Rialto', 'California'): '101910',\n",
       " ('Las Cruces', 'New Mexico'): '101324',\n",
       " ('San Mateo', 'California'): '101128',\n",
       " ('Lewisville', 'Texas'): '101074',\n",
       " ('South Bend', 'Indiana'): '100886',\n",
       " ('Lakeland', 'Florida'): '100710',\n",
       " ('Erie', 'Pennsylvania'): '100671',\n",
       " ('Tyler', 'Texas'): '100223',\n",
       " ('Pearland', 'Texas'): '100065',\n",
       " ('College Station', 'Texas'): '100050',\n",
       " ('Kenosha', 'Wisconsin'): '99889',\n",
       " ('Sandy Springs', 'Georgia'): '99770',\n",
       " ('Clovis', 'California'): '99769',\n",
       " ('Flint', 'Michigan'): '99763',\n",
       " ('Roanoke', 'Virginia'): '98465',\n",
       " ('Albany', 'New York'): '98424',\n",
       " ('Jurupa Valley', 'California'): '98030',\n",
       " ('Compton', 'California'): '97877',\n",
       " ('San Angelo', 'Texas'): '97492',\n",
       " ('Hillsboro', 'Oregon'): '97368',\n",
       " ('Lawton', 'Oklahoma'): '97151',\n",
       " ('Renton', 'Washington'): '97003',\n",
       " ('Vista', 'California'): '96929',\n",
       " ('Davie', 'Florida'): '96830',\n",
       " ('Greeley', 'Colorado'): '96539',\n",
       " ('Mission Viejo', 'California'): '96346',\n",
       " ('Portsmouth', 'Virginia'): '96205',\n",
       " ('Dearborn', 'Michigan'): '95884',\n",
       " ('South Gate', 'California'): '95677',\n",
       " ('Tuscaloosa', 'Alabama'): '95334',\n",
       " ('Livonia', 'Michigan'): '95208',\n",
       " ('New Bedford', 'Massachusetts'): '95078',\n",
       " ('Vacaville', 'California'): '94275',\n",
       " ('Brockton', 'Massachusetts'): '94089',\n",
       " ('Roswell', 'Georgia'): '94034',\n",
       " ('Beaverton', 'Oregon'): '93542',\n",
       " ('Quincy', 'Massachusetts'): '93494',\n",
       " ('Sparks', 'Nevada'): '93282',\n",
       " ('Yakima', 'Washington'): '93257',\n",
       " (\"Lee's Summit\", 'Missouri'): '93184',\n",
       " ('Federal Way', 'Washington'): '92734',\n",
       " ('Carson', 'California'): '92599',\n",
       " ('Santa Monica', 'California'): '92472',\n",
       " ('Hesperia', 'California'): '92147',\n",
       " ('Allen', 'Texas'): '92020',\n",
       " ('Rio Rancho', 'New Mexico'): '91956',\n",
       " ('Yuma', 'Arizona'): '91923',\n",
       " ('Westminster', 'California'): '91739',\n",
       " ('Orem', 'Utah'): '91648',\n",
       " ('Lynn', 'Massachusetts'): '91589',\n",
       " ('Redding', 'California'): '91119',\n",
       " ('Spokane Valley', 'Washington'): '91113',\n",
       " ('Miami Beach', 'Florida'): '91026',\n",
       " ('League City', 'Texas'): '90983',\n",
       " ('Lawrence', 'Kansas'): '90811',\n",
       " ('Santa Barbara', 'California'): '90412',\n",
       " ('Plantation', 'Florida'): '90268',\n",
       " ('Sandy', 'Utah'): '90231',\n",
       " ('Sunrise', 'Florida'): '90116',\n",
       " ('Macon', 'Georgia'): '89981',\n",
       " ('Longmont', 'Colorado'): '89919',\n",
       " ('Boca Raton', 'Florida'): '89407',\n",
       " ('San Marcos', 'California'): '89387',\n",
       " ('Greenville', 'North Carolina'): '89130',\n",
       " ('Waukegan', 'Illinois'): '88826',\n",
       " ('Fall River', 'Massachusetts'): '88697',\n",
       " ('Chico', 'California'): '88077',\n",
       " ('Newton', 'Massachusetts'): '87971',\n",
       " ('San Leandro', 'California'): '87965',\n",
       " ('Reading', 'Pennsylvania'): '87893',\n",
       " ('Norwalk', 'Connecticut'): '87776',\n",
       " ('Fort Smith', 'Arkansas'): '87650',\n",
       " ('Newport Beach', 'California'): '87273',\n",
       " ('Asheville', 'North Carolina'): '87236',\n",
       " ('Nashua', 'New Hampshire'): '87137',\n",
       " ('Edmond', 'Oklahoma'): '87004',\n",
       " ('Whittier', 'California'): '86635',\n",
       " ('Nampa', 'Idaho'): '86518',\n",
       " ('Bloomington', 'Minnesota'): '86319',\n",
       " ('Deltona', 'Florida'): '86290',\n",
       " ('Hawthorne', 'California'): '86199',\n",
       " ('Duluth', 'Minnesota'): '86128',\n",
       " ('Carmel', 'Indiana'): '85927',\n",
       " ('Suffolk', 'Virginia'): '85728',\n",
       " ('Clifton', 'New Jersey'): '85390',\n",
       " ('Citrus Heights', 'California'): '85285',\n",
       " ('Livermore', 'California'): '85156',\n",
       " ('Tracy', 'California'): '84691',\n",
       " ('Alhambra', 'California'): '84577',\n",
       " ('Kirkland', 'Washington'): '84430',\n",
       " ('Trenton', 'New Jersey'): '84349',\n",
       " ('Ogden', 'Utah'): '84249',\n",
       " ('Hoover', 'Alabama'): '84126',\n",
       " ('Cicero', 'Illinois'): '84103',\n",
       " ('Fishers', 'Indiana'): '83891',\n",
       " ('Sugar Land', 'Texas'): '83860',\n",
       " ('Danbury', 'Connecticut'): '83684',\n",
       " ('Meridian', 'Idaho'): '83596',\n",
       " ('Indio', 'California'): '83539',\n",
       " ('Concord', 'North Carolina'): '83506',\n",
       " ('Menifee', 'California'): '83447',\n",
       " ('Champaign', 'Illinois'): '83424',\n",
       " ('Buena Park', 'California'): '82882',\n",
       " ('Troy', 'Michigan'): '82821',\n",
       " (\"O'Fallon\", 'Missouri'): '82809',\n",
       " ('Johns Creek', 'Georgia'): '82788',\n",
       " ('Bellingham', 'Washington'): '82631',\n",
       " ('Westland', 'Michigan'): '82578',\n",
       " ('Bloomington', 'Indiana'): '82575',\n",
       " ('Sioux City', 'Iowa'): '82459',\n",
       " ('Warwick', 'Rhode Island'): '81971',\n",
       " ('Hemet', 'California'): '81750',\n",
       " ('Longview', 'Texas'): '81443',\n",
       " ('Farmington Hills', 'Michigan'): '81295',\n",
       " ('Bend', 'Oregon'): '81236',\n",
       " ('Lakewood', 'California'): '81121',\n",
       " ('Merced', 'California'): '81102',\n",
       " ('Mission', 'Texas'): '81050',\n",
       " ('Chino', 'California'): '80988',\n",
       " ('Redwood City', 'California'): '80872',\n",
       " ('Edinburg', 'Texas'): '80836',\n",
       " ('Cranston', 'Rhode Island'): '80566',\n",
       " ('Parma', 'Ohio'): '80429',\n",
       " ('New Rochelle', 'New York'): '79446',\n",
       " ('Lake Forest', 'California'): '79312',\n",
       " ('Napa', 'California'): '79068',\n",
       " ('Hammond', 'Indiana'): '78967',\n",
       " ('Fayetteville', 'Arkansas'): '78960',\n",
       " ('Bloomington', 'Illinois'): '78902',\n",
       " ('Avondale', 'Arizona'): '78822',\n",
       " ('Somerville', 'Massachusetts'): '78804',\n",
       " ('Palm Coast', 'Florida'): '78740',\n",
       " ('Bryan', 'Texas'): '78709',\n",
       " ('Gary', 'Indiana'): '78450',\n",
       " ('Largo', 'Florida'): '78409',\n",
       " ('Brooklyn Park', 'Minnesota'): '78373',\n",
       " ('Tustin', 'California'): '78327',\n",
       " ('Racine', 'Wisconsin'): '78199',\n",
       " ('Deerfield Beach', 'Florida'): '78041',\n",
       " ('Lynchburg', 'Virginia'): '78014',\n",
       " ('Mountain View', 'California'): '77846',\n",
       " ('Medford', 'Oregon'): '77677',\n",
       " ('Lawrence', 'Massachusetts'): '77657',\n",
       " ('Bellflower', 'California'): '77593',\n",
       " ('Melbourne', 'Florida'): '77508',\n",
       " ('St. Joseph', 'Missouri'): '77147',\n",
       " ('Camden', 'New Jersey'): '76903',\n",
       " ('St. George', 'Utah'): '76817',\n",
       " ('Kennewick', 'Washington'): '76762',\n",
       " ('Baldwin Park', 'California'): '76635',\n",
       " ('Chino Hills', 'California'): '76572',\n",
       " ('Alameda', 'California'): '76419',\n",
       " ('Albany', 'Georgia'): '76185',\n",
       " ('Arlington Heights', 'Illinois'): '75994',\n",
       " ('Scranton', 'Pennsylvania'): '75806',\n",
       " ('Evanston', 'Illinois'): '75570',\n",
       " ('Kalamazoo', 'Michigan'): '75548',\n",
       " ('Baytown', 'Texas'): '75418',\n",
       " ('Upland', 'California'): '75413',\n",
       " ('Springdale', 'Arkansas'): '75229',\n",
       " ('Bethlehem', 'Pennsylvania'): '75018',\n",
       " ('Schaumburg', 'Illinois'): '74907',\n",
       " ('Mount Pleasant', 'South Carolina'): '74885',\n",
       " ('Auburn', 'Washington'): '74860',\n",
       " ('Decatur', 'Illinois'): '74710',\n",
       " ('San Ramon', 'California'): '74513',\n",
       " ('Pleasanton', 'California'): '74110',\n",
       " ('Wyoming', 'Michigan'): '74100',\n",
       " ('Lake Charles', 'Louisiana'): '74024',\n",
       " ('Plymouth', 'Minnesota'): '73987',\n",
       " ('Bolingbrook', 'Illinois'): '73936',\n",
       " ('Pharr', 'Texas'): '73790',\n",
       " ('Appleton', 'Wisconsin'): '73596',\n",
       " ('Gastonia', 'North Carolina'): '73209',\n",
       " ('Folsom', 'California'): '73098',\n",
       " ('Southfield', 'Michigan'): '73006',\n",
       " ('Rochester Hills', 'Michigan'): '72952',\n",
       " ('New Britain', 'Connecticut'): '72939',\n",
       " ('Goodyear', 'Arizona'): '72864',\n",
       " ('Canton', 'Ohio'): '72535',\n",
       " ('Warner Robins', 'Georgia'): '72531',\n",
       " ('Union City', 'California'): '72528',\n",
       " ('Perris', 'California'): '72326',\n",
       " ('Manteca', 'California'): '71948',\n",
       " ('Iowa City', 'Iowa'): '71591',\n",
       " ('Jonesboro', 'Arkansas'): '71551',\n",
       " ('Wilmington', 'Delaware'): '71525',\n",
       " ('Lynwood', 'California'): '71371',\n",
       " ('Loveland', 'Colorado'): '71334',\n",
       " ('Pawtucket', 'Rhode Island'): '71172',\n",
       " ('Boynton Beach', 'Florida'): '71097',\n",
       " ('Waukesha', 'Wisconsin'): '71016',\n",
       " ('Gulfport', 'Mississippi'): '71012',\n",
       " ('Apple Valley', 'California'): '70924',\n",
       " ('Passaic', 'New Jersey'): '70868',\n",
       " ('Rapid City', 'South Dakota'): '70812',\n",
       " ('Layton', 'Utah'): '70790',\n",
       " ('Lafayette', 'Indiana'): '70373',\n",
       " ('Turlock', 'California'): '70365',\n",
       " ('Muncie', 'Indiana'): '70316',\n",
       " ('Temple', 'Texas'): '70190',\n",
       " ('Missouri City', 'Texas'): '70185',\n",
       " ('Redlands', 'California'): '69999',\n",
       " ('Santa Fe', 'New Mexico'): '69976',\n",
       " ('Lauderhill', 'Florida'): '69813',\n",
       " ('Milpitas', 'California'): '69783',\n",
       " ('Palatine', 'Illinois'): '69350',\n",
       " ('Missoula', 'Montana'): '69122',\n",
       " ('Rock Hill', 'South Carolina'): '69103',\n",
       " ('Jacksonville', 'North Carolina'): '69079',\n",
       " ('Franklin', 'Tennessee'): '68886',\n",
       " ('Flagstaff', 'Arizona'): '68667',\n",
       " ('Flower Mound', 'Texas'): '68609',\n",
       " ('Weston', 'Florida'): '68388',\n",
       " ('Waterloo', 'Iowa'): '68366',\n",
       " ('Union City', 'New Jersey'): '68247',\n",
       " ('Mount Vernon', 'New York'): '68224',\n",
       " ('Fort Myers', 'Florida'): '68190',\n",
       " ('Dothan', 'Alabama'): '68001',\n",
       " ('Rancho Cordova', 'California'): '67911',\n",
       " ('Redondo Beach', 'California'): '67815',\n",
       " ('Jackson', 'Tennessee'): '67685',\n",
       " ('Pasco', 'Washington'): '67599',\n",
       " ('St. Charles', 'Missouri'): '67569',\n",
       " ('Eau Claire', 'Wisconsin'): '67545',\n",
       " ('North Richland Hills', 'Texas'): '67317',\n",
       " ('Bismarck', 'North Dakota'): '67034',\n",
       " ('Yorba Linda', 'California'): '67032',\n",
       " ('Kenner', 'Louisiana'): '66975',\n",
       " ('Walnut Creek', 'California'): '66900',\n",
       " ('Frederick', 'Maryland'): '66893',\n",
       " ('Oshkosh', 'Wisconsin'): '66778',\n",
       " ('Pittsburg', 'California'): '66695',\n",
       " ('Palo Alto', 'California'): '66642',\n",
       " ('Bossier City', 'Louisiana'): '66333',\n",
       " ('Portland', 'Maine'): '66318',\n",
       " ('St. Cloud', 'Minnesota'): '66297',\n",
       " ('Davis', 'California'): '66205',\n",
       " ('South San Francisco', 'California'): '66174',\n",
       " ('Camarillo', 'California'): '66086',\n",
       " ('North Little Rock', 'Arkansas'): '66075',\n",
       " ('Schenectady', 'New York'): '65902',\n",
       " ('Gaithersburg', 'Maryland'): '65690',\n",
       " ('Harlingen', 'Texas'): '65665',\n",
       " ('Woodbury', 'Minnesota'): '65656',\n",
       " ('Eagan', 'Minnesota'): '65453',\n",
       " ('Yuba City', 'California'): '65416',\n",
       " ('Maple Grove', 'Minnesota'): '65415',\n",
       " ('Youngstown', 'Ohio'): '65184',\n",
       " ('Skokie', 'Illinois'): '65176',\n",
       " ('Kissimmee', 'Florida'): '65173',\n",
       " ('Johnson City', 'Tennessee'): '65123',\n",
       " ('Victoria', 'Texas'): '65098',\n",
       " ('San Clemente', 'California'): '65040',\n",
       " ('Bayonne', 'New Jersey'): '65028',\n",
       " ('Laguna Niguel', 'California'): '64652',\n",
       " ('East Orange', 'New Jersey'): '64544',\n",
       " ('Shawnee', 'Kansas'): '64323',\n",
       " ('Homestead', 'Florida'): '64079',\n",
       " ('Rockville', 'Maryland'): '64072',\n",
       " ('Delray Beach', 'Florida'): '64072',\n",
       " ('Janesville', 'Wisconsin'): '63820',\n",
       " ('Conway', 'Arkansas'): '63816',\n",
       " ('Pico Rivera', 'California'): '63771',\n",
       " ('Lorain', 'Ohio'): '63710',\n",
       " ('Montebello', 'California'): '63495',\n",
       " ('Lodi', 'California'): '63338',\n",
       " ('New Braunfels', 'Texas'): '63279',\n",
       " ('Marysville', 'Washington'): '63269',\n",
       " ('Tamarac', 'Florida'): '63155',\n",
       " ('Madera', 'California'): '63105',\n",
       " ('Conroe', 'Texas'): '63032',\n",
       " ('Santa Cruz', 'California'): '62864',\n",
       " ('Eden Prairie', 'Minnesota'): '62603',\n",
       " ('Cheyenne', 'Wyoming'): '62448',\n",
       " ('Daytona Beach', 'Florida'): '62316',\n",
       " ('Alpharetta', 'Georgia'): '62298',\n",
       " ('Hamilton', 'Ohio'): '62258',\n",
       " ('Waltham', 'Massachusetts'): '62227',\n",
       " ('Coon Rapids', 'Minnesota'): '62103',\n",
       " ('Haverhill', 'Massachusetts'): '62088',\n",
       " ('Council Bluffs', 'Iowa'): '61969',\n",
       " ('Taylor', 'Michigan'): '61817',\n",
       " ('Utica', 'New York'): '61808',\n",
       " ('Ames', 'Iowa'): '61792',\n",
       " ('La Habra', 'California'): '61653',\n",
       " ('Encinitas', 'California'): '61588',\n",
       " ('Bowling Green', 'Kentucky'): '61488',\n",
       " ('Burnsville', 'Minnesota'): '61434',\n",
       " ('Greenville', 'South Carolina'): '61397',\n",
       " ('West Des Moines', 'Iowa'): '61255',\n",
       " ('Cedar Park', 'Texas'): '61238',\n",
       " ('Tulare', 'California'): '61170',\n",
       " ('Monterey Park', 'California'): '61085',\n",
       " ('Vineland', 'New Jersey'): '61050',\n",
       " ('Terre Haute', 'Indiana'): '61025',\n",
       " ('North Miami', 'Florida'): '61007',\n",
       " ('Mansfield', 'Texas'): '60872',\n",
       " ('West Allis', 'Wisconsin'): '60697',\n",
       " ('Bristol', 'Connecticut'): '60568',\n",
       " ('Taylorsville', 'Utah'): '60519',\n",
       " ('Malden', 'Massachusetts'): '60509',\n",
       " ('Meriden', 'Connecticut'): '60456',\n",
       " ('Blaine', 'Minnesota'): '60407',\n",
       " ('Wellington', 'Florida'): '60202',\n",
       " ('Cupertino', 'California'): '60189',\n",
       " ('Springfield', 'Oregon'): '60177',\n",
       " ('Rogers', 'Arkansas'): '60112',\n",
       " ('St. Clair Shores', 'Michigan'): '60070',\n",
       " ('Gardena', 'California'): '59957',\n",
       " ('Pontiac', 'Michigan'): '59887',\n",
       " ('National City', 'California'): '59834',\n",
       " ('Grand Junction', 'Colorado'): '59778',\n",
       " ('Rocklin', 'California'): '59738',\n",
       " ('Chapel Hill', 'North Carolina'): '59635',\n",
       " ('Casper', 'Wyoming'): '59628',\n",
       " ('Broomfield', 'Colorado'): '59471',\n",
       " ('Petaluma', 'California'): '59440',\n",
       " ('South Jordan', 'Utah'): '59366',\n",
       " ('Springfield', 'Ohio'): '59357',\n",
       " ('Great Falls', 'Montana'): '59351',\n",
       " ('Lancaster', 'Pennsylvania'): '59325',\n",
       " ('North Port', 'Florida'): '59212',\n",
       " ('Lakewood', 'Washington'): '59097',\n",
       " ('Marietta', 'Georgia'): '59089',\n",
       " ('San Rafael', 'California'): '58994',\n",
       " ('Royal Oak', 'Michigan'): '58946',\n",
       " ('Des Plaines', 'Illinois'): '58918',\n",
       " ('Huntington Park', 'California'): '58879',\n",
       " ('La Mesa', 'California'): '58642',\n",
       " ('Orland Park', 'Illinois'): '58590',\n",
       " ('Auburn', 'Alabama'): '58582',\n",
       " ('Lakeville', 'Minnesota'): '58562',\n",
       " ('Owensboro', 'Kentucky'): '58416',\n",
       " ('Moore', 'Oklahoma'): '58414',\n",
       " ('Jupiter', 'Florida'): '58298',\n",
       " ('Idaho Falls', 'Idaho'): '58292',\n",
       " ('Dubuque', 'Iowa'): '58253',\n",
       " ('Bartlett', 'Tennessee'): '58226',\n",
       " ('Rowlett', 'Texas'): '58043',\n",
       " ('Novi', 'Michigan'): '57960',\n",
       " ('White Plains', 'New York'): '57866',\n",
       " ('Arcadia', 'California'): '57639',\n",
       " ('Redmond', 'Washington'): '57530',\n",
       " ('Lake Elsinore', 'California'): '57525',\n",
       " ('Ocala', 'Florida'): '57468',\n",
       " ('Tinley Park', 'Illinois'): '57282',\n",
       " ('Port Orange', 'Florida'): '57203',\n",
       " ('Medford', 'Massachusetts'): '57170',\n",
       " ('Oak Lawn', 'Illinois'): '57073',\n",
       " ('Rocky Mount', 'North Carolina'): '56954',\n",
       " ('Kokomo', 'Indiana'): '56895',\n",
       " ('Coconut Creek', 'Florida'): '56792',\n",
       " ('Bowie', 'Maryland'): '56759',\n",
       " ('Berwyn', 'Illinois'): '56758',\n",
       " ('Midwest City', 'Oklahoma'): '56756',\n",
       " ('Fountain Valley', 'California'): '56707',\n",
       " ('Buckeye', 'Arizona'): '56683',\n",
       " ('Dearborn Heights', 'Michigan'): '56620',\n",
       " ('Woodland', 'California'): '56590',\n",
       " ('Noblesville', 'Indiana'): '56540',\n",
       " ('Valdosta', 'Georgia'): '56481',\n",
       " ('Diamond Bar', 'California'): '56449',\n",
       " ('Manhattan', 'Kansas'): '56143',\n",
       " ('Santee', 'California'): '56105',\n",
       " ('Taunton', 'Massachusetts'): '56069',\n",
       " ('Sanford', 'Florida'): '56002',\n",
       " ('Kettering', 'Ohio'): '55870',\n",
       " ('New Brunswick', 'New Jersey'): '55831',\n",
       " ('Decatur', 'Alabama'): '55816',\n",
       " ('Chicopee', 'Massachusetts'): '55717',\n",
       " ('Anderson', 'Indiana'): '55670',\n",
       " ('Margate', 'Florida'): '55456',\n",
       " ('Weymouth Town', 'Massachusetts'): '55419',\n",
       " ('Hempstead', 'New York'): '55361',\n",
       " ('Corvallis', 'Oregon'): '55298',\n",
       " ('Eastvale', 'California'): '55191',\n",
       " ('Porterville', 'California'): '55174',\n",
       " ('West Haven', 'Connecticut'): '55046',\n",
       " ('Brentwood', 'California'): '55000',\n",
       " ('Paramount', 'California'): '54980',\n",
       " ('Grand Forks', 'North Dakota'): '54932',\n",
       " ('Georgetown', 'Texas'): '54898',\n",
       " ('St. Peters', 'Missouri'): '54842',\n",
       " ('Shoreline', 'Washington'): '54790',\n",
       " ('Mount Prospect', 'Illinois'): '54771',\n",
       " ('Hanford', 'California'): '54686',\n",
       " ('Normal', 'Illinois'): '54664',\n",
       " ('Rosemead', 'California'): '54561',\n",
       " ('Lehi', 'Utah'): '54382',\n",
       " ('Pocatello', 'Idaho'): '54350',\n",
       " ('Highland', 'California'): '54291',\n",
       " ('Novato', 'California'): '54194',\n",
       " ('Port Arthur', 'Texas'): '54135',\n",
       " ('Carson City', 'Nevada'): '54080',\n",
       " ('San Marcos', 'Texas'): '54076',\n",
       " ('Hendersonville', 'Tennessee'): '54068',\n",
       " ('Elyria', 'Ohio'): '53956',\n",
       " ('Revere', 'Massachusetts'): '53756',\n",
       " ('Pflugerville', 'Texas'): '53752',\n",
       " ('Greenwood', 'Indiana'): '53665',\n",
       " ('Bellevue', 'Nebraska'): '53663',\n",
       " ('Wheaton', 'Illinois'): '53648',\n",
       " ('Smyrna', 'Georgia'): '53438',\n",
       " ('Sarasota', 'Florida'): '53326',\n",
       " ('Blue Springs', 'Missouri'): '53294',\n",
       " ('Colton', 'California'): '53243',\n",
       " ('Euless', 'Texas'): '53224',\n",
       " ('Castle Rock', 'Colorado'): '53063',\n",
       " ('Cathedral City', 'California'): '52977',\n",
       " ('Kingsport', 'Tennessee'): '52962',\n",
       " ('Lake Havasu City', 'Arizona'): '52844',\n",
       " ('Pensacola', 'Florida'): '52703',\n",
       " ('Hoboken', 'New Jersey'): '52575',\n",
       " ('Yucaipa', 'California'): '52536',\n",
       " ('Watsonville', 'California'): '52477',\n",
       " ('Richland', 'Washington'): '52413',\n",
       " ('Delano', 'California'): '52403',\n",
       " ('Hoffman Estates', 'Illinois'): '52398',\n",
       " ('Florissant', 'Missouri'): '52363',\n",
       " ('Placentia', 'California'): '52206',\n",
       " ('West New York', 'New Jersey'): '52122',\n",
       " ('Dublin', 'California'): '52105',\n",
       " ('Oak Park', 'Illinois'): '52066',\n",
       " ('Peabody', 'Massachusetts'): '52044',\n",
       " ('Perth Amboy', 'New Jersey'): '51982',\n",
       " ('Battle Creek', 'Michigan'): '51848',\n",
       " ('Bradenton', 'Florida'): '51763',\n",
       " ('Gilroy', 'California'): '51701',\n",
       " ('Milford', 'Connecticut'): '51644',\n",
       " ('Albany', 'Oregon'): '51583',\n",
       " ('Ankeny', 'Iowa'): '51567',\n",
       " ('La Crosse', 'Wisconsin'): '51522',\n",
       " ('Burlington', 'North Carolina'): '51510',\n",
       " ('DeSoto', 'Texas'): '51483',\n",
       " ('Harrisonburg', 'Virginia'): '51395',\n",
       " ('Minnetonka', 'Minnesota'): '51368',\n",
       " ('Elkhart', 'Indiana'): '51265',\n",
       " ('Lakewood', 'Ohio'): '51143',\n",
       " ('Glendora', 'California'): '51074',\n",
       " ('Southaven', 'Mississippi'): '50997',\n",
       " ('Charleston', 'West Virginia'): '50821',\n",
       " ('Joplin', 'Missouri'): '50789',\n",
       " ('Enid', 'Oklahoma'): '50725',\n",
       " ('Palm Beach Gardens', 'Florida'): '50699',\n",
       " ('Brookhaven', 'Georgia'): '50603',\n",
       " ('Plainfield', 'New Jersey'): '50588',\n",
       " ('Grand Island', 'Nebraska'): '50550',\n",
       " ('Palm Desert', 'California'): '50508',\n",
       " ('Huntersville', 'North Carolina'): '50458',\n",
       " ('Tigard', 'Oregon'): '50444',\n",
       " ('Lenexa', 'Kansas'): '50344',\n",
       " ('Saginaw', 'Michigan'): '50303',\n",
       " ('Kentwood', 'Michigan'): '50233',\n",
       " ('Doral', 'Florida'): '50213',\n",
       " ('Apple Valley', 'Minnesota'): '50201',\n",
       " ('Grapevine', 'Texas'): '50195',\n",
       " ('Aliso Viejo', 'California'): '50175',\n",
       " ('Sammamish', 'Washington'): '50169',\n",
       " ('Casa Grande', 'Arizona'): '50111',\n",
       " ('Pinellas Park', 'Florida'): '49998',\n",
       " ('Troy', 'New York'): '49974',\n",
       " ('West Sacramento', 'California'): '49891',\n",
       " ('Burien', 'Washington'): '49858',\n",
       " ('Commerce City', 'Colorado'): '49799',\n",
       " ('Monroe', 'Louisiana'): '49761',\n",
       " ('Cerritos', 'California'): '49707',\n",
       " ('Downers Grove', 'Illinois'): '49670',\n",
       " ('Coral Gables', 'Florida'): '49631',\n",
       " ('Wilson', 'North Carolina'): '49628',\n",
       " ('Niagara Falls', 'New York'): '49468',\n",
       " ('Poway', 'California'): '49417',\n",
       " ('Edina', 'Minnesota'): '49376',\n",
       " ('Cuyahoga Falls', 'Ohio'): '49267',\n",
       " ('Rancho Santa Margarita', 'California'): '49228',\n",
       " ('Harrisburg', 'Pennsylvania'): '49188',\n",
       " ('Huntington', 'West Virginia'): '49177',\n",
       " ('La Mirada', 'California'): '49133',\n",
       " ('Cypress', 'California'): '49087',\n",
       " ('Caldwell', 'Idaho'): '48957',\n",
       " ('Logan', 'Utah'): '48913',\n",
       " ('Galveston', 'Texas'): '48733',\n",
       " ('Sheboygan', 'Wisconsin'): '48725',\n",
       " ('Middletown', 'Ohio'): '48630',\n",
       " ('Murray', 'Utah'): '48612',\n",
       " ('Roswell', 'New Mexico'): '48611',\n",
       " ('Parker', 'Colorado'): '48608',\n",
       " ('Bedford', 'Texas'): '48592',\n",
       " ('East Lansing', 'Michigan'): '48554',\n",
       " ('Methuen', 'Massachusetts'): '48514',\n",
       " ('Covina', 'California'): '48508',\n",
       " ('Alexandria', 'Louisiana'): '48426',\n",
       " ('Olympia', 'Washington'): '48338',\n",
       " ('Euclid', 'Ohio'): '48139',\n",
       " ('Mishawaka', 'Indiana'): '47989',\n",
       " ('Salina', 'Kansas'): '47846',\n",
       " ('Azusa', 'California'): '47842',\n",
       " ('Newark', 'Ohio'): '47777',\n",
       " ('Chesterfield', 'Missouri'): '47749',\n",
       " ('Leesburg', 'Virginia'): '47673',\n",
       " ('Dunwoody', 'Georgia'): '47591',\n",
       " ('Hattiesburg', 'Mississippi'): '47556',\n",
       " ('Roseville', 'Michigan'): '47555',\n",
       " ('Bonita Springs', 'Florida'): '47547',\n",
       " ('Portage', 'Michigan'): '47523',\n",
       " ('St. Louis Park', 'Minnesota'): '47411',\n",
       " ('Collierville', 'Tennessee'): '47333',\n",
       " ('Middletown', 'Connecticut'): '47333',\n",
       " ('Stillwater', 'Oklahoma'): '47186',\n",
       " ('East Providence', 'Rhode Island'): '47149',\n",
       " ('Lawrence', 'Indiana'): '47135',\n",
       " ('Wauwatosa', 'Wisconsin'): '47134',\n",
       " ('Mentor', 'Ohio'): '46979',\n",
       " ('Ceres', 'California'): '46714',\n",
       " ('Cedar Hill', 'Texas'): '46663',\n",
       " ('Mansfield', 'Ohio'): '46454',\n",
       " ('Binghamton', 'New York'): '46444',\n",
       " (\"Coeur d'Alene\", 'Idaho'): '46402',\n",
       " ('San Luis Obispo', 'California'): '46377',\n",
       " ('Minot', 'North Dakota'): '46321',\n",
       " ('Palm Springs', 'California'): '46281',\n",
       " ('Pine Bluff', 'Arkansas'): '46094',\n",
       " ('Texas City', 'Texas'): '46081',\n",
       " ('Summerville', 'South Carolina'): '46074',\n",
       " ('Twin Falls', 'Idaho'): '45981',\n",
       " ('Jeffersonville', 'Indiana'): '45929',\n",
       " ('San Jacinto', 'California'): '45851',\n",
       " ('Madison', 'Alabama'): '45799',\n",
       " ('Altoona', 'Pennsylvania'): '45796',\n",
       " ('Columbus', 'Indiana'): '45775',\n",
       " ('Beavercreek', 'Ohio'): '45712',\n",
       " ('Apopka', 'Florida'): '45587',\n",
       " ('Elmhurst', 'Illinois'): '45556',\n",
       " ('Maricopa', 'Arizona'): '45508',\n",
       " ('Farmington', 'New Mexico'): '45426',\n",
       " ('Glenview', 'Illinois'): '45417',\n",
       " ('Cleveland Heights', 'Ohio'): '45394',\n",
       " ('Draper', 'Utah'): '45285',\n",
       " ('Lincoln', 'California'): '45237',\n",
       " ('Sierra Vista', 'Arizona'): '45129',\n",
       " ('Lacey', 'Washington'): '44919',\n",
       " ('Biloxi', 'Mississippi'): '44820',\n",
       " ('Strongsville', 'Ohio'): '44730',\n",
       " ('Barnstable Town', 'Massachusetts'): '44641',\n",
       " ('Wylie', 'Texas'): '44575',\n",
       " ('Sayreville', 'New Jersey'): '44412',\n",
       " ('Kannapolis', 'North Carolina'): '44359',\n",
       " ('Charlottesville', 'Virginia'): '44349',\n",
       " ('Littleton', 'Colorado'): '44275',\n",
       " ('Titusville', 'Florida'): '44206',\n",
       " ('Hackensack', 'New Jersey'): '44113',\n",
       " ('Newark', 'California'): '44096',\n",
       " ('Pittsfield', 'Massachusetts'): '44057',\n",
       " ('York', 'Pennsylvania'): '43935',\n",
       " ('Lombard', 'Illinois'): '43907',\n",
       " ('Attleboro', 'Massachusetts'): '43886',\n",
       " ('DeKalb', 'Illinois'): '43849',\n",
       " ('Blacksburg', 'Virginia'): '43609',\n",
       " ('Dublin', 'Ohio'): '43607',\n",
       " ('Haltom City', 'Texas'): '43580',\n",
       " ('Lompoc', 'California'): '43509',\n",
       " ('El Centro', 'California'): '43363',\n",
       " ('Danville', 'California'): '43341',\n",
       " ('Jefferson City', 'Missouri'): '43330',\n",
       " ('Cutler Bay', 'Florida'): '43328',\n",
       " ('Oakland Park', 'Florida'): '43286',\n",
       " ('North Miami Beach', 'Florida'): '43250',\n",
       " ('Freeport', 'New York'): '43167',\n",
       " ('Moline', 'Illinois'): '43116',\n",
       " ('Coachella', 'California'): '43092',\n",
       " ('Fort Pierce', 'Florida'): '43074',\n",
       " ('Smyrna', 'Tennessee'): '43060',\n",
       " ('Bountiful', 'Utah'): '43023',\n",
       " ('Fond du Lac', 'Wisconsin'): '42970',\n",
       " ('Everett', 'Massachusetts'): '42935',\n",
       " ('Danville', 'Virginia'): '42907',\n",
       " ('Keller', 'Texas'): '42907',\n",
       " ('Belleville', 'Illinois'): '42895',\n",
       " ('Bell Gardens', 'California'): '42889',\n",
       " ('Cleveland', 'Tennessee'): '42774',\n",
       " ('North Lauderdale', 'Florida'): '42757',\n",
       " ('Fairfield', 'Ohio'): '42635',\n",
       " ('Salem', 'Massachusetts'): '42544',\n",
       " ('Rancho Palos Verdes', 'California'): '42448',\n",
       " ('San Bruno', 'California'): '42443',\n",
       " ('Concord', 'New Hampshire'): '42419',\n",
       " ('Burlington', 'Vermont'): '42284',\n",
       " ('Apex', 'North Carolina'): '42214',\n",
       " ('Midland', 'Michigan'): '42181',\n",
       " ('Altamonte Springs', 'Florida'): '42150',\n",
       " ('Hutchinson', 'Kansas'): '41889',\n",
       " ('Buffalo Grove', 'Illinois'): '41778',\n",
       " ('Urbandale', 'Iowa'): '41776',\n",
       " ('State College', 'Pennsylvania'): '41757',\n",
       " ('Urbana', 'Illinois'): '41752',\n",
       " ('Plainfield', 'Illinois'): '41734',\n",
       " ('Manassas', 'Virginia'): '41705',\n",
       " ('Bartlett', 'Illinois'): '41679',\n",
       " ('Kearny', 'New Jersey'): '41664',\n",
       " ('Oro Valley', 'Arizona'): '41627',\n",
       " ('Findlay', 'Ohio'): '41512',\n",
       " ('Rohnert Park', 'California'): '41398',\n",
       " ('Westfield', 'Massachusetts'): '41301',\n",
       " ('Linden', 'New Jersey'): '41301',\n",
       " ('Sumter', 'South Carolina'): '41190',\n",
       " ('Wilkes-Barre', 'Pennsylvania'): '41108',\n",
       " ('Woonsocket', 'Rhode Island'): '41026',\n",
       " ('Leominster', 'Massachusetts'): '41002',\n",
       " ('Shelton', 'Connecticut'): '40999',\n",
       " ('Brea', 'California'): '40963',\n",
       " ('Covington', 'Kentucky'): '40956',\n",
       " ('Rockwall', 'Texas'): '40922',\n",
       " ('Meridian', 'Mississippi'): '40921',\n",
       " ('Riverton', 'Utah'): '40921',\n",
       " ('St. Cloud', 'Florida'): '40918',\n",
       " ('Quincy', 'Illinois'): '40915',\n",
       " ('Morgan Hill', 'California'): '40836',\n",
       " ('Warren', 'Ohio'): '40768',\n",
       " ('Edmonds', 'Washington'): '40727',\n",
       " ('Burleson', 'Texas'): '40714',\n",
       " ('Beverly', 'Massachusetts'): '40664',\n",
       " ('Mankato', 'Minnesota'): '40641',\n",
       " ('Hagerstown', 'Maryland'): '40612',\n",
       " ('Prescott', 'Arizona'): '40590',\n",
       " ('Campbell', 'California'): '40584',\n",
       " ('Cedar Falls', 'Iowa'): '40566',\n",
       " ('Beaumont', 'California'): '40481',\n",
       " ('La Puente', 'California'): '40435',\n",
       " ('Crystal Lake', 'Illinois'): '40388',\n",
       " ('Fitchburg', 'Massachusetts'): '40383',\n",
       " ('Carol Stream', 'Illinois'): '40379',\n",
       " ('Hickory', 'North Carolina'): '40361',\n",
       " ('Streamwood', 'Illinois'): '40351',\n",
       " ('Norwich', 'Connecticut'): '40347',\n",
       " ('Coppell', 'Texas'): '40342',\n",
       " ('San Gabriel', 'California'): '40275',\n",
       " ('Holyoke', 'Massachusetts'): '40249',\n",
       " ('Bentonville', 'Arkansas'): '40167',\n",
       " ('Florence', 'Alabama'): '40059',\n",
       " ('Peachtree Corners', 'Georgia'): '40059',\n",
       " ('Brentwood', 'Tennessee'): '40021',\n",
       " ('Bozeman', 'Montana'): '39860',\n",
       " ('New Berlin', 'Wisconsin'): '39834',\n",
       " ('Goose Creek', 'South Carolina'): '39823',\n",
       " ('Huntsville', 'Texas'): '39795',\n",
       " ('Prescott Valley', 'Arizona'): '39791',\n",
       " ('Maplewood', 'Minnesota'): '39765',\n",
       " ('Romeoville', 'Illinois'): '39650',\n",
       " ('Duncanville', 'Texas'): '39605',\n",
       " ('Atlantic City', 'New Jersey'): '39551',\n",
       " ('Clovis', 'New Mexico'): '39508',\n",
       " ('The Colony', 'Texas'): '39458',\n",
       " ('Culver City', 'California'): '39428',\n",
       " ('Marlborough', 'Massachusetts'): '39414',\n",
       " ('Hilton Head Island', 'South Carolina'): '39412',\n",
       " ('Moorhead', 'Minnesota'): '39398',\n",
       " ('Calexico', 'California'): '39389',\n",
       " ('Bullhead City', 'Arizona'): '39383',\n",
       " ('Germantown', 'Tennessee'): '39375',\n",
       " ('La Quinta', 'California'): '39331',\n",
       " ('Lancaster', 'Ohio'): '39325',\n",
       " ('Wausau', 'Wisconsin'): '39309',\n",
       " ('Sherman', 'Texas'): '39296',\n",
       " ('Ocoee', 'Florida'): '39172',\n",
       " ('Shakopee', 'Minnesota'): '39167',\n",
       " ('Woburn', 'Massachusetts'): '39083',\n",
       " ('Bremerton', 'Washington'): '39056',\n",
       " ('Rock Island', 'Illinois'): '38877',\n",
       " ('Muskogee', 'Oklahoma'): '38863',\n",
       " ('Cape Girardeau', 'Missouri'): '38816',\n",
       " ('Annapolis', 'Maryland'): '38722',\n",
       " ('Greenacres', 'Florida'): '38696',\n",
       " ('Ormond Beach', 'Florida'): '38661',\n",
       " ('Hallandale Beach', 'Florida'): '38632',\n",
       " ('Stanton', 'California'): '38623',\n",
       " ('Puyallup', 'Washington'): '38609',\n",
       " ('Pacifica', 'California'): '38606',\n",
       " ('Hanover Park', 'Illinois'): '38510',\n",
       " ('Hurst', 'Texas'): '38448',\n",
       " ('Lima', 'Ohio'): '38355',\n",
       " ('Marana', 'Arizona'): '38290',\n",
       " ('Carpentersville', 'Illinois'): '38241',\n",
       " ('Oakley', 'California'): '38194',\n",
       " ('Huber Heights', 'Ohio'): '38142',\n",
       " ('Lancaster', 'Texas'): '38071',\n",
       " ('Montclair', 'California'): '38027',\n",
       " ('Wheeling', 'Illinois'): '38015',\n",
       " ('Brookfield', 'Wisconsin'): '37999',\n",
       " ('Park Ridge', 'Illinois'): '37839',\n",
       " ('Florence', 'South Carolina'): '37792',\n",
       " ('Roy', 'Utah'): '37733',\n",
       " ('Winter Garden', 'Florida'): '37711',\n",
       " ('Chelsea', 'Massachusetts'): '37670',\n",
       " ('Valley Stream', 'New York'): '37659',\n",
       " ('Spartanburg', 'South Carolina'): '37647',\n",
       " ('Lake Oswego', 'Oregon'): '37610',\n",
       " ('Friendswood', 'Texas'): '37587',\n",
       " ('Westerville', 'Ohio'): '37530',\n",
       " ('Northglenn', 'Colorado'): '37499',\n",
       " ('Phenix City', 'Alabama'): '37498',\n",
       " ('Grove City', 'Ohio'): '37490',\n",
       " ('Texarkana', 'Texas'): '37442',\n",
       " ('Addison', 'Illinois'): '37385',\n",
       " ('Dover', 'Delaware'): '37366',\n",
       " ('Lincoln Park', 'Michigan'): '37313',\n",
       " ('Calumet City', 'Illinois'): '37240',\n",
       " ('Muskegon', 'Michigan'): '37213',\n",
       " ('Aventura', 'Florida'): '37199',\n",
       " ('Martinez', 'California'): '37165',\n",
       " ('Greenfield', 'Wisconsin'): '37159',\n",
       " ('Apache Junction', 'Arizona'): '37130',\n",
       " ('Monrovia', 'California'): '37101',\n",
       " ('Weslaco', 'Texas'): '37093',\n",
       " ('Keizer', 'Oregon'): '37064',\n",
       " ('Spanish Fork', 'Utah'): '36956',\n",
       " ('Beloit', 'Wisconsin'): '36888',\n",
       " ('Panama City', 'Florida'): '36877'}"
      ]
     },
     "execution_count": 221,
     "metadata": {},
     "output_type": "execute_result"
    }
   ],
   "source": [
    "import json\n",
    "\n",
    "\n",
    "def get_city_data(filename):\n",
    "    return {(one_city['city'], one_city['state']) : one_city['population']\n",
    "            for one_city in json.load(open(filename))\n",
    "    }\n",
    "\n",
    "get_city_data('../ch07-comprehensions/cities.json')"
   ]
  },
  {
   "cell_type": "code",
   "execution_count": 234,
   "metadata": {},
   "outputs": [],
   "source": [
    "\n",
    "def dict_f_to_c(dict_of_temps):\n",
    "    return {key: (value-32)/1.8\n",
    "            for key, value in dict_of_temps.items()}\n"
   ]
  },
  {
   "cell_type": "code",
   "execution_count": 235,
   "metadata": {},
   "outputs": [
    {
     "data": {
      "text/plain": [
       "{'Paris': 15.0,\n",
       " 'New York': 15.555555555555555,\n",
       " 'Tel Aviv': 25.555555555555554,\n",
       " 'Beijing': 10.555555555555555}"
      ]
     },
     "execution_count": 235,
     "metadata": {},
     "output_type": "execute_result"
    }
   ],
   "source": [
    "temps = {'Paris': 59, 'New York': 60, 'Tel Aviv': 78, 'Beijing':51}\n",
    "\n",
    "dict_f_to_c(temps)"
   ]
  },
  {
   "cell_type": "code",
   "execution_count": 236,
   "metadata": {},
   "outputs": [
    {
     "data": {
      "text/plain": [
       "{'Python workout': {'first': 'Reuven', 'last': 'Lerner', 'price': 60},\n",
       " 'How to decide': {'first': 'Annie', 'last': 'Duke', 'price': 16},\n",
       " 'The Passion Economy': {'first': 'Adam', 'last': 'Davidson', 'price': 30}}"
      ]
     },
     "execution_count": 236,
     "metadata": {},
     "output_type": "execute_result"
    }
   ],
   "source": [
    "books = [('Reuven Lerner', 'Python workout', 60),\n",
    "         ('Annie Duke', 'How to decide', 16),\n",
    "         ('Adam Davidson', 'The Passion Economy', 30)]\n",
    "\n",
    "{title : {'first':name.split()[0], \n",
    "          'last':name.split()[1],\n",
    "          'price':price}\n",
    " for name, title, price in books}"
   ]
  },
  {
   "cell_type": "code",
   "execution_count": null,
   "metadata": {},
   "outputs": [],
   "source": [
    "def currency_conversion(books, new_currency):\n",
    "\n",
    "    return {title: {'first': name.split()[0],\n",
    "                    'last': name.split()[1],\n",
    "                    'price': price * conversions[new_currency]}\n",
    "            for name, title, price in books}\n"
   ]
  }
 ],
 "metadata": {
  "kernelspec": {
   "display_name": "Python 3",
   "language": "python",
   "name": "python3"
  },
  "language_info": {
   "codemirror_mode": {
    "name": "ipython",
    "version": 3
   },
   "file_extension": ".py",
   "mimetype": "text/x-python",
   "name": "python",
   "nbconvert_exporter": "python",
   "pygments_lexer": "ipython3",
   "version": "3.8.5"
  }
 },
 "nbformat": 4,
 "nbformat_minor": 4
}
