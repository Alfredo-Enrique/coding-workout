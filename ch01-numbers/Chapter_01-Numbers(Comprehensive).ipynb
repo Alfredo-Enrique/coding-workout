{
 "cells": [
  {
   "cell_type": "markdown",
   "metadata": {},
   "source": [
    "Exercise #1 Guess the Number:\n",
    "- Generate a random integer from 1 to 100.\n",
    "- Ask the user repeatedly to guess the number.\n",
    "- Until they guess correctly, tell them to guess higher or lower."
   ]
  },
  {
   "cell_type": "code",
   "execution_count": null,
   "metadata": {},
   "outputs": [],
   "source": [
    "#!/usr/bin/env python3\n",
    "\"\"\"Solution to chapter 1, exercise 1: Guessing game\"\"\"\n",
    "import random\n",
    "\n",
    "def guessing_game():\n",
    "    \"\"\"Generate a random integer from 1 to 100.\n",
    "\n",
    "Ask the user repeatedly to guess the number.\n",
    "Until they guess correctly, tell them to guess higher or lower.\n",
    "\"\"\"\n",
    "    answer = random.randint(0, 100)\n",
    "\n",
    "    while True:\n",
    "        user_guess = int(input('What is your guess? '))\n",
    "\n",
    "        if user_guess == answer:\n",
    "            print(f'Right!  The answer is {user_guess}')\n",
    "            break\n",
    "\n",
    "        if user_guess < answer:\n",
    "            print(f'Your guess of {user_guess} is too low!')\n",
    "\n",
    "        else:\n",
    "            print(f'Your guess of {user_guess} is too high!')\n"
   ]
  },
  {
   "cell_type": "markdown",
   "metadata": {},
   "source": [
    "Exercise #1: Variation 1:\n",
    "- Generate a random integer from 1 to 100.\n",
    "- Ask the user repeatedly to guess the number.\n",
    "- Provide three guess attempts\n",
    "- Until they guess correctly, tell them to guess higher or lower\n"
   ]
  },
  {
   "cell_type": "code",
   "execution_count": null,
   "metadata": {},
   "outputs": [],
   "source": [
    "#!/usr/bin/env python3\n",
    "\"\"\"Solution to chapter 1, exercise 1, beyond 1: Guessing game, only 3 chances\"\"\"\n",
    "import random\n",
    "\n",
    "\n",
    "def guessing_game():\n",
    "    \"\"\"Generate a random integer from 1 to 100.\n",
    "\n",
    "Ask the user repeatedly to guess the number.\n",
    "Until they guess correctly, tell them to guess higher or lower.\n",
    "If they take more than three times to guess, the program\n",
    "tells them that they're out of guesses.\n",
    "\"\"\"\n",
    "    answer = random.randint(0, 100)\n",
    "    remaining_guesses = 2\n",
    "\n",
    "    while remaining_guesses >= 0:\n",
    "        remaining_guesses -= 1\n",
    "        user_guess = int(input('What is your guess? '))\n",
    "\n",
    "        if user_guess == answer:\n",
    "            print(f'Right!  The answer is {user_guess}')\n",
    "            break\n",
    "\n",
    "        if user_guess < answer:\n",
    "            print(f'Your guess of {user_guess} is too low!')\n",
    "\n",
    "        else:\n",
    "            print(f'Your guess of {user_guess} is too high!')\n",
    "\n",
    "    else:\n",
    "        print('Your three chances are up!')\n"
   ]
  }
 ],
 "metadata": {
  "language_info": {
   "name": "python"
  }
 },
 "nbformat": 4,
 "nbformat_minor": 2
}
